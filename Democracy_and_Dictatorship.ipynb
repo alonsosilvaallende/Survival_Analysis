{
  "nbformat": 4,
  "nbformat_minor": 0,
  "metadata": {
    "colab": {
      "name": "Democracy_and_Dictatorship.ipynb",
      "version": "0.3.2",
      "provenance": []
    },
    "kernelspec": {
      "name": "python3",
      "display_name": "Python 3"
    }
  },
  "cells": [
    {
      "cell_type": "markdown",
      "metadata": {
        "id": "sOcfjAcikjq7",
        "colab_type": "text"
      },
      "source": [
        "# Survival Analysis: Democracy and dictatorship \n",
        "[Alonso Silva](http://www.dim.uchile.cl/~alsilva/) [(@alonsosilva)](https://twitter.com/alonsosilva) | 2019/09/09"
      ]
    },
    {
      "cell_type": "markdown",
      "metadata": {
        "id": "gM3U9hFyrzzU",
        "colab_type": "text"
      },
      "source": [
        "The objective of this notebook is to estimate the probability of survival of a government since it took office until it was disolved.\n",
        "\n",
        "We will perform this survival analysis with [lifelines](https://lifelines.readthedocs.io/en/latest/)"
      ]
    },
    {
      "cell_type": "code",
      "metadata": {
        "id": "q_kCFoy99po-",
        "colab_type": "code",
        "outputId": "bb2d8b4f-129f-4f2f-d6cb-85f56fceb385",
        "colab": {
          "base_uri": "https://localhost:8080/",
          "height": 284
        }
      },
      "source": [
        "# install lifelines\n",
        "!pip install lifelines"
      ],
      "execution_count": 1,
      "outputs": [
        {
          "output_type": "stream",
          "text": [
            "Requirement already satisfied: lifelines in /usr/local/lib/python3.6/dist-packages (0.22.4)\n",
            "Requirement already satisfied: autograd-gamma>=0.3 in /usr/local/lib/python3.6/dist-packages (from lifelines) (0.4.1)\n",
            "Requirement already satisfied: scipy>=1.0 in /usr/local/lib/python3.6/dist-packages (from lifelines) (1.3.1)\n",
            "Requirement already satisfied: numpy>=1.14.0 in /usr/local/lib/python3.6/dist-packages (from lifelines) (1.16.5)\n",
            "Requirement already satisfied: matplotlib>=3.0 in /usr/local/lib/python3.6/dist-packages (from lifelines) (3.0.3)\n",
            "Requirement already satisfied: pandas>=0.23.0 in /usr/local/lib/python3.6/dist-packages (from lifelines) (0.24.2)\n",
            "Requirement already satisfied: autograd>=1.3 in /usr/local/lib/python3.6/dist-packages (from lifelines) (1.3)\n",
            "Requirement already satisfied: kiwisolver>=1.0.1 in /usr/local/lib/python3.6/dist-packages (from matplotlib>=3.0->lifelines) (1.1.0)\n",
            "Requirement already satisfied: pyparsing!=2.0.4,!=2.1.2,!=2.1.6,>=2.0.1 in /usr/local/lib/python3.6/dist-packages (from matplotlib>=3.0->lifelines) (2.4.2)\n",
            "Requirement already satisfied: python-dateutil>=2.1 in /usr/local/lib/python3.6/dist-packages (from matplotlib>=3.0->lifelines) (2.5.3)\n",
            "Requirement already satisfied: cycler>=0.10 in /usr/local/lib/python3.6/dist-packages (from matplotlib>=3.0->lifelines) (0.10.0)\n",
            "Requirement already satisfied: pytz>=2011k in /usr/local/lib/python3.6/dist-packages (from pandas>=0.23.0->lifelines) (2018.9)\n",
            "Requirement already satisfied: future>=0.15.2 in /usr/local/lib/python3.6/dist-packages (from autograd>=1.3->lifelines) (0.16.0)\n",
            "Requirement already satisfied: setuptools in /usr/local/lib/python3.6/dist-packages (from kiwisolver>=1.0.1->matplotlib>=3.0->lifelines) (41.2.0)\n",
            "Requirement already satisfied: six>=1.5 in /usr/local/lib/python3.6/dist-packages (from python-dateutil>=2.1->matplotlib>=3.0->lifelines) (1.12.0)\n"
          ],
          "name": "stdout"
        }
      ]
    },
    {
      "cell_type": "code",
      "metadata": {
        "id": "sNeplyo-AWaU",
        "colab_type": "code",
        "colab": {}
      },
      "source": [
        "import matplotlib.pyplot as plt\n",
        "import pandas as pd\n",
        "%matplotlib inline"
      ],
      "execution_count": 0,
      "outputs": []
    },
    {
      "cell_type": "code",
      "metadata": {
        "id": "mHgbzFrp9veW",
        "colab_type": "code",
        "colab": {}
      },
      "source": [
        "# download dataset\n",
        "from lifelines.datasets import load_dd\n",
        "\n",
        "df = load_dd()"
      ],
      "execution_count": 0,
      "outputs": []
    },
    {
      "cell_type": "markdown",
      "metadata": {
        "id": "5V1TxZV8k-wr",
        "colab_type": "text"
      },
      "source": [
        "* Classification of political regimes as democracy and dictatorship. \n",
        "\n",
        "* Classification of democracies as \n",
        "  + parliamentary, \n",
        "  + semi-presidential (mixed), and \n",
        "  + presidential. \n",
        "  \n",
        "* Classification of dictatorships as \n",
        "  + military, \n",
        "  + civilian, and \n",
        "  + royal. \n",
        "  \n",
        "Coverage: 202 countries, from 1946 or year of independence to 2008.\n",
        "\n",
        "**References**\n",
        "\n",
        "José Antonio Cheibub, Jennifer Gandhi, and James Raymond Vreeland. “Democracy and Dictatorship Revisited.” Public Choice, vol. 143, no. 2-1, pp. 67-101, 2010."
      ]
    },
    {
      "cell_type": "code",
      "metadata": {
        "id": "Gjo-4_UQmqTQ",
        "colab_type": "code",
        "colab": {
          "base_uri": "https://localhost:8080/",
          "height": 610
        },
        "outputId": "c43e0ef9-28fa-4f13-b2e7-27c865a6074b"
      },
      "source": [
        "df.tail(10)"
      ],
      "execution_count": 4,
      "outputs": [
        {
          "output_type": "execute_result",
          "data": {
            "text/html": [
              "<div>\n",
              "<style scoped>\n",
              "    .dataframe tbody tr th:only-of-type {\n",
              "        vertical-align: middle;\n",
              "    }\n",
              "\n",
              "    .dataframe tbody tr th {\n",
              "        vertical-align: top;\n",
              "    }\n",
              "\n",
              "    .dataframe thead th {\n",
              "        text-align: right;\n",
              "    }\n",
              "</style>\n",
              "<table border=\"1\" class=\"dataframe\">\n",
              "  <thead>\n",
              "    <tr style=\"text-align: right;\">\n",
              "      <th></th>\n",
              "      <th>ctryname</th>\n",
              "      <th>cowcode2</th>\n",
              "      <th>politycode</th>\n",
              "      <th>un_region_name</th>\n",
              "      <th>un_continent_name</th>\n",
              "      <th>ehead</th>\n",
              "      <th>leaderspellreg</th>\n",
              "      <th>democracy</th>\n",
              "      <th>regime</th>\n",
              "      <th>start_year</th>\n",
              "      <th>duration</th>\n",
              "      <th>observed</th>\n",
              "    </tr>\n",
              "  </thead>\n",
              "  <tbody>\n",
              "    <tr>\n",
              "      <th>1798</th>\n",
              "      <td>Yugoslavia</td>\n",
              "      <td>345</td>\n",
              "      <td>345.0</td>\n",
              "      <td>Southern Europe</td>\n",
              "      <td>Europe</td>\n",
              "      <td>Stipe Suvar</td>\n",
              "      <td>Stipe Suvar.Yugoslavia.1988.1988.Civilian Dict</td>\n",
              "      <td>Non-democracy</td>\n",
              "      <td>Civilian Dict</td>\n",
              "      <td>1988</td>\n",
              "      <td>1</td>\n",
              "      <td>1</td>\n",
              "    </tr>\n",
              "    <tr>\n",
              "      <th>1799</th>\n",
              "      <td>Yugoslavia</td>\n",
              "      <td>345</td>\n",
              "      <td>345.0</td>\n",
              "      <td>Southern Europe</td>\n",
              "      <td>Europe</td>\n",
              "      <td>Milan Pancevski</td>\n",
              "      <td>Milan Pancevski.Yugoslavia.1989.1989.Civilian ...</td>\n",
              "      <td>Non-democracy</td>\n",
              "      <td>Civilian Dict</td>\n",
              "      <td>1989</td>\n",
              "      <td>1</td>\n",
              "      <td>1</td>\n",
              "    </tr>\n",
              "    <tr>\n",
              "      <th>1800</th>\n",
              "      <td>Yugoslavia</td>\n",
              "      <td>345</td>\n",
              "      <td>345.0</td>\n",
              "      <td>Southern Europe</td>\n",
              "      <td>Europe</td>\n",
              "      <td>Borisav Jovic</td>\n",
              "      <td>Borisav Jovic.Yugoslavia.1990.1990.Civilian Dict</td>\n",
              "      <td>Non-democracy</td>\n",
              "      <td>Civilian Dict</td>\n",
              "      <td>1990</td>\n",
              "      <td>1</td>\n",
              "      <td>0</td>\n",
              "    </tr>\n",
              "    <tr>\n",
              "      <th>1801</th>\n",
              "      <td>Zambia</td>\n",
              "      <td>551</td>\n",
              "      <td>551.0</td>\n",
              "      <td>Eastern Africa</td>\n",
              "      <td>Africa</td>\n",
              "      <td>Kenneth Kaunda</td>\n",
              "      <td>Kenneth Kaunda.Zambia.1964.1990.Civilian Dict</td>\n",
              "      <td>Non-democracy</td>\n",
              "      <td>Civilian Dict</td>\n",
              "      <td>1964</td>\n",
              "      <td>27</td>\n",
              "      <td>1</td>\n",
              "    </tr>\n",
              "    <tr>\n",
              "      <th>1802</th>\n",
              "      <td>Zambia</td>\n",
              "      <td>551</td>\n",
              "      <td>551.0</td>\n",
              "      <td>Eastern Africa</td>\n",
              "      <td>Africa</td>\n",
              "      <td>Frederick Chiluba</td>\n",
              "      <td>Frederick Chiluba.Zambia.1991.2001.Civilian Dict</td>\n",
              "      <td>Non-democracy</td>\n",
              "      <td>Civilian Dict</td>\n",
              "      <td>1991</td>\n",
              "      <td>11</td>\n",
              "      <td>1</td>\n",
              "    </tr>\n",
              "    <tr>\n",
              "      <th>1803</th>\n",
              "      <td>Zambia</td>\n",
              "      <td>551</td>\n",
              "      <td>551.0</td>\n",
              "      <td>Eastern Africa</td>\n",
              "      <td>Africa</td>\n",
              "      <td>Levy Patrick Mwanawasa</td>\n",
              "      <td>Levy Patrick Mwanawasa.Zambia.2002.2007.Civili...</td>\n",
              "      <td>Non-democracy</td>\n",
              "      <td>Civilian Dict</td>\n",
              "      <td>2002</td>\n",
              "      <td>6</td>\n",
              "      <td>1</td>\n",
              "    </tr>\n",
              "    <tr>\n",
              "      <th>1804</th>\n",
              "      <td>Zambia</td>\n",
              "      <td>551</td>\n",
              "      <td>551.0</td>\n",
              "      <td>Eastern Africa</td>\n",
              "      <td>Africa</td>\n",
              "      <td>Rupiah Bwezani Banda</td>\n",
              "      <td>Rupiah Bwezani Banda.Zambia.2008.2008.Civilian...</td>\n",
              "      <td>Non-democracy</td>\n",
              "      <td>Civilian Dict</td>\n",
              "      <td>2008</td>\n",
              "      <td>1</td>\n",
              "      <td>0</td>\n",
              "    </tr>\n",
              "    <tr>\n",
              "      <th>1805</th>\n",
              "      <td>Zimbabwe</td>\n",
              "      <td>552</td>\n",
              "      <td>552.0</td>\n",
              "      <td>Eastern Africa</td>\n",
              "      <td>Africa</td>\n",
              "      <td>Ian Smith</td>\n",
              "      <td>Ian Smith.Zimbabwe.1965.1978.Civilian Dict</td>\n",
              "      <td>Non-democracy</td>\n",
              "      <td>Civilian Dict</td>\n",
              "      <td>1965</td>\n",
              "      <td>14</td>\n",
              "      <td>1</td>\n",
              "    </tr>\n",
              "    <tr>\n",
              "      <th>1806</th>\n",
              "      <td>Zimbabwe</td>\n",
              "      <td>552</td>\n",
              "      <td>552.0</td>\n",
              "      <td>Eastern Africa</td>\n",
              "      <td>Africa</td>\n",
              "      <td>Abel Muzorewa</td>\n",
              "      <td>Abel Muzorewa.Zimbabwe.1979.1979.Civilian Dict</td>\n",
              "      <td>Non-democracy</td>\n",
              "      <td>Civilian Dict</td>\n",
              "      <td>1979</td>\n",
              "      <td>1</td>\n",
              "      <td>1</td>\n",
              "    </tr>\n",
              "    <tr>\n",
              "      <th>1807</th>\n",
              "      <td>Zimbabwe</td>\n",
              "      <td>552</td>\n",
              "      <td>552.0</td>\n",
              "      <td>Eastern Africa</td>\n",
              "      <td>Africa</td>\n",
              "      <td>Robert Mugabe</td>\n",
              "      <td>Robert Mugabe.Zimbabwe.1980.2008.Civilian Dict</td>\n",
              "      <td>Non-democracy</td>\n",
              "      <td>Civilian Dict</td>\n",
              "      <td>1980</td>\n",
              "      <td>29</td>\n",
              "      <td>0</td>\n",
              "    </tr>\n",
              "  </tbody>\n",
              "</table>\n",
              "</div>"
            ],
            "text/plain": [
              "        ctryname  cowcode2  politycode  ... start_year duration observed\n",
              "1798  Yugoslavia       345       345.0  ...       1988        1        1\n",
              "1799  Yugoslavia       345       345.0  ...       1989        1        1\n",
              "1800  Yugoslavia       345       345.0  ...       1990        1        0\n",
              "1801      Zambia       551       551.0  ...       1964       27        1\n",
              "1802      Zambia       551       551.0  ...       1991       11        1\n",
              "1803      Zambia       551       551.0  ...       2002        6        1\n",
              "1804      Zambia       551       551.0  ...       2008        1        0\n",
              "1805    Zimbabwe       552       552.0  ...       1965       14        1\n",
              "1806    Zimbabwe       552       552.0  ...       1979        1        1\n",
              "1807    Zimbabwe       552       552.0  ...       1980       29        0\n",
              "\n",
              "[10 rows x 12 columns]"
            ]
          },
          "metadata": {
            "tags": []
          },
          "execution_count": 4
        }
      ]
    },
    {
      "cell_type": "code",
      "metadata": {
        "id": "T0kAdJsP-Sft",
        "colab_type": "code",
        "colab": {}
      },
      "source": [
        "T = df['duration']\n",
        "C = df['observed']"
      ],
      "execution_count": 0,
      "outputs": []
    },
    {
      "cell_type": "code",
      "metadata": {
        "id": "4aAauzdF-npb",
        "colab_type": "code",
        "outputId": "4edba680-ec2c-4c6a-f5b7-d86eace09fbf",
        "colab": {
          "base_uri": "https://localhost:8080/",
          "height": 458
        }
      },
      "source": [
        "from lifelines import KaplanMeierFitter\n",
        "kmf = KaplanMeierFitter()\n",
        "kmf.fit(T,C)\n",
        "plt.figure(figsize=(7,7))\n",
        "ax = plt.subplot(111)\n",
        "kmf.plot(ax=ax)\n",
        "plt.title('Probability of government survival vs number of years')\n",
        "plt.xlabel('Time (in years)')\n",
        "plt.ylabel('Estimated probability of government survival')\n",
        "plt.show()"
      ],
      "execution_count": 6,
      "outputs": [
        {
          "output_type": "display_data",
          "data": {
            "image/png": "[encoded data removed]",
            "text/plain": [
              "<Figure size 504x504 with 1 Axes>"
            ]
          },
          "metadata": {
            "tags": []
          }
        }
      ]
    },
    {
      "cell_type": "code",
      "metadata": {
        "id": "3bt_f2fLn9Wu",
        "colab_type": "code",
        "colab": {
          "base_uri": "https://localhost:8080/",
          "height": 458
        },
        "outputId": "e9f3fafa-afbb-49e6-871d-197aa0fcca4b"
      },
      "source": [
        "plt.figure(figsize=(7,7))\n",
        "ax = plt.subplot(111)\n",
        "\n",
        "for r in df['democracy'].unique():\n",
        "  ix = df['democracy'] == r\n",
        "  kmf.fit(T.loc[ix], C.loc[ix], label=r)\n",
        "  kmf.plot(ax=ax)\n",
        "plt.title('Estimated probability of government survival vs number of years')\n",
        "plt.xlabel('Time (in years)')\n",
        "plt.ylabel('Estimated probability of government survival')\n",
        "plt.show()"
      ],
      "execution_count": 7,
      "outputs": [
        {
          "output_type": "display_data",
          "data": {
            "image/png": "[encoded data removed]",
            "text/plain": [
              "<Figure size 504x504 with 1 Axes>"
            ]
          },
          "metadata": {
            "tags": []
          }
        }
      ]
    },
    {
      "cell_type": "code",
      "metadata": {
        "id": "7gpFsJDG_qpr",
        "colab_type": "code",
        "outputId": "f332c8ab-ba62-480e-bbf0-7ad14cdfec20",
        "colab": {
          "base_uri": "https://localhost:8080/",
          "height": 458
        }
      },
      "source": [
        "plt.figure(figsize=(7,7))\n",
        "ax = plt.subplot(111)\n",
        "\n",
        "for r in df['regime'].unique():\n",
        "  ix = df['regime'] == r\n",
        "  kmf.fit(T.loc[ix], C.loc[ix], label=r)\n",
        "  kmf.plot(ax=ax)\n",
        "plt.title('Probability of government survival vs number of years')\n",
        "plt.xlabel('Time (in years)')\n",
        "plt.ylabel('Estimated probability of government survival')\n",
        "plt.show()"
      ],
      "execution_count": 8,
      "outputs": [
        {
          "output_type": "display_data",
          "data": {
            "image/png": "[encoded data removed]",
            "text/plain": [
              "<Figure size 504x504 with 1 Axes>"
            ]
          },
          "metadata": {
            "tags": []
          }
        }
      ]
    },
    {
      "cell_type": "code",
      "metadata": {
        "id": "RynV7Xk_WO7X",
        "colab_type": "code",
        "outputId": "1d91fc7d-1527-47cf-8ba0-bfb0252a2e4b",
        "colab": {
          "base_uri": "https://localhost:8080/",
          "height": 458
        }
      },
      "source": [
        "plt.figure(figsize=(7,7))\n",
        "ax = plt.subplot(111)\n",
        "\n",
        "for r in df['un_continent_name'].unique():\n",
        "  ix = df['un_continent_name'] == r\n",
        "  kmf.fit(T.loc[ix], C.loc[ix], label=r)\n",
        "  kmf.plot(ax=ax)\n",
        "plt.title('Probability of government survival vs number of years')\n",
        "plt.xlabel('Time (in years)')\n",
        "plt.ylabel('Estimated probability of government survival')\n",
        "plt.show()"
      ],
      "execution_count": 9,
      "outputs": [
        {
          "output_type": "display_data",
          "data": {
            "image/png": "[encoded data removed]",
            "text/plain": [
              "<Figure size 504x504 with 1 Axes>"
            ]
          },
          "metadata": {
            "tags": []
          }
        }
      ]
    },
    {
      "cell_type": "code",
      "metadata": {
        "id": "5spiaBOxT7-P",
        "colab_type": "code",
        "outputId": "7da32c34-a6c3-48cb-efbc-44b548a8086b",
        "colab": {
          "base_uri": "https://localhost:8080/",
          "height": 141
        }
      },
      "source": [
        "df['un_region_name'].unique()"
      ],
      "execution_count": 10,
      "outputs": [
        {
          "output_type": "execute_result",
          "data": {
            "text/plain": [
              "array(['Southern Asia', 'Southern Europe', 'Northern Africa',\n",
              "       'Middle Africa', 'Caribbean', 'South America', 'Western Asia',\n",
              "       'Australia and New Zealand', 'Western Europe', 'Eastern Europe',\n",
              "       'Central America', 'Western Africa', 'Southern Africa',\n",
              "       'South-Eastern Asia', 'Eastern Africa', 'Northern America',\n",
              "       'Eastern Asia', 'Northern Europe', 'Melanesia', 'Central Asia',\n",
              "       'Micronesia', 'Polynesia'], dtype=object)"
            ]
          },
          "metadata": {
            "tags": []
          },
          "execution_count": 10
        }
      ]
    },
    {
      "cell_type": "code",
      "metadata": {
        "id": "Mt4TgltMB26r",
        "colab_type": "code",
        "colab": {}
      },
      "source": [
        "ix_na = df['un_region_name'] == 'Northern America'\n",
        "ix_sa = df['un_region_name'] == 'South America'\n",
        "ix_we = df['un_region_name'] == 'Western Europe'\n",
        "ix_ee = df['un_region_name'] == 'Eastern Europe'"
      ],
      "execution_count": 0,
      "outputs": []
    },
    {
      "cell_type": "code",
      "metadata": {
        "id": "jX5ZwVaxDUp6",
        "colab_type": "code",
        "outputId": "99321f19-c530-490b-e946-205c087c718e",
        "colab": {
          "base_uri": "https://localhost:8080/",
          "height": 458
        }
      },
      "source": [
        "kmf_na = KaplanMeierFitter()\n",
        "kmf_sa = KaplanMeierFitter()\n",
        "kmf_we = KaplanMeierFitter()\n",
        "kmf_ee = KaplanMeierFitter()\n",
        "\n",
        "kmf_na.fit(T.loc[ix_na], C.loc[ix_na], label='Northern America')\n",
        "kmf_sa.fit(T.loc[ix_sa], C.loc[ix_sa], label='South America')\n",
        "kmf_we.fit(T.loc[ix_we], C.loc[ix_we], label='Western Europe')\n",
        "kmf_ee.fit(T.loc[ix_ee], C.loc[ix_ee], label='Eastern Europe')\n",
        "\n",
        "plt.figure(figsize=(7,7))\n",
        "ax = plt.subplot(111)\n",
        "kmf_na.plot(ax=ax)\n",
        "kmf_sa.plot(ax=ax)\n",
        "kmf_we.plot(ax=ax)\n",
        "kmf_ee.plot(ax=ax)\n",
        "plt.title('Probability of government survival vs number of years')\n",
        "plt.xlabel('Time (in years)')\n",
        "plt.ylabel('Estimated probability of government survival')\n",
        "plt.show()"
      ],
      "execution_count": 12,
      "outputs": [
        {
          "output_type": "display_data",
          "data": {
            "image/png": "[encoded data removed]",
            "text/plain": [
              "<Figure size 504x504 with 1 Axes>"
            ]
          },
          "metadata": {
            "tags": []
          }
        }
      ]
    },
    {
      "cell_type": "code",
      "metadata": {
        "id": "IX_tlpY2Tmh6",
        "colab_type": "code",
        "outputId": "c41585e6-d7b1-4f7d-e448-1fad5a8ca0fb",
        "colab": {
          "base_uri": "https://localhost:8080/",
          "height": 747
        }
      },
      "source": [
        "df.query('ctryname == \"Chile\"')"
      ],
      "execution_count": 13,
      "outputs": [
        {
          "output_type": "execute_result",
          "data": {
            "text/html": [
              "<div>\n",
              "<style scoped>\n",
              "    .dataframe tbody tr th:only-of-type {\n",
              "        vertical-align: middle;\n",
              "    }\n",
              "\n",
              "    .dataframe tbody tr th {\n",
              "        vertical-align: top;\n",
              "    }\n",
              "\n",
              "    .dataframe thead th {\n",
              "        text-align: right;\n",
              "    }\n",
              "</style>\n",
              "<table border=\"1\" class=\"dataframe\">\n",
              "  <thead>\n",
              "    <tr style=\"text-align: right;\">\n",
              "      <th></th>\n",
              "      <th>ctryname</th>\n",
              "      <th>cowcode2</th>\n",
              "      <th>politycode</th>\n",
              "      <th>un_region_name</th>\n",
              "      <th>un_continent_name</th>\n",
              "      <th>ehead</th>\n",
              "      <th>leaderspellreg</th>\n",
              "      <th>democracy</th>\n",
              "      <th>regime</th>\n",
              "      <th>start_year</th>\n",
              "      <th>duration</th>\n",
              "      <th>observed</th>\n",
              "    </tr>\n",
              "  </thead>\n",
              "  <tbody>\n",
              "    <tr>\n",
              "      <th>290</th>\n",
              "      <td>Chile</td>\n",
              "      <td>155</td>\n",
              "      <td>155.0</td>\n",
              "      <td>South America</td>\n",
              "      <td>Americas</td>\n",
              "      <td>Gabriel Gonzalez Videla</td>\n",
              "      <td>Gabriel Gonzalez Videla.Chile.1946.1951.Presid...</td>\n",
              "      <td>Democracy</td>\n",
              "      <td>Presidential Dem</td>\n",
              "      <td>1946</td>\n",
              "      <td>6</td>\n",
              "      <td>1</td>\n",
              "    </tr>\n",
              "    <tr>\n",
              "      <th>291</th>\n",
              "      <td>Chile</td>\n",
              "      <td>155</td>\n",
              "      <td>155.0</td>\n",
              "      <td>South America</td>\n",
              "      <td>Americas</td>\n",
              "      <td>Carlos Ibanez del Campo</td>\n",
              "      <td>Carlos Ibanez del Campo.Chile.1952.1957.Presid...</td>\n",
              "      <td>Democracy</td>\n",
              "      <td>Presidential Dem</td>\n",
              "      <td>1952</td>\n",
              "      <td>6</td>\n",
              "      <td>1</td>\n",
              "    </tr>\n",
              "    <tr>\n",
              "      <th>292</th>\n",
              "      <td>Chile</td>\n",
              "      <td>155</td>\n",
              "      <td>155.0</td>\n",
              "      <td>South America</td>\n",
              "      <td>Americas</td>\n",
              "      <td>Jorge Alessandri Rodriguez</td>\n",
              "      <td>Jorge Alessandri Rodriguez.Chile.1958.1963.Pre...</td>\n",
              "      <td>Democracy</td>\n",
              "      <td>Presidential Dem</td>\n",
              "      <td>1958</td>\n",
              "      <td>6</td>\n",
              "      <td>1</td>\n",
              "    </tr>\n",
              "    <tr>\n",
              "      <th>293</th>\n",
              "      <td>Chile</td>\n",
              "      <td>155</td>\n",
              "      <td>155.0</td>\n",
              "      <td>South America</td>\n",
              "      <td>Americas</td>\n",
              "      <td>Eduardo Frei Montalva</td>\n",
              "      <td>Eduardo Frei Montalva.Chile.1964.1969.Presiden...</td>\n",
              "      <td>Democracy</td>\n",
              "      <td>Presidential Dem</td>\n",
              "      <td>1964</td>\n",
              "      <td>6</td>\n",
              "      <td>1</td>\n",
              "    </tr>\n",
              "    <tr>\n",
              "      <th>294</th>\n",
              "      <td>Chile</td>\n",
              "      <td>155</td>\n",
              "      <td>155.0</td>\n",
              "      <td>South America</td>\n",
              "      <td>Americas</td>\n",
              "      <td>Salvador Allende Gossens</td>\n",
              "      <td>Salvador Allende Gossens.Chile.1970.1972.Presi...</td>\n",
              "      <td>Democracy</td>\n",
              "      <td>Presidential Dem</td>\n",
              "      <td>1970</td>\n",
              "      <td>3</td>\n",
              "      <td>0</td>\n",
              "    </tr>\n",
              "    <tr>\n",
              "      <th>295</th>\n",
              "      <td>Chile</td>\n",
              "      <td>155</td>\n",
              "      <td>155.0</td>\n",
              "      <td>South America</td>\n",
              "      <td>Americas</td>\n",
              "      <td>Augusto Pinochet Ugarte</td>\n",
              "      <td>Augusto Pinochet Ugarte.Chile.1973.1989.Milita...</td>\n",
              "      <td>Non-democracy</td>\n",
              "      <td>Military Dict</td>\n",
              "      <td>1973</td>\n",
              "      <td>17</td>\n",
              "      <td>1</td>\n",
              "    </tr>\n",
              "    <tr>\n",
              "      <th>296</th>\n",
              "      <td>Chile</td>\n",
              "      <td>155</td>\n",
              "      <td>155.0</td>\n",
              "      <td>South America</td>\n",
              "      <td>Americas</td>\n",
              "      <td>Patricio Aylwin Azacar</td>\n",
              "      <td>Patricio Aylwin Azacar.Chile.1990.1993.Preside...</td>\n",
              "      <td>Democracy</td>\n",
              "      <td>Presidential Dem</td>\n",
              "      <td>1990</td>\n",
              "      <td>4</td>\n",
              "      <td>1</td>\n",
              "    </tr>\n",
              "    <tr>\n",
              "      <th>297</th>\n",
              "      <td>Chile</td>\n",
              "      <td>155</td>\n",
              "      <td>155.0</td>\n",
              "      <td>South America</td>\n",
              "      <td>Americas</td>\n",
              "      <td>Eduardo Frei Ruiz-Tagle</td>\n",
              "      <td>Eduardo Frei Ruiz-Tagle.Chile.1994.1999.Presid...</td>\n",
              "      <td>Democracy</td>\n",
              "      <td>Presidential Dem</td>\n",
              "      <td>1994</td>\n",
              "      <td>6</td>\n",
              "      <td>1</td>\n",
              "    </tr>\n",
              "    <tr>\n",
              "      <th>298</th>\n",
              "      <td>Chile</td>\n",
              "      <td>155</td>\n",
              "      <td>155.0</td>\n",
              "      <td>South America</td>\n",
              "      <td>Americas</td>\n",
              "      <td>Ricardo Froilan Lagos Escobar</td>\n",
              "      <td>Ricardo Froilan Lagos Escobar.Chile.2000.2005....</td>\n",
              "      <td>Democracy</td>\n",
              "      <td>Presidential Dem</td>\n",
              "      <td>2000</td>\n",
              "      <td>6</td>\n",
              "      <td>1</td>\n",
              "    </tr>\n",
              "    <tr>\n",
              "      <th>299</th>\n",
              "      <td>Chile</td>\n",
              "      <td>155</td>\n",
              "      <td>155.0</td>\n",
              "      <td>South America</td>\n",
              "      <td>Americas</td>\n",
              "      <td>Verï¿½nica Michelle Bachelet Jeria</td>\n",
              "      <td>Verï¿½nica Michelle Bachelet Jeria.Chile.2006....</td>\n",
              "      <td>Democracy</td>\n",
              "      <td>Presidential Dem</td>\n",
              "      <td>2006</td>\n",
              "      <td>3</td>\n",
              "      <td>0</td>\n",
              "    </tr>\n",
              "  </tbody>\n",
              "</table>\n",
              "</div>"
            ],
            "text/plain": [
              "    ctryname  cowcode2  politycode  ... start_year duration observed\n",
              "290    Chile       155       155.0  ...       1946        6        1\n",
              "291    Chile       155       155.0  ...       1952        6        1\n",
              "292    Chile       155       155.0  ...       1958        6        1\n",
              "293    Chile       155       155.0  ...       1964        6        1\n",
              "294    Chile       155       155.0  ...       1970        3        0\n",
              "295    Chile       155       155.0  ...       1973       17        1\n",
              "296    Chile       155       155.0  ...       1990        4        1\n",
              "297    Chile       155       155.0  ...       1994        6        1\n",
              "298    Chile       155       155.0  ...       2000        6        1\n",
              "299    Chile       155       155.0  ...       2006        3        0\n",
              "\n",
              "[10 rows x 12 columns]"
            ]
          },
          "metadata": {
            "tags": []
          },
          "execution_count": 13
        }
      ]
    },
    {
      "cell_type": "code",
      "metadata": {
        "id": "-JiF8RV-En14",
        "colab_type": "code",
        "colab": {}
      },
      "source": [
        "ix_chile = df['ctryname'] == 'Chile'"
      ],
      "execution_count": 0,
      "outputs": []
    },
    {
      "cell_type": "code",
      "metadata": {
        "id": "Zm48wl1IRFAC",
        "colab_type": "code",
        "colab": {}
      },
      "source": [
        "list_sa_nochile = [ix_sa[i] and not ix_chile[i] for i in range(len(ix_sa))]\n",
        "serie_sa_nochile = pd.Series(list_sa_nochile)"
      ],
      "execution_count": 0,
      "outputs": []
    },
    {
      "cell_type": "code",
      "metadata": {
        "id": "qJibzwo5GL-J",
        "colab_type": "code",
        "colab": {}
      },
      "source": [
        "kmf_chile = KaplanMeierFitter()\n",
        "kmf_sa_nochile = KaplanMeierFitter()"
      ],
      "execution_count": 0,
      "outputs": []
    },
    {
      "cell_type": "code",
      "metadata": {
        "id": "NzXDqUfxGQHq",
        "colab_type": "code",
        "outputId": "e8fa3be2-dd91-45dd-89ab-317bc5f9967b",
        "colab": {
          "base_uri": "https://localhost:8080/",
          "height": 446
        }
      },
      "source": [
        "kmf_chile.fit(T.loc[ix_chile], C.loc[ix_chile], label='Chile')\n",
        "kmf_sa_nochile.fit(T.loc[serie_sa_nochile], C.loc[serie_sa_nochile], label='South America without Chile')\n",
        "\n",
        "plt.figure(figsize=(7,7))\n",
        "ax = plt.subplot(111)\n",
        "kmf_chile.plot(ax=ax)\n",
        "kmf_sa_nochile.plot(ax=ax)\n",
        "plt.show()"
      ],
      "execution_count": 17,
      "outputs": [
        {
          "output_type": "display_data",
          "data": {
            "image/png": "[encoded data removed]",
            "text/plain": [
              "<Figure size 504x504 with 1 Axes>"
            ]
          },
          "metadata": {
            "tags": []
          }
        }
      ]
    },
    {
      "cell_type": "markdown",
      "metadata": {
        "id": "hXWCx8j9xCo-",
        "colab_type": "text"
      },
      "source": [
        "**Sources:**\n",
        "\n",
        "[Lifelines: Survival Analysis in Python](https://www.youtube.com/watch?v=XQfxndJH4UA) "
      ]
    }
  ]
}