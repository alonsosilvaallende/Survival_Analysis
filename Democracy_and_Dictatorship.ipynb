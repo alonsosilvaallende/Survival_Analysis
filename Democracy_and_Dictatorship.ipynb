{
  "nbformat": 4,
  "nbformat_minor": 0,
  "metadata": {
    "colab": {
      "name": "Democracy_and_Dictatorship-colab.ipynb",
      "provenance": [],
      "collapsed_sections": []
    },
    "kernelspec": {
      "name": "python3",
      "display_name": "Python 3"
    }
  },
  "cells": [
    {
      "cell_type": "markdown",
      "metadata": {
        "id": "sOcfjAcikjq7",
        "colab_type": "text"
      },
      "source": [
        "# Survival Analysis: Democracy and dictatorship \n",
        "[Alonso Silva](http://www.dim.uchile.cl/~alsilva/) [(@alonsosilva)](https://twitter.com/alonsosilva) | 2019/09/12"
      ]
    },
    {
      "cell_type": "markdown",
      "metadata": {
        "id": "gM3U9hFyrzzU",
        "colab_type": "text"
      },
      "source": [
        "The objective of this notebook is to estimate the probability of survival of a government since it takes office until it is disolved.\n",
        "\n",
        "We will perform this survival analysis with [lifelines](https://lifelines.readthedocs.io/en/latest/)."
      ]
    },
    {
      "cell_type": "code",
      "metadata": {
        "id": "q_kCFoy99po-",
        "colab_type": "code",
        "colab": {}
      },
      "source": [
        "# install lifelines\n",
        "!pip install -q lifelines"
      ],
      "execution_count": 0,
      "outputs": []
    },
    {
      "cell_type": "code",
      "metadata": {
        "id": "sNeplyo-AWaU",
        "colab_type": "code",
        "colab": {}
      },
      "source": [
        "# imports\n",
        "import matplotlib.pyplot as plt\n",
        "import pandas as pd\n",
        "%matplotlib inline"
      ],
      "execution_count": 0,
      "outputs": []
    },
    {
      "cell_type": "code",
      "metadata": {
        "id": "mHgbzFrp9veW",
        "colab_type": "code",
        "colab": {}
      },
      "source": [
        "# download the dataset\n",
        "from lifelines.datasets import load_dd\n",
        "\n",
        "df = load_dd()\n",
        "df = df[['ctryname', 'un_region_name', 'un_continent_name', 'ehead', 'democracy', 'regime', 'start_year', 'duration', 'observed']]"
      ],
      "execution_count": 0,
      "outputs": []
    },
    {
      "cell_type": "markdown",
      "metadata": {
        "id": "5V1TxZV8k-wr",
        "colab_type": "text"
      },
      "source": [
        "\n",
        "\n",
        "\n",
        "This dataset contains a classification of political regimes as democracy and dictatorship. \n",
        "\n",
        "* Classification of democracies as \n",
        "  + parliamentary, \n",
        "  + semi-presidential (mixed), and \n",
        "  + presidential. \n",
        "  \n",
        "* Classification of dictatorships as \n",
        "  + military, \n",
        "  + civilian, and \n",
        "  + royal. \n",
        "  \n",
        "Coverage: 202 countries, from 1946 or year of independence to 2008.\n",
        "\n",
        "**References**\n",
        "\n",
        "José Antonio Cheibub, Jennifer Gandhi, and James Raymond Vreeland. [“Democracy and Dictatorship Revisited.”](https://doi.org/10.1007/s11127-009-9491-2) Public Choice, vol. 143, no. 2-1, pp. 67-101, 2010."
      ]
    },
    {
      "cell_type": "code",
      "metadata": {
        "id": "Gjo-4_UQmqTQ",
        "colab_type": "code",
        "outputId": "7943a0a8-0bae-407c-c8f5-b8c17333b7d0",
        "colab": {
          "base_uri": "https://localhost:8080/",
          "height": 359
        }
      },
      "source": [
        "# show last 10 rows\n",
        "df.tail(10)"
      ],
      "execution_count": 4,
      "outputs": [
        {
          "output_type": "execute_result",
          "data": {
            "text/html": [
              "<div>\n",
              "<style scoped>\n",
              "    .dataframe tbody tr th:only-of-type {\n",
              "        vertical-align: middle;\n",
              "    }\n",
              "\n",
              "    .dataframe tbody tr th {\n",
              "        vertical-align: top;\n",
              "    }\n",
              "\n",
              "    .dataframe thead th {\n",
              "        text-align: right;\n",
              "    }\n",
              "</style>\n",
              "<table border=\"1\" class=\"dataframe\">\n",
              "  <thead>\n",
              "    <tr style=\"text-align: right;\">\n",
              "      <th></th>\n",
              "      <th>ctryname</th>\n",
              "      <th>un_region_name</th>\n",
              "      <th>un_continent_name</th>\n",
              "      <th>ehead</th>\n",
              "      <th>democracy</th>\n",
              "      <th>regime</th>\n",
              "      <th>start_year</th>\n",
              "      <th>duration</th>\n",
              "      <th>observed</th>\n",
              "    </tr>\n",
              "  </thead>\n",
              "  <tbody>\n",
              "    <tr>\n",
              "      <th>1798</th>\n",
              "      <td>Yugoslavia</td>\n",
              "      <td>Southern Europe</td>\n",
              "      <td>Europe</td>\n",
              "      <td>Stipe Suvar</td>\n",
              "      <td>Non-democracy</td>\n",
              "      <td>Civilian Dict</td>\n",
              "      <td>1988</td>\n",
              "      <td>1</td>\n",
              "      <td>1</td>\n",
              "    </tr>\n",
              "    <tr>\n",
              "      <th>1799</th>\n",
              "      <td>Yugoslavia</td>\n",
              "      <td>Southern Europe</td>\n",
              "      <td>Europe</td>\n",
              "      <td>Milan Pancevski</td>\n",
              "      <td>Non-democracy</td>\n",
              "      <td>Civilian Dict</td>\n",
              "      <td>1989</td>\n",
              "      <td>1</td>\n",
              "      <td>1</td>\n",
              "    </tr>\n",
              "    <tr>\n",
              "      <th>1800</th>\n",
              "      <td>Yugoslavia</td>\n",
              "      <td>Southern Europe</td>\n",
              "      <td>Europe</td>\n",
              "      <td>Borisav Jovic</td>\n",
              "      <td>Non-democracy</td>\n",
              "      <td>Civilian Dict</td>\n",
              "      <td>1990</td>\n",
              "      <td>1</td>\n",
              "      <td>0</td>\n",
              "    </tr>\n",
              "    <tr>\n",
              "      <th>1801</th>\n",
              "      <td>Zambia</td>\n",
              "      <td>Eastern Africa</td>\n",
              "      <td>Africa</td>\n",
              "      <td>Kenneth Kaunda</td>\n",
              "      <td>Non-democracy</td>\n",
              "      <td>Civilian Dict</td>\n",
              "      <td>1964</td>\n",
              "      <td>27</td>\n",
              "      <td>1</td>\n",
              "    </tr>\n",
              "    <tr>\n",
              "      <th>1802</th>\n",
              "      <td>Zambia</td>\n",
              "      <td>Eastern Africa</td>\n",
              "      <td>Africa</td>\n",
              "      <td>Frederick Chiluba</td>\n",
              "      <td>Non-democracy</td>\n",
              "      <td>Civilian Dict</td>\n",
              "      <td>1991</td>\n",
              "      <td>11</td>\n",
              "      <td>1</td>\n",
              "    </tr>\n",
              "    <tr>\n",
              "      <th>1803</th>\n",
              "      <td>Zambia</td>\n",
              "      <td>Eastern Africa</td>\n",
              "      <td>Africa</td>\n",
              "      <td>Levy Patrick Mwanawasa</td>\n",
              "      <td>Non-democracy</td>\n",
              "      <td>Civilian Dict</td>\n",
              "      <td>2002</td>\n",
              "      <td>6</td>\n",
              "      <td>1</td>\n",
              "    </tr>\n",
              "    <tr>\n",
              "      <th>1804</th>\n",
              "      <td>Zambia</td>\n",
              "      <td>Eastern Africa</td>\n",
              "      <td>Africa</td>\n",
              "      <td>Rupiah Bwezani Banda</td>\n",
              "      <td>Non-democracy</td>\n",
              "      <td>Civilian Dict</td>\n",
              "      <td>2008</td>\n",
              "      <td>1</td>\n",
              "      <td>0</td>\n",
              "    </tr>\n",
              "    <tr>\n",
              "      <th>1805</th>\n",
              "      <td>Zimbabwe</td>\n",
              "      <td>Eastern Africa</td>\n",
              "      <td>Africa</td>\n",
              "      <td>Ian Smith</td>\n",
              "      <td>Non-democracy</td>\n",
              "      <td>Civilian Dict</td>\n",
              "      <td>1965</td>\n",
              "      <td>14</td>\n",
              "      <td>1</td>\n",
              "    </tr>\n",
              "    <tr>\n",
              "      <th>1806</th>\n",
              "      <td>Zimbabwe</td>\n",
              "      <td>Eastern Africa</td>\n",
              "      <td>Africa</td>\n",
              "      <td>Abel Muzorewa</td>\n",
              "      <td>Non-democracy</td>\n",
              "      <td>Civilian Dict</td>\n",
              "      <td>1979</td>\n",
              "      <td>1</td>\n",
              "      <td>1</td>\n",
              "    </tr>\n",
              "    <tr>\n",
              "      <th>1807</th>\n",
              "      <td>Zimbabwe</td>\n",
              "      <td>Eastern Africa</td>\n",
              "      <td>Africa</td>\n",
              "      <td>Robert Mugabe</td>\n",
              "      <td>Non-democracy</td>\n",
              "      <td>Civilian Dict</td>\n",
              "      <td>1980</td>\n",
              "      <td>29</td>\n",
              "      <td>0</td>\n",
              "    </tr>\n",
              "  </tbody>\n",
              "</table>\n",
              "</div>"
            ],
            "text/plain": [
              "        ctryname   un_region_name  ... duration observed\n",
              "1798  Yugoslavia  Southern Europe  ...        1        1\n",
              "1799  Yugoslavia  Southern Europe  ...        1        1\n",
              "1800  Yugoslavia  Southern Europe  ...        1        0\n",
              "1801      Zambia   Eastern Africa  ...       27        1\n",
              "1802      Zambia   Eastern Africa  ...       11        1\n",
              "1803      Zambia   Eastern Africa  ...        6        1\n",
              "1804      Zambia   Eastern Africa  ...        1        0\n",
              "1805    Zimbabwe   Eastern Africa  ...       14        1\n",
              "1806    Zimbabwe   Eastern Africa  ...        1        1\n",
              "1807    Zimbabwe   Eastern Africa  ...       29        0\n",
              "\n",
              "[10 rows x 9 columns]"
            ]
          },
          "metadata": {
            "tags": []
          },
          "execution_count": 4
        }
      ]
    },
    {
      "cell_type": "markdown",
      "metadata": {
        "id": "2ca0FECD6PIU",
        "colab_type": "text"
      },
      "source": [
        "One of the main challenges of survival analysis is **right censoring**, i.e., by the end of the study, the event of interest (for example, in medicine 'death of a patient' or in this dataset 'government disolution') has only occurred for a subset of the observations.\n",
        "\n",
        "The right censoring in this dataset is given by the column name 'observed' and it's a variable which can take value 1 if the disolution of the government has been observed or 0 if it was still in power at the end of the study in 2008 or if there was no disolution, for example, the president died in office. For example, in the US, the right censored observations are George W. Bush and John Kennedy as we see next."
      ]
    },
    {
      "cell_type": "code",
      "metadata": {
        "id": "HpVcRaDi6xN9",
        "colab_type": "code",
        "outputId": "80007c29-bab6-4235-9cd7-a94064ca866c",
        "colab": {
          "base_uri": "https://localhost:8080/",
          "height": 271
        }
      },
      "source": [
        "format_dict = {'ehead':'{}','duration':'{}', 'observed':'{}'}\n",
        "(df.query('ctryname == \"United States of America\"')[['ehead', 'duration', 'observed']].style.format(format_dict)\n",
        "  .hide_index()\n",
        "  .highlight_min('observed', color='lightgreen'))"
      ],
      "execution_count": 5,
      "outputs": [
        {
          "output_type": "execute_result",
          "data": {
            "text/html": [
              "<style  type=\"text/css\" >\n",
              "    #T_1a86e524_e363_11e9_babc_0242ac1c0002row2_col2 {\n",
              "            background-color:  lightgreen;\n",
              "        }    #T_1a86e524_e363_11e9_babc_0242ac1c0002row10_col2 {\n",
              "            background-color:  lightgreen;\n",
              "        }</style><table id=\"T_1a86e524_e363_11e9_babc_0242ac1c0002\" ><thead>    <tr>        <th class=\"col_heading level0 col0\" >ehead</th>        <th class=\"col_heading level0 col1\" >duration</th>        <th class=\"col_heading level0 col2\" >observed</th>    </tr></thead><tbody>\n",
              "                <tr>\n",
              "                                <td id=\"T_1a86e524_e363_11e9_babc_0242ac1c0002row0_col0\" class=\"data row0 col0\" >Harry Truman</td>\n",
              "                        <td id=\"T_1a86e524_e363_11e9_babc_0242ac1c0002row0_col1\" class=\"data row0 col1\" >7</td>\n",
              "                        <td id=\"T_1a86e524_e363_11e9_babc_0242ac1c0002row0_col2\" class=\"data row0 col2\" >1</td>\n",
              "            </tr>\n",
              "            <tr>\n",
              "                                <td id=\"T_1a86e524_e363_11e9_babc_0242ac1c0002row1_col0\" class=\"data row1 col0\" >Dwight D. Eisenhower</td>\n",
              "                        <td id=\"T_1a86e524_e363_11e9_babc_0242ac1c0002row1_col1\" class=\"data row1 col1\" >8</td>\n",
              "                        <td id=\"T_1a86e524_e363_11e9_babc_0242ac1c0002row1_col2\" class=\"data row1 col2\" >1</td>\n",
              "            </tr>\n",
              "            <tr>\n",
              "                                <td id=\"T_1a86e524_e363_11e9_babc_0242ac1c0002row2_col0\" class=\"data row2 col0\" >John Kennedy</td>\n",
              "                        <td id=\"T_1a86e524_e363_11e9_babc_0242ac1c0002row2_col1\" class=\"data row2 col1\" >2</td>\n",
              "                        <td id=\"T_1a86e524_e363_11e9_babc_0242ac1c0002row2_col2\" class=\"data row2 col2\" >0</td>\n",
              "            </tr>\n",
              "            <tr>\n",
              "                                <td id=\"T_1a86e524_e363_11e9_babc_0242ac1c0002row3_col0\" class=\"data row3 col0\" >Lyndon Johnson</td>\n",
              "                        <td id=\"T_1a86e524_e363_11e9_babc_0242ac1c0002row3_col1\" class=\"data row3 col1\" >6</td>\n",
              "                        <td id=\"T_1a86e524_e363_11e9_babc_0242ac1c0002row3_col2\" class=\"data row3 col2\" >1</td>\n",
              "            </tr>\n",
              "            <tr>\n",
              "                                <td id=\"T_1a86e524_e363_11e9_babc_0242ac1c0002row4_col0\" class=\"data row4 col0\" >Richard Nixon</td>\n",
              "                        <td id=\"T_1a86e524_e363_11e9_babc_0242ac1c0002row4_col1\" class=\"data row4 col1\" >5</td>\n",
              "                        <td id=\"T_1a86e524_e363_11e9_babc_0242ac1c0002row4_col2\" class=\"data row4 col2\" >1</td>\n",
              "            </tr>\n",
              "            <tr>\n",
              "                                <td id=\"T_1a86e524_e363_11e9_babc_0242ac1c0002row5_col0\" class=\"data row5 col0\" >Gerald Ford</td>\n",
              "                        <td id=\"T_1a86e524_e363_11e9_babc_0242ac1c0002row5_col1\" class=\"data row5 col1\" >3</td>\n",
              "                        <td id=\"T_1a86e524_e363_11e9_babc_0242ac1c0002row5_col2\" class=\"data row5 col2\" >1</td>\n",
              "            </tr>\n",
              "            <tr>\n",
              "                                <td id=\"T_1a86e524_e363_11e9_babc_0242ac1c0002row6_col0\" class=\"data row6 col0\" >Jimmy Carter</td>\n",
              "                        <td id=\"T_1a86e524_e363_11e9_babc_0242ac1c0002row6_col1\" class=\"data row6 col1\" >4</td>\n",
              "                        <td id=\"T_1a86e524_e363_11e9_babc_0242ac1c0002row6_col2\" class=\"data row6 col2\" >1</td>\n",
              "            </tr>\n",
              "            <tr>\n",
              "                                <td id=\"T_1a86e524_e363_11e9_babc_0242ac1c0002row7_col0\" class=\"data row7 col0\" >Ronald Reagan</td>\n",
              "                        <td id=\"T_1a86e524_e363_11e9_babc_0242ac1c0002row7_col1\" class=\"data row7 col1\" >8</td>\n",
              "                        <td id=\"T_1a86e524_e363_11e9_babc_0242ac1c0002row7_col2\" class=\"data row7 col2\" >1</td>\n",
              "            </tr>\n",
              "            <tr>\n",
              "                                <td id=\"T_1a86e524_e363_11e9_babc_0242ac1c0002row8_col0\" class=\"data row8 col0\" >George Bush</td>\n",
              "                        <td id=\"T_1a86e524_e363_11e9_babc_0242ac1c0002row8_col1\" class=\"data row8 col1\" >4</td>\n",
              "                        <td id=\"T_1a86e524_e363_11e9_babc_0242ac1c0002row8_col2\" class=\"data row8 col2\" >1</td>\n",
              "            </tr>\n",
              "            <tr>\n",
              "                                <td id=\"T_1a86e524_e363_11e9_babc_0242ac1c0002row9_col0\" class=\"data row9 col0\" >Bill Clinton</td>\n",
              "                        <td id=\"T_1a86e524_e363_11e9_babc_0242ac1c0002row9_col1\" class=\"data row9 col1\" >8</td>\n",
              "                        <td id=\"T_1a86e524_e363_11e9_babc_0242ac1c0002row9_col2\" class=\"data row9 col2\" >1</td>\n",
              "            </tr>\n",
              "            <tr>\n",
              "                                <td id=\"T_1a86e524_e363_11e9_babc_0242ac1c0002row10_col0\" class=\"data row10 col0\" >George W. Bush</td>\n",
              "                        <td id=\"T_1a86e524_e363_11e9_babc_0242ac1c0002row10_col1\" class=\"data row10 col1\" >8</td>\n",
              "                        <td id=\"T_1a86e524_e363_11e9_babc_0242ac1c0002row10_col2\" class=\"data row10 col2\" >0</td>\n",
              "            </tr>\n",
              "    </tbody></table>"
            ],
            "text/plain": [
              "<pandas.io.formats.style.Styler at 0x7fd4d7f1cd68>"
            ]
          },
          "metadata": {
            "tags": []
          },
          "execution_count": 5
        }
      ]
    },
    {
      "cell_type": "code",
      "metadata": {
        "id": "-QPGw-z_oeu1",
        "colab_type": "code",
        "outputId": "bb040098-fdde-4e0d-f98c-ac7999a193b3",
        "colab": {
          "base_uri": "https://localhost:8080/",
          "height": 68
        }
      },
      "source": [
        "print(f'Number of samples: {len(df)}')\n",
        "print(f'Number of right censored samples: {len(df.query(\"observed == 0\"))}')\n",
        "print(f'Percentage of right censored samples: {100*len(df.query(\"observed == 0\"))/len(df):.1f}%')"
      ],
      "execution_count": 6,
      "outputs": [
        {
          "output_type": "stream",
          "text": [
            "Number of samples: 1808\n",
            "Number of right censored samples: 340\n",
            "Percentage of right censored samples: 18.8%\n"
          ],
          "name": "stdout"
        }
      ]
    },
    {
      "cell_type": "markdown",
      "metadata": {
        "id": "oJ0raatwuxLm",
        "colab_type": "text"
      },
      "source": [
        "We use the [Kaplan-Meier estimator](https://en.wikipedia.org/wiki/Kaplan–Meier_estimator) to estimate the probability of a government survival."
      ]
    },
    {
      "cell_type": "code",
      "metadata": {
        "id": "T0kAdJsP-Sft",
        "colab_type": "code",
        "colab": {}
      },
      "source": [
        "T = df['duration']\n",
        "E = df['observed']"
      ],
      "execution_count": 0,
      "outputs": []
    },
    {
      "cell_type": "code",
      "metadata": {
        "id": "4aAauzdF-npb",
        "colab_type": "code",
        "outputId": "3b07d083-fcb3-4760-8abf-3c54bff40d23",
        "colab": {
          "base_uri": "https://localhost:8080/",
          "height": 475
        }
      },
      "source": [
        "from lifelines import KaplanMeierFitter\n",
        "kmf = KaplanMeierFitter()\n",
        "kmf.fit(T,E)\n",
        "print(f'The median number of years of government survival is {kmf.median_survival_time_}')\n",
        "plt.figure(figsize=(7,7))\n",
        "ax = plt.subplot(111)\n",
        "kmf.plot(ax=ax)\n",
        "plt.title('Estimated probability of government survival vs number of years')\n",
        "plt.xlabel('Time (in years)')\n",
        "plt.ylabel('Estimated probability of government survival')\n",
        "plt.show()"
      ],
      "execution_count": 8,
      "outputs": [
        {
          "output_type": "stream",
          "text": [
            "The median number of years of government survival is 4.0\n"
          ],
          "name": "stdout"
        },
        {
          "output_type": "display_data",
          "data": {
            "image/png": "[encoded data removed]",
            "text/plain": [
              "<Figure size 504x504 with 1 Axes>"
            ]
          },
          "metadata": {
            "tags": []
          }
        }
      ]
    },
    {
      "cell_type": "code",
      "metadata": {
        "id": "doMpcENGwXIT",
        "colab_type": "code",
        "outputId": "471a4c1b-d584-4686-bdcd-658c7a4fea70",
        "colab": {
          "base_uri": "https://localhost:8080/",
          "height": 421
        }
      },
      "source": [
        "# probability of goverment survival for the first 10 years\n",
        "kmf.survival_function_[:10]"
      ],
      "execution_count": 9,
      "outputs": [
        {
          "output_type": "execute_result",
          "data": {
            "text/html": [
              "<div>\n",
              "<style scoped>\n",
              "    .dataframe tbody tr th:only-of-type {\n",
              "        vertical-align: middle;\n",
              "    }\n",
              "\n",
              "    .dataframe tbody tr th {\n",
              "        vertical-align: top;\n",
              "    }\n",
              "\n",
              "    .dataframe thead th {\n",
              "        text-align: right;\n",
              "    }\n",
              "</style>\n",
              "<table border=\"1\" class=\"dataframe\">\n",
              "  <thead>\n",
              "    <tr style=\"text-align: right;\">\n",
              "      <th></th>\n",
              "      <th>KM_estimate</th>\n",
              "    </tr>\n",
              "    <tr>\n",
              "      <th>timeline</th>\n",
              "      <th></th>\n",
              "    </tr>\n",
              "  </thead>\n",
              "  <tbody>\n",
              "    <tr>\n",
              "      <th>0.0</th>\n",
              "      <td>1.000000</td>\n",
              "    </tr>\n",
              "    <tr>\n",
              "      <th>1.0</th>\n",
              "      <td>0.721792</td>\n",
              "    </tr>\n",
              "    <tr>\n",
              "      <th>2.0</th>\n",
              "      <td>0.601973</td>\n",
              "    </tr>\n",
              "    <tr>\n",
              "      <th>3.0</th>\n",
              "      <td>0.510929</td>\n",
              "    </tr>\n",
              "    <tr>\n",
              "      <th>4.0</th>\n",
              "      <td>0.418835</td>\n",
              "    </tr>\n",
              "    <tr>\n",
              "      <th>5.0</th>\n",
              "      <td>0.334008</td>\n",
              "    </tr>\n",
              "    <tr>\n",
              "      <th>6.0</th>\n",
              "      <td>0.280902</td>\n",
              "    </tr>\n",
              "    <tr>\n",
              "      <th>7.0</th>\n",
              "      <td>0.256825</td>\n",
              "    </tr>\n",
              "    <tr>\n",
              "      <th>8.0</th>\n",
              "      <td>0.221975</td>\n",
              "    </tr>\n",
              "    <tr>\n",
              "      <th>9.0</th>\n",
              "      <td>0.205147</td>\n",
              "    </tr>\n",
              "    <tr>\n",
              "      <th>10.0</th>\n",
              "      <td>0.181350</td>\n",
              "    </tr>\n",
              "  </tbody>\n",
              "</table>\n",
              "</div>"
            ],
            "text/plain": [
              "          KM_estimate\n",
              "timeline             \n",
              "0.0          1.000000\n",
              "1.0          0.721792\n",
              "2.0          0.601973\n",
              "3.0          0.510929\n",
              "4.0          0.418835\n",
              "5.0          0.334008\n",
              "6.0          0.280902\n",
              "7.0          0.256825\n",
              "8.0          0.221975\n",
              "9.0          0.205147\n",
              "10.0         0.181350"
            ]
          },
          "metadata": {
            "tags": []
          },
          "execution_count": 9
        }
      ]
    },
    {
      "cell_type": "markdown",
      "metadata": {
        "id": "bb1IeFmmEaGZ",
        "colab_type": "text"
      },
      "source": [
        "This is the estimated probability of a government survival overall. The probability of a government lasting more than 10 years is smaller than 20%."
      ]
    },
    {
      "cell_type": "markdown",
      "metadata": {
        "id": "iV8jUAwWwA5a",
        "colab_type": "text"
      },
      "source": [
        "The confidence interval of this estimator is given as follows."
      ]
    },
    {
      "cell_type": "code",
      "metadata": {
        "id": "URLNgT8Vvx9I",
        "colab_type": "code",
        "outputId": "79cbb38e-7cae-4beb-a5b6-3aba45e453aa",
        "colab": {
          "base_uri": "https://localhost:8080/",
          "height": 390
        }
      },
      "source": [
        "# confidence interval (with a confidence level of 95%) of the probability of government survival\n",
        "kmf.confidence_interval_[:10]"
      ],
      "execution_count": 10,
      "outputs": [
        {
          "output_type": "execute_result",
          "data": {
            "text/html": [
              "<div>\n",
              "<style scoped>\n",
              "    .dataframe tbody tr th:only-of-type {\n",
              "        vertical-align: middle;\n",
              "    }\n",
              "\n",
              "    .dataframe tbody tr th {\n",
              "        vertical-align: top;\n",
              "    }\n",
              "\n",
              "    .dataframe thead th {\n",
              "        text-align: right;\n",
              "    }\n",
              "</style>\n",
              "<table border=\"1\" class=\"dataframe\">\n",
              "  <thead>\n",
              "    <tr style=\"text-align: right;\">\n",
              "      <th></th>\n",
              "      <th>KM_estimate_upper_0.95</th>\n",
              "      <th>KM_estimate_lower_0.95</th>\n",
              "    </tr>\n",
              "  </thead>\n",
              "  <tbody>\n",
              "    <tr>\n",
              "      <th>0.0</th>\n",
              "      <td>NaN</td>\n",
              "      <td>NaN</td>\n",
              "    </tr>\n",
              "    <tr>\n",
              "      <th>1.0</th>\n",
              "      <td>0.741841</td>\n",
              "      <td>0.700522</td>\n",
              "    </tr>\n",
              "    <tr>\n",
              "      <th>2.0</th>\n",
              "      <td>0.624308</td>\n",
              "      <td>0.578805</td>\n",
              "    </tr>\n",
              "    <tr>\n",
              "      <th>3.0</th>\n",
              "      <td>0.534126</td>\n",
              "      <td>0.487205</td>\n",
              "    </tr>\n",
              "    <tr>\n",
              "      <th>4.0</th>\n",
              "      <td>0.442242</td>\n",
              "      <td>0.395233</td>\n",
              "    </tr>\n",
              "    <tr>\n",
              "      <th>5.0</th>\n",
              "      <td>0.356952</td>\n",
              "      <td>0.311203</td>\n",
              "    </tr>\n",
              "    <tr>\n",
              "      <th>6.0</th>\n",
              "      <td>0.303218</td>\n",
              "      <td>0.258958</td>\n",
              "    </tr>\n",
              "    <tr>\n",
              "      <th>7.0</th>\n",
              "      <td>0.278769</td>\n",
              "      <td>0.235366</td>\n",
              "    </tr>\n",
              "    <tr>\n",
              "      <th>8.0</th>\n",
              "      <td>0.243268</td>\n",
              "      <td>0.201348</td>\n",
              "    </tr>\n",
              "    <tr>\n",
              "      <th>9.0</th>\n",
              "      <td>0.226095</td>\n",
              "      <td>0.184960</td>\n",
              "    </tr>\n",
              "    <tr>\n",
              "      <th>10.0</th>\n",
              "      <td>0.201723</td>\n",
              "      <td>0.161884</td>\n",
              "    </tr>\n",
              "  </tbody>\n",
              "</table>\n",
              "</div>"
            ],
            "text/plain": [
              "      KM_estimate_upper_0.95  KM_estimate_lower_0.95\n",
              "0.0                      NaN                     NaN\n",
              "1.0                 0.741841                0.700522\n",
              "2.0                 0.624308                0.578805\n",
              "3.0                 0.534126                0.487205\n",
              "4.0                 0.442242                0.395233\n",
              "5.0                 0.356952                0.311203\n",
              "6.0                 0.303218                0.258958\n",
              "7.0                 0.278769                0.235366\n",
              "8.0                 0.243268                0.201348\n",
              "9.0                 0.226095                0.184960\n",
              "10.0                0.201723                0.161884"
            ]
          },
          "metadata": {
            "tags": []
          },
          "execution_count": 10
        }
      ]
    },
    {
      "cell_type": "code",
      "metadata": {
        "id": "3bt_f2fLn9Wu",
        "colab_type": "code",
        "outputId": "99bdd73d-782c-4f82-ab24-4b33c9502eb2",
        "colab": {
          "base_uri": "https://localhost:8080/",
          "height": 492
        }
      },
      "source": [
        "plt.figure(figsize=(7,7))\n",
        "ax = plt.subplot(111)\n",
        "\n",
        "for r in df['democracy'].unique():\n",
        "  ix = df['democracy'] == r\n",
        "  kmf.fit(T.loc[ix], E.loc[ix], label=r)\n",
        "  print(f'The median number of years for a {r} is {kmf.median_survival_time_}')\n",
        "  kmf.plot(ax=ax)\n",
        "plt.title('Estimated probability of government survival vs number of years')\n",
        "plt.xlabel('Time (in years)')\n",
        "plt.ylabel('Estimated probability of government survival')\n",
        "plt.show()"
      ],
      "execution_count": 11,
      "outputs": [
        {
          "output_type": "stream",
          "text": [
            "The median number of years for a Non-democracy is 6.0\n",
            "The median number of years for a Democracy is 3.0\n"
          ],
          "name": "stdout"
        },
        {
          "output_type": "display_data",
          "data": {
            "image/png": "[encoded data removed]",
            "text/plain": [
              "<Figure size 504x504 with 1 Axes>"
            ]
          },
          "metadata": {
            "tags": []
          }
        }
      ]
    },
    {
      "cell_type": "markdown",
      "metadata": {
        "id": "MLy8bUyQ9rTX",
        "colab_type": "text"
      },
      "source": [
        "Non democratic governments tend to last much longer than democratic governments as can be seen in the previous plot."
      ]
    },
    {
      "cell_type": "code",
      "metadata": {
        "id": "7gpFsJDG_qpr",
        "colab_type": "code",
        "outputId": "85881a46-bc16-4f6c-ccb2-3a2cce401aaa",
        "colab": {
          "base_uri": "https://localhost:8080/",
          "height": 458
        }
      },
      "source": [
        "plt.figure(figsize=(7,7))\n",
        "ax = plt.subplot(111)\n",
        "\n",
        "for r in df['regime'].unique():\n",
        "  ix = df['regime'] == r\n",
        "  kmf.fit(T.loc[ix], E.loc[ix], label=r)\n",
        "  kmf.survival_function_.plot(ax=ax)\n",
        "plt.title('Estimated probability of government survival vs number of years')\n",
        "plt.xlabel('Time (in years)')\n",
        "plt.ylabel('Estimated probability of government survival')\n",
        "plt.show()"
      ],
      "execution_count": 12,
      "outputs": [
        {
          "output_type": "display_data",
          "data": {
            "image/png": "[encoded data removed]",
            "text/plain": [
              "<Figure size 504x504 with 1 Axes>"
            ]
          },
          "metadata": {
            "tags": []
          }
        }
      ]
    },
    {
      "cell_type": "markdown",
      "metadata": {
        "id": "w0BO2hpL-kKq",
        "colab_type": "text"
      },
      "source": [
        "Each democratic type of government (presidential, parliamentary, or mixed) tend to last less compared to military dictatorships, civilian dictatorships or monarchies."
      ]
    },
    {
      "cell_type": "code",
      "metadata": {
        "id": "RynV7Xk_WO7X",
        "colab_type": "code",
        "outputId": "a297208c-66e3-44c2-c0d1-16b9c5b4fd22",
        "colab": {
          "base_uri": "https://localhost:8080/",
          "height": 458
        }
      },
      "source": [
        "plt.figure(figsize=(7,7))\n",
        "ax = plt.subplot(111)\n",
        "\n",
        "for r in df['un_continent_name'].unique():\n",
        "  ix = df['un_continent_name'] == r\n",
        "  kmf.fit(T.loc[ix], E.loc[ix], label=r)\n",
        "  kmf.plot(ax=ax)\n",
        "plt.title('Estimated probability of government survival vs number of years')\n",
        "plt.xlabel('Time (in years)')\n",
        "plt.ylabel('Estimated probability of government survival')\n",
        "plt.show()"
      ],
      "execution_count": 13,
      "outputs": [
        {
          "output_type": "display_data",
          "data": {
            "image/png": "[encoded data removed]",
            "text/plain": [
              "<Figure size 504x504 with 1 Axes>"
            ]
          },
          "metadata": {
            "tags": []
          }
        }
      ]
    },
    {
      "cell_type": "markdown",
      "metadata": {
        "id": "XjapyMJF-LF1",
        "colab_type": "text"
      },
      "source": [
        "Africa and Asia to a less degree tend to have longer governments than the other continents."
      ]
    },
    {
      "cell_type": "code",
      "metadata": {
        "id": "5spiaBOxT7-P",
        "colab_type": "code",
        "outputId": "7382fdb0-202b-4413-dc22-fa1634956e6e",
        "colab": {
          "base_uri": "https://localhost:8080/",
          "height": 136
        }
      },
      "source": [
        "df['un_region_name'].unique()"
      ],
      "execution_count": 14,
      "outputs": [
        {
          "output_type": "execute_result",
          "data": {
            "text/plain": [
              "array(['Southern Asia', 'Southern Europe', 'Northern Africa',\n",
              "       'Middle Africa', 'Caribbean', 'South America', 'Western Asia',\n",
              "       'Australia and New Zealand', 'Western Europe', 'Eastern Europe',\n",
              "       'Central America', 'Western Africa', 'Southern Africa',\n",
              "       'South-Eastern Asia', 'Eastern Africa', 'Northern America',\n",
              "       'Eastern Asia', 'Northern Europe', 'Melanesia', 'Central Asia',\n",
              "       'Micronesia', 'Polynesia'], dtype=object)"
            ]
          },
          "metadata": {
            "tags": []
          },
          "execution_count": 14
        }
      ]
    },
    {
      "cell_type": "code",
      "metadata": {
        "id": "Mt4TgltMB26r",
        "colab_type": "code",
        "colab": {}
      },
      "source": [
        "ix_na = df['un_region_name'] == 'Northern America'\n",
        "ix_sa = df['un_region_name'] == 'South America'\n",
        "ix_we = df['un_region_name'] == 'Western Europe'\n",
        "ix_ee = df['un_region_name'] == 'Eastern Europe'"
      ],
      "execution_count": 0,
      "outputs": []
    },
    {
      "cell_type": "code",
      "metadata": {
        "id": "jX5ZwVaxDUp6",
        "colab_type": "code",
        "outputId": "b1f9542f-ffa7-403f-fa63-1192c66a5227",
        "colab": {
          "base_uri": "https://localhost:8080/",
          "height": 458
        }
      },
      "source": [
        "kmf_na = KaplanMeierFitter()\n",
        "kmf_sa = KaplanMeierFitter()\n",
        "kmf_we = KaplanMeierFitter()\n",
        "kmf_ee = KaplanMeierFitter()\n",
        "\n",
        "kmf_na.fit(T.loc[ix_na], E.loc[ix_na], label='Northern America')\n",
        "kmf_sa.fit(T.loc[ix_sa], E.loc[ix_sa], label='South America')\n",
        "kmf_we.fit(T.loc[ix_we], E.loc[ix_we], label='Western Europe')\n",
        "kmf_ee.fit(T.loc[ix_ee], E.loc[ix_ee], label='Eastern Europe')\n",
        "\n",
        "plt.figure(figsize=(14,7))\n",
        "ax1 = plt.subplot(121)\n",
        "kmf_na.plot(ax=ax1)\n",
        "kmf_sa.plot(ax=ax1)\n",
        "ax2 = plt.subplot(122)\n",
        "kmf_we.plot(ax=ax2)\n",
        "kmf_ee.plot(ax=ax2)\n",
        "ax1.set_title('Estimated probability of government survival vs number of years')\n",
        "ax1.set(xlabel = 'Time (in years)', ylabel = 'Estimated probability of government survival')\n",
        "ax2.set_title('Estimated probability of government survival vs number of years')\n",
        "ax2.set(xlabel = 'Time (in years)', ylabel = 'Estimated probability of government survival')\n",
        "plt.show()"
      ],
      "execution_count": 16,
      "outputs": [
        {
          "output_type": "display_data",
          "data": {
            "image/png": "[encoded data removed]",
            "text/plain": [
              "<Figure size 1008x504 with 2 Axes>"
            ]
          },
          "metadata": {
            "tags": []
          }
        }
      ]
    },
    {
      "cell_type": "markdown",
      "metadata": {
        "id": "uNaeGx17_lly",
        "colab_type": "text"
      },
      "source": [
        "### Chile and the rest of South America"
      ]
    },
    {
      "cell_type": "code",
      "metadata": {
        "id": "IX_tlpY2Tmh6",
        "colab_type": "code",
        "outputId": "4609e1b2-ec7d-41e7-c0bc-1180ca823fed",
        "colab": {
          "base_uri": "https://localhost:8080/",
          "height": 359
        }
      },
      "source": [
        "df.query('ctryname == \"Chile\"')"
      ],
      "execution_count": 17,
      "outputs": [
        {
          "output_type": "execute_result",
          "data": {
            "text/html": [
              "<div>\n",
              "<style scoped>\n",
              "    .dataframe tbody tr th:only-of-type {\n",
              "        vertical-align: middle;\n",
              "    }\n",
              "\n",
              "    .dataframe tbody tr th {\n",
              "        vertical-align: top;\n",
              "    }\n",
              "\n",
              "    .dataframe thead th {\n",
              "        text-align: right;\n",
              "    }\n",
              "</style>\n",
              "<table border=\"1\" class=\"dataframe\">\n",
              "  <thead>\n",
              "    <tr style=\"text-align: right;\">\n",
              "      <th></th>\n",
              "      <th>ctryname</th>\n",
              "      <th>un_region_name</th>\n",
              "      <th>un_continent_name</th>\n",
              "      <th>ehead</th>\n",
              "      <th>democracy</th>\n",
              "      <th>regime</th>\n",
              "      <th>start_year</th>\n",
              "      <th>duration</th>\n",
              "      <th>observed</th>\n",
              "    </tr>\n",
              "  </thead>\n",
              "  <tbody>\n",
              "    <tr>\n",
              "      <th>290</th>\n",
              "      <td>Chile</td>\n",
              "      <td>South America</td>\n",
              "      <td>Americas</td>\n",
              "      <td>Gabriel Gonzalez Videla</td>\n",
              "      <td>Democracy</td>\n",
              "      <td>Presidential Dem</td>\n",
              "      <td>1946</td>\n",
              "      <td>6</td>\n",
              "      <td>1</td>\n",
              "    </tr>\n",
              "    <tr>\n",
              "      <th>291</th>\n",
              "      <td>Chile</td>\n",
              "      <td>South America</td>\n",
              "      <td>Americas</td>\n",
              "      <td>Carlos Ibanez del Campo</td>\n",
              "      <td>Democracy</td>\n",
              "      <td>Presidential Dem</td>\n",
              "      <td>1952</td>\n",
              "      <td>6</td>\n",
              "      <td>1</td>\n",
              "    </tr>\n",
              "    <tr>\n",
              "      <th>292</th>\n",
              "      <td>Chile</td>\n",
              "      <td>South America</td>\n",
              "      <td>Americas</td>\n",
              "      <td>Jorge Alessandri Rodriguez</td>\n",
              "      <td>Democracy</td>\n",
              "      <td>Presidential Dem</td>\n",
              "      <td>1958</td>\n",
              "      <td>6</td>\n",
              "      <td>1</td>\n",
              "    </tr>\n",
              "    <tr>\n",
              "      <th>293</th>\n",
              "      <td>Chile</td>\n",
              "      <td>South America</td>\n",
              "      <td>Americas</td>\n",
              "      <td>Eduardo Frei Montalva</td>\n",
              "      <td>Democracy</td>\n",
              "      <td>Presidential Dem</td>\n",
              "      <td>1964</td>\n",
              "      <td>6</td>\n",
              "      <td>1</td>\n",
              "    </tr>\n",
              "    <tr>\n",
              "      <th>294</th>\n",
              "      <td>Chile</td>\n",
              "      <td>South America</td>\n",
              "      <td>Americas</td>\n",
              "      <td>Salvador Allende Gossens</td>\n",
              "      <td>Democracy</td>\n",
              "      <td>Presidential Dem</td>\n",
              "      <td>1970</td>\n",
              "      <td>3</td>\n",
              "      <td>0</td>\n",
              "    </tr>\n",
              "    <tr>\n",
              "      <th>295</th>\n",
              "      <td>Chile</td>\n",
              "      <td>South America</td>\n",
              "      <td>Americas</td>\n",
              "      <td>Augusto Pinochet Ugarte</td>\n",
              "      <td>Non-democracy</td>\n",
              "      <td>Military Dict</td>\n",
              "      <td>1973</td>\n",
              "      <td>17</td>\n",
              "      <td>1</td>\n",
              "    </tr>\n",
              "    <tr>\n",
              "      <th>296</th>\n",
              "      <td>Chile</td>\n",
              "      <td>South America</td>\n",
              "      <td>Americas</td>\n",
              "      <td>Patricio Aylwin Azacar</td>\n",
              "      <td>Democracy</td>\n",
              "      <td>Presidential Dem</td>\n",
              "      <td>1990</td>\n",
              "      <td>4</td>\n",
              "      <td>1</td>\n",
              "    </tr>\n",
              "    <tr>\n",
              "      <th>297</th>\n",
              "      <td>Chile</td>\n",
              "      <td>South America</td>\n",
              "      <td>Americas</td>\n",
              "      <td>Eduardo Frei Ruiz-Tagle</td>\n",
              "      <td>Democracy</td>\n",
              "      <td>Presidential Dem</td>\n",
              "      <td>1994</td>\n",
              "      <td>6</td>\n",
              "      <td>1</td>\n",
              "    </tr>\n",
              "    <tr>\n",
              "      <th>298</th>\n",
              "      <td>Chile</td>\n",
              "      <td>South America</td>\n",
              "      <td>Americas</td>\n",
              "      <td>Ricardo Froilan Lagos Escobar</td>\n",
              "      <td>Democracy</td>\n",
              "      <td>Presidential Dem</td>\n",
              "      <td>2000</td>\n",
              "      <td>6</td>\n",
              "      <td>1</td>\n",
              "    </tr>\n",
              "    <tr>\n",
              "      <th>299</th>\n",
              "      <td>Chile</td>\n",
              "      <td>South America</td>\n",
              "      <td>Americas</td>\n",
              "      <td>Verï¿½nica Michelle Bachelet Jeria</td>\n",
              "      <td>Democracy</td>\n",
              "      <td>Presidential Dem</td>\n",
              "      <td>2006</td>\n",
              "      <td>3</td>\n",
              "      <td>0</td>\n",
              "    </tr>\n",
              "  </tbody>\n",
              "</table>\n",
              "</div>"
            ],
            "text/plain": [
              "    ctryname un_region_name un_continent_name  ... start_year duration observed\n",
              "290    Chile  South America          Americas  ...       1946        6        1\n",
              "291    Chile  South America          Americas  ...       1952        6        1\n",
              "292    Chile  South America          Americas  ...       1958        6        1\n",
              "293    Chile  South America          Americas  ...       1964        6        1\n",
              "294    Chile  South America          Americas  ...       1970        3        0\n",
              "295    Chile  South America          Americas  ...       1973       17        1\n",
              "296    Chile  South America          Americas  ...       1990        4        1\n",
              "297    Chile  South America          Americas  ...       1994        6        1\n",
              "298    Chile  South America          Americas  ...       2000        6        1\n",
              "299    Chile  South America          Americas  ...       2006        3        0\n",
              "\n",
              "[10 rows x 9 columns]"
            ]
          },
          "metadata": {
            "tags": []
          },
          "execution_count": 17
        }
      ]
    },
    {
      "cell_type": "code",
      "metadata": {
        "id": "-JiF8RV-En14",
        "colab_type": "code",
        "colab": {}
      },
      "source": [
        "ix_chile = df['ctryname'] == 'Chile'"
      ],
      "execution_count": 0,
      "outputs": []
    },
    {
      "cell_type": "code",
      "metadata": {
        "id": "Zm48wl1IRFAC",
        "colab_type": "code",
        "colab": {}
      },
      "source": [
        "list_sa_nochile = [ix_sa[i] and not ix_chile[i] for i in range(len(ix_sa))]\n",
        "serie_sa_nochile = pd.Series(list_sa_nochile)"
      ],
      "execution_count": 0,
      "outputs": []
    },
    {
      "cell_type": "code",
      "metadata": {
        "id": "qJibzwo5GL-J",
        "colab_type": "code",
        "colab": {}
      },
      "source": [
        "kmf_chile = KaplanMeierFitter()\n",
        "kmf_sa_nochile = KaplanMeierFitter()"
      ],
      "execution_count": 0,
      "outputs": []
    },
    {
      "cell_type": "code",
      "metadata": {
        "id": "NzXDqUfxGQHq",
        "colab_type": "code",
        "outputId": "6623eca1-a923-4888-baff-90eb66fe5be9",
        "colab": {
          "base_uri": "https://localhost:8080/",
          "height": 458
        }
      },
      "source": [
        "kmf_chile.fit(T.loc[ix_chile], E.loc[ix_chile], label='Chile')\n",
        "kmf_sa_nochile.fit(T.loc[serie_sa_nochile], E.loc[serie_sa_nochile], label='South America without Chile')\n",
        "\n",
        "plt.figure(figsize=(7,7))\n",
        "ax = plt.subplot(111)\n",
        "kmf_chile.plot(ax=ax)\n",
        "kmf_sa_nochile.plot(ax=ax)\n",
        "plt.title('Estimated probability of government survival vs number of years')\n",
        "plt.xlabel('Time (in years)')\n",
        "plt.ylabel('Estimated probability of government survival')\n",
        "plt.show()"
      ],
      "execution_count": 21,
      "outputs": [
        {
          "output_type": "display_data",
          "data": {
            "image/png": "[encoded data removed]",
            "text/plain": [
              "<Figure size 504x504 with 1 Axes>"
            ]
          },
          "metadata": {
            "tags": []
          }
        }
      ]
    },
    {
      "cell_type": "markdown",
      "metadata": {
        "id": "EQ138QN8AXfs",
        "colab_type": "text"
      },
      "source": [
        "In Chile, we had 6 year governments and then the law changed to be 4 years. However, we also had a military dictatorship which lasted 17 years as can be seen in the estimation in the previous plot."
      ]
    },
    {
      "cell_type": "markdown",
      "metadata": {
        "id": "hXWCx8j9xCo-",
        "colab_type": "text"
      },
      "source": [
        "**Sources:**\n",
        "\n",
        "[Lifelines: Survival Analysis in Python](https://www.youtube.com/watch?v=XQfxndJH4UA) "
      ]
    }
  ]
}