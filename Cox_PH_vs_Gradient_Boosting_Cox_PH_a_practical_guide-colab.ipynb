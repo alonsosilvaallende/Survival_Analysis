{
  "nbformat": 4,
  "nbformat_minor": 0,
  "metadata": {
    "colab": {
      "name": "Survival.ipynb",
      "provenance": [],
      "collapsed_sections": [],
      "include_colab_link": true
    },
    "kernelspec": {
      "name": "python3",
      "display_name": "Python 3"
    },
    "accelerator": "GPU"
  },
  "cells": [
    {
      "cell_type": "markdown",
      "metadata": {
        "id": "view-in-github",
        "colab_type": "text"
      },
      "source": [
        "<a href=\"https://colab.research.google.com/github/alonsosilvaallende/Survival_Analysis/blob/master/Cox_PH_vs_Gradient_Boosting_Cox_PH_a_practical_guide-colab.ipynb\" target=\"_parent\"><img src=\"https://colab.research.google.com/assets/colab-badge.svg\" alt=\"Open In Colab\"/></a>"
      ]
    },
    {
      "cell_type": "markdown",
      "metadata": {
        "id": "1lVF4IpCvpD_",
        "colab_type": "text"
      },
      "source": [
        "# Survival Analysis: Cox Proportional Hazards vs Gradient Boosting Cox PH: a practical guide\n",
        "\n",
        "[Alonso Silva](http://www.dim.uchile.cl/~alsilva/) [(@alonsosilva)](https://twitter.com/alonsosilva) | 2019/09/19\n",
        "\n"
      ]
    },
    {
      "cell_type": "markdown",
      "metadata": {
        "id": "q9UZi0hSKQOm",
        "colab_type": "text"
      },
      "source": [
        "The objective of this notebook is to compare two methods (Cox proportional hazards and gradient boosting Cox PH) to estimate the survival probability given a set of features/covariables.\n",
        "\n",
        "To perform this analysis we will use [scikit-learn](https://scikit-learn.org/), [scikit-survival](https://pypi.org/project/scikit-survival/) and [lifelines](https://lifelines.readthedocs.io/en/latest/)."
      ]
    },
    {
      "cell_type": "code",
      "metadata": {
        "id": "UD5r2JijiQJX",
        "colab_type": "code",
        "outputId": "cc232fdf-9b84-4e1c-cdeb-7bd78dd33eae",
        "colab": {
          "base_uri": "https://localhost:8080/",
          "height": 336
        }
      },
      "source": [
        "# install scikit-survival\n",
        "!pip install scikit-survival"
      ],
      "execution_count": 1,
      "outputs": [
        {
          "output_type": "stream",
          "text": [
            "Requirement already satisfied: scikit-survival in /usr/local/lib/python3.6/dist-packages (0.10)\n",
            "Requirement already satisfied: numpy in /usr/local/lib/python3.6/dist-packages (from scikit-survival) (1.16.5)\n",
            "Requirement already satisfied: cvxpy>=1.0 in /usr/local/lib/python3.6/dist-packages (from scikit-survival) (1.0.25)\n",
            "Requirement already satisfied: pandas<0.25,>=0.21 in /usr/local/lib/python3.6/dist-packages (from scikit-survival) (0.24.2)\n",
            "Requirement already satisfied: numexpr in /usr/local/lib/python3.6/dist-packages (from scikit-survival) (2.7.0)\n",
            "Requirement already satisfied: scipy!=1.3.0,>=1.0 in /usr/local/lib/python3.6/dist-packages (from scikit-survival) (1.3.1)\n",
            "Requirement already satisfied: cvxopt in /usr/local/lib/python3.6/dist-packages (from scikit-survival) (1.2.3)\n",
            "Requirement already satisfied: scikit-learn<0.22,>=0.20.0 in /usr/local/lib/python3.6/dist-packages (from scikit-survival) (0.21.3)\n",
            "Requirement already satisfied: ecos>=2 in /usr/local/lib/python3.6/dist-packages (from cvxpy>=1.0->scikit-survival) (2.0.7.post1)\n",
            "Requirement already satisfied: osqp>=0.4.1 in /usr/local/lib/python3.6/dist-packages (from cvxpy>=1.0->scikit-survival) (0.6.1)\n",
            "Requirement already satisfied: scs>=1.1.3 in /usr/local/lib/python3.6/dist-packages (from cvxpy>=1.0->scikit-survival) (2.1.1.post2)\n",
            "Requirement already satisfied: six in /usr/local/lib/python3.6/dist-packages (from cvxpy>=1.0->scikit-survival) (1.12.0)\n",
            "Requirement already satisfied: multiprocess in /usr/local/lib/python3.6/dist-packages (from cvxpy>=1.0->scikit-survival) (0.70.8)\n",
            "Requirement already satisfied: pytz>=2011k in /usr/local/lib/python3.6/dist-packages (from pandas<0.25,>=0.21->scikit-survival) (2018.9)\n",
            "Requirement already satisfied: python-dateutil>=2.5.0 in /usr/local/lib/python3.6/dist-packages (from pandas<0.25,>=0.21->scikit-survival) (2.5.3)\n",
            "Requirement already satisfied: joblib>=0.11 in /usr/local/lib/python3.6/dist-packages (from scikit-learn<0.22,>=0.20.0->scikit-survival) (0.13.2)\n",
            "Requirement already satisfied: future in /usr/local/lib/python3.6/dist-packages (from osqp>=0.4.1->cvxpy>=1.0->scikit-survival) (0.16.0)\n",
            "Requirement already satisfied: dill>=0.3.0 in /usr/local/lib/python3.6/dist-packages (from multiprocess->cvxpy>=1.0->scikit-survival) (0.3.0)\n"
          ],
          "name": "stdout"
        }
      ]
    },
    {
      "cell_type": "code",
      "metadata": {
        "id": "N5RGGYTFHspq",
        "colab_type": "code",
        "outputId": "50f32678-a9cf-4c71-8a9e-4335530e4677",
        "colab": {
          "base_uri": "https://localhost:8080/",
          "height": 283
        }
      },
      "source": [
        "# install lifelines\n",
        "!pip install lifelines"
      ],
      "execution_count": 2,
      "outputs": [
        {
          "output_type": "stream",
          "text": [
            "Requirement already satisfied: lifelines in /usr/local/lib/python3.6/dist-packages (0.22.4)\n",
            "Requirement already satisfied: autograd>=1.3 in /usr/local/lib/python3.6/dist-packages (from lifelines) (1.3)\n",
            "Requirement already satisfied: pandas>=0.23.0 in /usr/local/lib/python3.6/dist-packages (from lifelines) (0.24.2)\n",
            "Requirement already satisfied: numpy>=1.14.0 in /usr/local/lib/python3.6/dist-packages (from lifelines) (1.16.5)\n",
            "Requirement already satisfied: scipy>=1.0 in /usr/local/lib/python3.6/dist-packages (from lifelines) (1.3.1)\n",
            "Requirement already satisfied: autograd-gamma>=0.3 in /usr/local/lib/python3.6/dist-packages (from lifelines) (0.4.1)\n",
            "Requirement already satisfied: matplotlib>=3.0 in /usr/local/lib/python3.6/dist-packages (from lifelines) (3.0.3)\n",
            "Requirement already satisfied: future>=0.15.2 in /usr/local/lib/python3.6/dist-packages (from autograd>=1.3->lifelines) (0.16.0)\n",
            "Requirement already satisfied: pytz>=2011k in /usr/local/lib/python3.6/dist-packages (from pandas>=0.23.0->lifelines) (2018.9)\n",
            "Requirement already satisfied: python-dateutil>=2.5.0 in /usr/local/lib/python3.6/dist-packages (from pandas>=0.23.0->lifelines) (2.5.3)\n",
            "Requirement already satisfied: pyparsing!=2.0.4,!=2.1.2,!=2.1.6,>=2.0.1 in /usr/local/lib/python3.6/dist-packages (from matplotlib>=3.0->lifelines) (2.4.2)\n",
            "Requirement already satisfied: kiwisolver>=1.0.1 in /usr/local/lib/python3.6/dist-packages (from matplotlib>=3.0->lifelines) (1.1.0)\n",
            "Requirement already satisfied: cycler>=0.10 in /usr/local/lib/python3.6/dist-packages (from matplotlib>=3.0->lifelines) (0.10.0)\n",
            "Requirement already satisfied: six>=1.5 in /usr/local/lib/python3.6/dist-packages (from python-dateutil>=2.5.0->pandas>=0.23.0->lifelines) (1.12.0)\n",
            "Requirement already satisfied: setuptools in /usr/local/lib/python3.6/dist-packages (from kiwisolver>=1.0.1->matplotlib>=3.0->lifelines) (41.2.0)\n"
          ],
          "name": "stdout"
        }
      ]
    },
    {
      "cell_type": "code",
      "metadata": {
        "id": "KMbsxSeyuDDt",
        "colab_type": "code",
        "colab": {}
      },
      "source": [
        "# Imports\n",
        "%matplotlib inline\n",
        "import matplotlib.pyplot as plt\n",
        "import pandas as pd\n",
        "import numpy as np"
      ],
      "execution_count": 0,
      "outputs": []
    },
    {
      "cell_type": "markdown",
      "metadata": {
        "id": "g16490hfyvN4",
        "colab_type": "text"
      },
      "source": [
        "## An example: German Breast Cancer Study Group 2 (gbcsg)"
      ]
    },
    {
      "cell_type": "markdown",
      "metadata": {
        "id": "650T7ZWgzbHW",
        "colab_type": "text"
      },
      "source": [
        "This dataset contains the following 8 features/covariables:\n",
        "\n",
        "- age: age (in years), \n",
        "- estrec: estrogen receptor (in fmol), \n",
        "- hotTh: hormonal therapy (yes or no), \n",
        "- menostat: menopausal status (premenopausal or postmenopausal),\n",
        "- pnodes: number of positive nodes, \n",
        "- progrec: progesterone receptor (in fmol), \n",
        "- tgrade: tumor grade (I < II < III), \n",
        "- tsize: tumor size (in mm).\n",
        "\n",
        "and the two outputs: \n",
        "\n",
        "- recurrence free time (in days),\n",
        "- censoring indicator (0 - censored, 1 - event).\n",
        "\n",
        "The dataset has 686 samples and 8 features/covariables.\n",
        "\n",
        "\n",
        "**References**\n",
        "\n",
        "M. Schumacher, G. Basert, H. Bojar, K. Huebner, M. Olschewski, W. Sauerbrei, C. Schmoor, C. Beyerle, R.L.A. Neumann and H.F. Rauschecker for the German Breast Cancer Study Group (1994), [Randomized 2 x 2 trial evaluating hormonal treatment and the duration of chemotherapy in node-positive breast cancer patients](https://www.ncbi.nlm.nih.gov/pubmed/7931478). Journal of Clinical Oncology, 12, 2086–2093.\n"
      ]
    },
    {
      "cell_type": "code",
      "metadata": {
        "id": "ZC3JgHaAhC-E",
        "colab_type": "code",
        "colab": {}
      },
      "source": [
        "# download the dataset\n",
        "from sksurv.datasets import load_gbsg2\n",
        "\n",
        "X, y = load_gbsg2()"
      ],
      "execution_count": 0,
      "outputs": []
    },
    {
      "cell_type": "code",
      "metadata": {
        "id": "Do8uGGtoxeDz",
        "colab_type": "code",
        "outputId": "e9f6ce73-1d74-4645-de03-ebdbbf912672",
        "colab": {
          "base_uri": "https://localhost:8080/",
          "height": 52
        }
      },
      "source": [
        "# number of samples, number of features/covariables\n",
        "print(f'Number of samples: {X.shape[0]}')\n",
        "print(f'Number of features/covariables: {X.shape[1]}')"
      ],
      "execution_count": 5,
      "outputs": [
        {
          "output_type": "stream",
          "text": [
            "Number of samples: 686\n",
            "Number of features/covariables: 8\n"
          ],
          "name": "stdout"
        }
      ]
    },
    {
      "cell_type": "code",
      "metadata": {
        "id": "nt6IYb3skYFy",
        "colab_type": "code",
        "outputId": "c6a65493-efaf-4e3d-cff3-e995f6b8978b",
        "colab": {
          "base_uri": "https://localhost:8080/",
          "height": 197
        }
      },
      "source": [
        "# show the first 5 rows\n",
        "X.head()"
      ],
      "execution_count": 6,
      "outputs": [
        {
          "output_type": "execute_result",
          "data": {
            "text/html": [
              "<div>\n",
              "<style scoped>\n",
              "    .dataframe tbody tr th:only-of-type {\n",
              "        vertical-align: middle;\n",
              "    }\n",
              "\n",
              "    .dataframe tbody tr th {\n",
              "        vertical-align: top;\n",
              "    }\n",
              "\n",
              "    .dataframe thead th {\n",
              "        text-align: right;\n",
              "    }\n",
              "</style>\n",
              "<table border=\"1\" class=\"dataframe\">\n",
              "  <thead>\n",
              "    <tr style=\"text-align: right;\">\n",
              "      <th></th>\n",
              "      <th>age</th>\n",
              "      <th>estrec</th>\n",
              "      <th>horTh</th>\n",
              "      <th>menostat</th>\n",
              "      <th>pnodes</th>\n",
              "      <th>progrec</th>\n",
              "      <th>tgrade</th>\n",
              "      <th>tsize</th>\n",
              "    </tr>\n",
              "  </thead>\n",
              "  <tbody>\n",
              "    <tr>\n",
              "      <th>0</th>\n",
              "      <td>70.0</td>\n",
              "      <td>66.0</td>\n",
              "      <td>no</td>\n",
              "      <td>Post</td>\n",
              "      <td>3.0</td>\n",
              "      <td>48.0</td>\n",
              "      <td>II</td>\n",
              "      <td>21.0</td>\n",
              "    </tr>\n",
              "    <tr>\n",
              "      <th>1</th>\n",
              "      <td>56.0</td>\n",
              "      <td>77.0</td>\n",
              "      <td>yes</td>\n",
              "      <td>Post</td>\n",
              "      <td>7.0</td>\n",
              "      <td>61.0</td>\n",
              "      <td>II</td>\n",
              "      <td>12.0</td>\n",
              "    </tr>\n",
              "    <tr>\n",
              "      <th>2</th>\n",
              "      <td>58.0</td>\n",
              "      <td>271.0</td>\n",
              "      <td>yes</td>\n",
              "      <td>Post</td>\n",
              "      <td>9.0</td>\n",
              "      <td>52.0</td>\n",
              "      <td>II</td>\n",
              "      <td>35.0</td>\n",
              "    </tr>\n",
              "    <tr>\n",
              "      <th>3</th>\n",
              "      <td>59.0</td>\n",
              "      <td>29.0</td>\n",
              "      <td>yes</td>\n",
              "      <td>Post</td>\n",
              "      <td>4.0</td>\n",
              "      <td>60.0</td>\n",
              "      <td>II</td>\n",
              "      <td>17.0</td>\n",
              "    </tr>\n",
              "    <tr>\n",
              "      <th>4</th>\n",
              "      <td>73.0</td>\n",
              "      <td>65.0</td>\n",
              "      <td>no</td>\n",
              "      <td>Post</td>\n",
              "      <td>1.0</td>\n",
              "      <td>26.0</td>\n",
              "      <td>II</td>\n",
              "      <td>35.0</td>\n",
              "    </tr>\n",
              "  </tbody>\n",
              "</table>\n",
              "</div>"
            ],
            "text/plain": [
              "    age  estrec horTh menostat  pnodes  progrec tgrade  tsize\n",
              "0  70.0    66.0    no     Post     3.0     48.0     II   21.0\n",
              "1  56.0    77.0   yes     Post     7.0     61.0     II   12.0\n",
              "2  58.0   271.0   yes     Post     9.0     52.0     II   35.0\n",
              "3  59.0    29.0   yes     Post     4.0     60.0     II   17.0\n",
              "4  73.0    65.0    no     Post     1.0     26.0     II   35.0"
            ]
          },
          "metadata": {
            "tags": []
          },
          "execution_count": 6
        }
      ]
    },
    {
      "cell_type": "code",
      "metadata": {
        "id": "l3fqRPLyCkgz",
        "colab_type": "code",
        "colab": {}
      },
      "source": [
        "# function to transform y (a numpy nd array) to a dataframe\n",
        "def target2df(y):\n",
        "  event = [y[i][0] for i in range(len(y))]\n",
        "  time = [y[i][1] for i in range(len(y))]\n",
        "  df_y = pd.DataFrame(data={'time': time, 'event': event})\n",
        "  return df_y"
      ],
      "execution_count": 0,
      "outputs": []
    },
    {
      "cell_type": "code",
      "metadata": {
        "id": "FDzHuqm67S-k",
        "colab_type": "code",
        "outputId": "8d81b1a5-f240-4669-89d4-d02620de91a0",
        "colab": {
          "base_uri": "https://localhost:8080/",
          "height": 347
        }
      },
      "source": [
        "# show the first 10 rows\n",
        "df_y = target2df(y)\n",
        "df_y.head(10)"
      ],
      "execution_count": 8,
      "outputs": [
        {
          "output_type": "execute_result",
          "data": {
            "text/html": [
              "<div>\n",
              "<style scoped>\n",
              "    .dataframe tbody tr th:only-of-type {\n",
              "        vertical-align: middle;\n",
              "    }\n",
              "\n",
              "    .dataframe tbody tr th {\n",
              "        vertical-align: top;\n",
              "    }\n",
              "\n",
              "    .dataframe thead th {\n",
              "        text-align: right;\n",
              "    }\n",
              "</style>\n",
              "<table border=\"1\" class=\"dataframe\">\n",
              "  <thead>\n",
              "    <tr style=\"text-align: right;\">\n",
              "      <th></th>\n",
              "      <th>time</th>\n",
              "      <th>event</th>\n",
              "    </tr>\n",
              "  </thead>\n",
              "  <tbody>\n",
              "    <tr>\n",
              "      <th>0</th>\n",
              "      <td>1814.0</td>\n",
              "      <td>True</td>\n",
              "    </tr>\n",
              "    <tr>\n",
              "      <th>1</th>\n",
              "      <td>2018.0</td>\n",
              "      <td>True</td>\n",
              "    </tr>\n",
              "    <tr>\n",
              "      <th>2</th>\n",
              "      <td>712.0</td>\n",
              "      <td>True</td>\n",
              "    </tr>\n",
              "    <tr>\n",
              "      <th>3</th>\n",
              "      <td>1807.0</td>\n",
              "      <td>True</td>\n",
              "    </tr>\n",
              "    <tr>\n",
              "      <th>4</th>\n",
              "      <td>772.0</td>\n",
              "      <td>True</td>\n",
              "    </tr>\n",
              "    <tr>\n",
              "      <th>5</th>\n",
              "      <td>448.0</td>\n",
              "      <td>True</td>\n",
              "    </tr>\n",
              "    <tr>\n",
              "      <th>6</th>\n",
              "      <td>2172.0</td>\n",
              "      <td>False</td>\n",
              "    </tr>\n",
              "    <tr>\n",
              "      <th>7</th>\n",
              "      <td>2161.0</td>\n",
              "      <td>False</td>\n",
              "    </tr>\n",
              "    <tr>\n",
              "      <th>8</th>\n",
              "      <td>471.0</td>\n",
              "      <td>True</td>\n",
              "    </tr>\n",
              "    <tr>\n",
              "      <th>9</th>\n",
              "      <td>2014.0</td>\n",
              "      <td>False</td>\n",
              "    </tr>\n",
              "  </tbody>\n",
              "</table>\n",
              "</div>"
            ],
            "text/plain": [
              "     time  event\n",
              "0  1814.0   True\n",
              "1  2018.0   True\n",
              "2   712.0   True\n",
              "3  1807.0   True\n",
              "4   772.0   True\n",
              "5   448.0   True\n",
              "6  2172.0  False\n",
              "7  2161.0  False\n",
              "8   471.0   True\n",
              "9  2014.0  False"
            ]
          },
          "metadata": {
            "tags": []
          },
          "execution_count": 8
        }
      ]
    },
    {
      "cell_type": "markdown",
      "metadata": {
        "id": "p69cbmvdMC0F",
        "colab_type": "text"
      },
      "source": [
        "One of the main challenges of survival analysis is **right censoring**, i.e., by the end of the study, the event of interest (for example, in medicine 'death of a patient' or in this dataset 'recurrence of cancer') has only occurred for a subset of the observations.\n",
        "\n",
        "The right censoring in this dataset is given by the column name 'event' and it's a variable which can take value 'True' if the patient had a recurrence of cancer or 'False' if the patient is recurrence free."
      ]
    },
    {
      "cell_type": "code",
      "metadata": {
        "id": "LLclIzefFTUb",
        "colab_type": "code",
        "outputId": "205a7422-4e12-44f0-da70-30e7861419e0",
        "colab": {
          "base_uri": "https://localhost:8080/",
          "height": 70
        }
      },
      "source": [
        "print(f'Number of samples: {len(df_y)}')\n",
        "print(f'Number of right censored samples: {len(df_y.query(\"event == False\"))}')\n",
        "print(f'Percentage of right censored samples: {100*len(df_y.query(\"event == False\"))/len(df_y):.1f}%')"
      ],
      "execution_count": 9,
      "outputs": [
        {
          "output_type": "stream",
          "text": [
            "Number of samples: 686\n",
            "Number of right censored samples: 387\n",
            "Percentage of right censored samples: 56.4%\n"
          ],
          "name": "stdout"
        }
      ]
    },
    {
      "cell_type": "markdown",
      "metadata": {
        "id": "VtsENFsnQhZx",
        "colab_type": "text"
      },
      "source": [
        "There are 387 patients (56.4%) who were recurrence free at the end of the study."
      ]
    },
    {
      "cell_type": "markdown",
      "metadata": {
        "id": "ZwtSNHgV3wK9",
        "colab_type": "text"
      },
      "source": [
        "## Preprocessing"
      ]
    },
    {
      "cell_type": "code",
      "metadata": {
        "id": "-Fsn-8uQ7TV9",
        "colab_type": "code",
        "outputId": "2e96f838-0c24-4fe4-c8cc-baea6f91165a",
        "colab": {
          "base_uri": "https://localhost:8080/",
          "height": 176
        }
      },
      "source": [
        "# Count how many NaN values does each feature have\n",
        "X.isnull().sum()"
      ],
      "execution_count": 10,
      "outputs": [
        {
          "output_type": "execute_result",
          "data": {
            "text/plain": [
              "age         0\n",
              "estrec      0\n",
              "horTh       0\n",
              "menostat    0\n",
              "pnodes      0\n",
              "progrec     0\n",
              "tgrade      0\n",
              "tsize       0\n",
              "dtype: int64"
            ]
          },
          "metadata": {
            "tags": []
          },
          "execution_count": 10
        }
      ]
    },
    {
      "cell_type": "markdown",
      "metadata": {
        "id": "nwlOXx8g7aVk",
        "colab_type": "text"
      },
      "source": [
        "There are no NaN values."
      ]
    },
    {
      "cell_type": "code",
      "metadata": {
        "id": "DwvxEc6G6Vxg",
        "colab_type": "code",
        "outputId": "e4d8bb30-acab-4f25-9c6b-5edf51ca2ee4",
        "colab": {
          "base_uri": "https://localhost:8080/",
          "height": 176
        }
      },
      "source": [
        "# show datatypes of the features/covariables\n",
        "X.dtypes"
      ],
      "execution_count": 11,
      "outputs": [
        {
          "output_type": "execute_result",
          "data": {
            "text/plain": [
              "age          float64\n",
              "estrec       float64\n",
              "horTh       category\n",
              "menostat    category\n",
              "pnodes       float64\n",
              "progrec      float64\n",
              "tgrade      category\n",
              "tsize        float64\n",
              "dtype: object"
            ]
          },
          "metadata": {
            "tags": []
          },
          "execution_count": 11
        }
      ]
    },
    {
      "cell_type": "markdown",
      "metadata": {
        "id": "Ro1BwjU938sK",
        "colab_type": "text"
      },
      "source": [
        "We need to transform the categorical variables to numerical variables."
      ]
    },
    {
      "cell_type": "code",
      "metadata": {
        "id": "VFvdRKkt4GuD",
        "colab_type": "code",
        "colab": {
          "base_uri": "https://localhost:8080/",
          "height": 34
        },
        "outputId": "b10a9dd3-4ece-4d4f-9d8f-b15e6f5a1a70"
      },
      "source": [
        "# tgrade: tumor grade is an ordered categorical variable so we treat it differently\n",
        "X['tgrade'] = X['tgrade'].cat.as_ordered()\n",
        "X['tgrade'].dtype"
      ],
      "execution_count": 12,
      "outputs": [
        {
          "output_type": "execute_result",
          "data": {
            "text/plain": [
              "CategoricalDtype(categories=['I', 'II', 'III'], ordered=True)"
            ]
          },
          "metadata": {
            "tags": []
          },
          "execution_count": 12
        }
      ]
    },
    {
      "cell_type": "code",
      "metadata": {
        "id": "_l-RqL484zSo",
        "colab_type": "code",
        "outputId": "7cd35053-dd49-4c3e-b50f-a2b34d456a9e",
        "colab": {
          "base_uri": "https://localhost:8080/",
          "height": 34
        }
      },
      "source": [
        "# menostat: menopausal status (premenopausal or postmenopausal) doesn't need to be ordered since it only has two categories\n",
        "X['menostat'].dtype"
      ],
      "execution_count": 13,
      "outputs": [
        {
          "output_type": "execute_result",
          "data": {
            "text/plain": [
              "CategoricalDtype(categories=['Pre', 'Post'], ordered=False)"
            ]
          },
          "metadata": {
            "tags": []
          },
          "execution_count": 13
        }
      ]
    },
    {
      "cell_type": "code",
      "metadata": {
        "id": "7leQegWYLMgU",
        "colab_type": "code",
        "colab": {
          "base_uri": "https://localhost:8080/",
          "height": 34
        },
        "outputId": "888dadc3-fce4-4224-94bd-a91c44896dab"
      },
      "source": [
        "# horTh: hormonal therapy (yes or no) doesn't need to be ordered since it only has two categories\n",
        "X['horTh'].dtype"
      ],
      "execution_count": 14,
      "outputs": [
        {
          "output_type": "execute_result",
          "data": {
            "text/plain": [
              "CategoricalDtype(categories=['no', 'yes'], ordered=False)"
            ]
          },
          "metadata": {
            "tags": []
          },
          "execution_count": 14
        }
      ]
    },
    {
      "cell_type": "code",
      "metadata": {
        "id": "tzhSA3046y5v",
        "colab_type": "code",
        "colab": {}
      },
      "source": [
        "# we transform the categorical variables to numerical variables\n",
        "X['horTh'] = X['horTh'].cat.codes\n",
        "X['menostat'] = X['menostat'].cat.codes\n",
        "X['tgrade'] = X['tgrade'].cat.codes"
      ],
      "execution_count": 0,
      "outputs": []
    },
    {
      "cell_type": "markdown",
      "metadata": {
        "id": "Q3852ABlKf1M",
        "colab_type": "text"
      },
      "source": [
        "The categorical variables became numerical:"
      ]
    },
    {
      "cell_type": "code",
      "metadata": {
        "id": "cejF9l2dKbUA",
        "colab_type": "code",
        "colab": {
          "base_uri": "https://localhost:8080/",
          "height": 176
        },
        "outputId": "32c5add5-04ec-4e81-b5b9-56a33e573cd2"
      },
      "source": [
        "X.dtypes"
      ],
      "execution_count": 16,
      "outputs": [
        {
          "output_type": "execute_result",
          "data": {
            "text/plain": [
              "age         float64\n",
              "estrec      float64\n",
              "horTh          int8\n",
              "menostat       int8\n",
              "pnodes      float64\n",
              "progrec     float64\n",
              "tgrade         int8\n",
              "tsize       float64\n",
              "dtype: object"
            ]
          },
          "metadata": {
            "tags": []
          },
          "execution_count": 16
        }
      ]
    },
    {
      "cell_type": "markdown",
      "metadata": {
        "id": "0O8SnSGyL5Gd",
        "colab_type": "text"
      },
      "source": [
        "All the variables are numerical variables now."
      ]
    },
    {
      "cell_type": "markdown",
      "metadata": {
        "id": "Js5e29nU0MpG",
        "colab_type": "text"
      },
      "source": [
        "We split the dataset into training and validation datasets."
      ]
    },
    {
      "cell_type": "code",
      "metadata": {
        "id": "_uwNQXlkn-fz",
        "colab_type": "code",
        "colab": {}
      },
      "source": [
        "from sklearn.model_selection import train_test_split\n",
        "\n",
        "X_trn, X_val, y_trn, y_val = train_test_split(X, y, test_size=0.2, random_state=311)"
      ],
      "execution_count": 0,
      "outputs": []
    },
    {
      "cell_type": "code",
      "metadata": {
        "id": "-GKHkqr_3ete",
        "colab_type": "code",
        "outputId": "7f3dd1f3-cc99-4118-af71-34855f3d27c4",
        "colab": {
          "base_uri": "https://localhost:8080/",
          "height": 52
        }
      },
      "source": [
        "print(f'Number of training samples: {len(y_trn)}')\n",
        "print(f'Number of validation samples: {len(y_val)}')"
      ],
      "execution_count": 18,
      "outputs": [
        {
          "output_type": "stream",
          "text": [
            "Number of training samples: 548\n",
            "Number of validation samples: 138\n"
          ],
          "name": "stdout"
        }
      ]
    },
    {
      "cell_type": "markdown",
      "metadata": {
        "id": "G9RvMqVD3mri",
        "colab_type": "text"
      },
      "source": [
        "If we didn't have the features, we could obtain a median time to event (recurrence) for the population (in this case the training dataset). We use the [Kaplan-Meier estimator](https://en.wikipedia.org/wiki/Kaplan%E2%80%93Meier_estimator) to estimate the probability of a patient recurrence."
      ]
    },
    {
      "cell_type": "code",
      "metadata": {
        "id": "Xzdnwq_3nrVY",
        "colab_type": "code",
        "colab": {}
      },
      "source": [
        "df_y_trn = target2df(y_trn)\n",
        "T = df_y_trn[['time']]\n",
        "E = df_y_trn[['event']]"
      ],
      "execution_count": 0,
      "outputs": []
    },
    {
      "cell_type": "code",
      "metadata": {
        "id": "8-D9rNl6nDcb",
        "colab_type": "code",
        "outputId": "20b17982-60d7-45e5-8a9f-b75d23411dfe",
        "colab": {
          "base_uri": "https://localhost:8080/",
          "height": 457
        }
      },
      "source": [
        "# Kaplan-Meier estimator\n",
        "from lifelines import KaplanMeierFitter\n",
        "\n",
        "kmf = KaplanMeierFitter()\n",
        "kmf.fit(T,E)\n",
        "\n",
        "plt.figure(figsize=(7,7))\n",
        "ax = plt.subplot(111)\n",
        "kmf.plot(ax=ax)\n",
        "plt.title('Estimated probability of recurrence free vs number of days')\n",
        "plt.xlabel('Time (in days)')\n",
        "plt.ylabel('Estimated probability of recurrence free')\n",
        "plt.show()"
      ],
      "execution_count": 20,
      "outputs": [
        {
          "output_type": "display_data",
          "data": {
            "image/png": "[encoded data removed]",
            "text/plain": [
              "<Figure size 504x504 with 1 Axes>"
            ]
          },
          "metadata": {
            "tags": []
          }
        }
      ]
    },
    {
      "cell_type": "code",
      "metadata": {
        "id": "JIU-w0vaoQgr",
        "colab_type": "code",
        "outputId": "63223fd2-9dc0-4414-9fd1-155187044b09",
        "colab": {
          "base_uri": "https://localhost:8080/",
          "height": 34
        }
      },
      "source": [
        "print(f'Median time to event (in days): {kmf.median_}')"
      ],
      "execution_count": 21,
      "outputs": [
        {
          "output_type": "stream",
          "text": [
            "Median time to event (in days): 1806.0\n"
          ],
          "name": "stdout"
        }
      ]
    },
    {
      "cell_type": "markdown",
      "metadata": {
        "id": "C4a3Du3piCoY",
        "colab_type": "text"
      },
      "source": [
        "## Cox Proportional Hazards"
      ]
    },
    {
      "cell_type": "markdown",
      "metadata": {
        "id": "iJhss5OtM_8A",
        "colab_type": "text"
      },
      "source": [
        "The first model we will use to make our risk predictions is [Cox Proportional Hazards model](https://en.wikipedia.org/wiki/Proportional_hazards_model). To measure the performance of our models we use [Harrell's concordance index or c-index](https://www.semanticscholar.org/paper/Multivariable-prognostic-models%3A-issues-in-models%2C-Harrell-Lee/7705392f1068c76669de750c6d0da8144da3304d):\n",
        "+ a value of 0.5 denotes a random model,\n",
        "+ a value of 1.0 denotes a perfect model,\n",
        "+ a value of 0.0 denotes a perfectly wrong model."
      ]
    },
    {
      "cell_type": "code",
      "metadata": {
        "id": "E2dQTbOFpOtT",
        "colab_type": "code",
        "outputId": "5a9842a9-7469-4e70-c685-4f33e453252e",
        "colab": {
          "base_uri": "https://localhost:8080/",
          "height": 34
        }
      },
      "source": [
        "from sklearn.pipeline import Pipeline\n",
        "from sklearn.preprocessing import StandardScaler\n",
        "from sksurv.linear_model import CoxPHSurvivalAnalysis\n",
        "from sksurv.metrics import concordance_index_censored\n",
        "\n",
        "steps = [('scaler', StandardScaler()), ('coxph', CoxPHSurvivalAnalysis())]\n",
        "cox = Pipeline(steps)\n",
        "cox.fit(X_trn, y_trn)\n",
        "ci_cox = concordance_index_censored(y_val[\"cens\"], y_val[\"time\"], cox.predict(X_val))\n",
        "print(f'The c-index of Cox is given by {ci_cox[0]:.3f}')"
      ],
      "execution_count": 22,
      "outputs": [
        {
          "output_type": "stream",
          "text": [
            "The c-index of Cox is given by 0.631\n"
          ],
          "name": "stdout"
        }
      ]
    },
    {
      "cell_type": "markdown",
      "metadata": {
        "id": "iF9JypgnOdfu",
        "colab_type": "text"
      },
      "source": [
        "Our model learnt something since the value is much higher than 0.5. However, it's far from perfect."
      ]
    },
    {
      "cell_type": "markdown",
      "metadata": {
        "id": "8lyAyifyPKj4",
        "colab_type": "text"
      },
      "source": [
        "The result of our model is a vector of coefficients, one for each feature/covariable, where each value corresponds to the [log hazard ratio](https://en.wikipedia.org/wiki/Hazard_ratio)."
      ]
    },
    {
      "cell_type": "code",
      "metadata": {
        "id": "Hs6cyD2UkPcK",
        "colab_type": "code",
        "outputId": "ffcd40c6-4484-4588-f75e-7c5128d94192",
        "colab": {
          "base_uri": "https://localhost:8080/",
          "height": 176
        }
      },
      "source": [
        "pd.Series(cox.named_steps['coxph'].coef_, index=X_trn.columns)"
      ],
      "execution_count": 23,
      "outputs": [
        {
          "output_type": "execute_result",
          "data": {
            "text/plain": [
              "age        -0.024203\n",
              "estrec     -0.031011\n",
              "horTh      -0.170444\n",
              "menostat    0.091284\n",
              "pnodes      0.272954\n",
              "progrec    -0.456570\n",
              "tgrade      0.193116\n",
              "tsize       0.094109\n",
              "dtype: float64"
            ]
          },
          "metadata": {
            "tags": []
          },
          "execution_count": 23
        }
      ]
    },
    {
      "cell_type": "markdown",
      "metadata": {
        "id": "JYlfg7VzPj2P",
        "colab_type": "text"
      },
      "source": [
        "We do a horizontal bar plot of the most important features/covariables."
      ]
    },
    {
      "cell_type": "code",
      "metadata": {
        "id": "KsEVmxP1r6mM",
        "colab_type": "code",
        "outputId": "207caf25-515f-4bdf-8f5a-f6515c9c15ce",
        "colab": {
          "base_uri": "https://localhost:8080/",
          "height": 268
        }
      },
      "source": [
        "# Feature importance\n",
        "fi_cox = cox.named_steps['coxph'].coef_\n",
        "rfi_cox = np.abs(fi_cox)/np.sum(np.abs(fi_cox))\n",
        "lab = X_trn.columns\n",
        "df_fi_cox = pd.DataFrame({'lab_cox': lab, 'value_cox': rfi_cox}, index=lab)\n",
        "df_fi_cox = df_fi_cox.sort_values(by='value_cox', ascending=True)\n",
        "df_fi_cox.plot.barh(y='value_cox');"
      ],
      "execution_count": 24,
      "outputs": [
        {
          "output_type": "display_data",
          "data": {
            "image/png": "[encoded data removed]",
            "text/plain": [
              "<Figure size 432x288 with 1 Axes>"
            ]
          },
          "metadata": {
            "tags": []
          }
        }
      ]
    },
    {
      "cell_type": "markdown",
      "metadata": {
        "id": "9i_4KsVs45Zm",
        "colab_type": "text"
      },
      "source": [
        "The progesterone receptor (progrec) seems to be the most important feature according to Cox proportional hazards model, then the quantity of nodes (pnodes) and menopausal status (menostat)."
      ]
    },
    {
      "cell_type": "markdown",
      "metadata": {
        "id": "wdpvuv0WP-q-",
        "colab_type": "text"
      },
      "source": [
        "## Gradient Boosting Cox PH"
      ]
    },
    {
      "cell_type": "markdown",
      "metadata": {
        "id": "Tp_nvt61QITW",
        "colab_type": "text"
      },
      "source": [
        "The second model we will use to make our risk predictions is [Gradient Boosting Cox PH](https://scikit-survival.readthedocs.io/en/latest/generated/sksurv.ensemble.GradientBoostingSurvivalAnalysis.html)."
      ]
    },
    {
      "cell_type": "code",
      "metadata": {
        "id": "S5578lm6p-ID",
        "colab_type": "code",
        "outputId": "ae67f874-a869-4a8f-98be-33a414b03789",
        "colab": {
          "base_uri": "https://localhost:8080/",
          "height": 34
        }
      },
      "source": [
        "from sksurv.ensemble import GradientBoostingSurvivalAnalysis\n",
        "\n",
        "gb = GradientBoostingSurvivalAnalysis(random_state=42)\n",
        "gb.fit(X_trn, y_trn)\n",
        "ci_gb = concordance_index_censored(y_val[\"cens\"], y_val[\"time\"], gb.predict(X_val))[0]\n",
        "print(f'The c-index of Gradient Boosting is given by {ci_gb:.3f}')"
      ],
      "execution_count": 25,
      "outputs": [
        {
          "output_type": "stream",
          "text": [
            "The c-index of Gradient Boosting is given by 0.708\n"
          ],
          "name": "stdout"
        }
      ]
    },
    {
      "cell_type": "markdown",
      "metadata": {
        "id": "08EMd5s_QeMX",
        "colab_type": "text"
      },
      "source": [
        "The c-index is higher to the one obtained by Cox proportional hazards model.\n",
        "\n",
        "We do a horizontal bar plot of the most important features/covariables."
      ]
    },
    {
      "cell_type": "code",
      "metadata": {
        "id": "Fm3RJ_dV1pZJ",
        "colab_type": "code",
        "outputId": "f6bbd24e-d9d1-4b38-b5ae-44639a9b336d",
        "colab": {
          "base_uri": "https://localhost:8080/",
          "height": 268
        }
      },
      "source": [
        "# feature importance\n",
        "fi_gb = gb.feature_importances_\n",
        "rfi_gb =  np.abs(fi_gb)/np.sum(np.abs(fi_gb))\n",
        "lab = X_trn.columns\n",
        "df_fi_gb = pd.DataFrame({'lab_gb': lab, 'value_gb': rfi_gb}, index=lab)\n",
        "df_fi_gb = df_fi_gb.sort_values(by='value_gb', ascending=True)\n",
        "df_fi_gb.plot.barh(y='value_gb');"
      ],
      "execution_count": 26,
      "outputs": [
        {
          "output_type": "display_data",
          "data": {
            "image/png": "[encoded data removed]",
            "text/plain": [
              "<Figure size 432x288 with 1 Axes>"
            ]
          },
          "metadata": {
            "tags": []
          }
        }
      ]
    },
    {
      "cell_type": "markdown",
      "metadata": {
        "id": "Wz-oZKkr5Hjc",
        "colab_type": "text"
      },
      "source": [
        "The number of nodes (pnodes), the progesterone receptor (progrec), and age seem to be the most importan features for Gradient Boosting Cox PH model, while menopausal status (menostat) seems to be less important especially comparing with the importance it was given by Cox PH model."
      ]
    },
    {
      "cell_type": "markdown",
      "metadata": {
        "id": "K-zpliYX_ddi",
        "colab_type": "text"
      },
      "source": [
        "It may be the case that it was just luck on the split of our dataset which produced the advantage of gradient boosting Cox PH compared to Cox proportional hazards.\n",
        "\n",
        "Let's now compare these approaches with several different splits of the training and validation datasets."
      ]
    },
    {
      "cell_type": "code",
      "metadata": {
        "id": "Pd0S7rYMUFuJ",
        "colab_type": "code",
        "colab": {}
      },
      "source": [
        "# choose 25 random seeds\n",
        "np.random.seed(0)\n",
        "seeds = np.random.permutation(1000)[:25]"
      ],
      "execution_count": 0,
      "outputs": []
    },
    {
      "cell_type": "code",
      "metadata": {
        "id": "4_CQUUOeZGHs",
        "colab_type": "code",
        "colab": {}
      },
      "source": [
        "from sklearn.preprocessing import StandardScaler\n",
        "from sklearn.pipeline import make_pipeline\n",
        "\n",
        "cox_scores = []\n",
        "gb_scores = []\n",
        "for seed in seeds:\n",
        "  X_trn, X_val, y_trn, y_val = train_test_split(X, y, test_size=0.2, random_state=seed)\n",
        "  \n",
        "  cox = make_pipeline(StandardScaler(), CoxPHSurvivalAnalysis())\n",
        "  cox.fit(X_trn, y_trn)\n",
        "  cox_scores.append(cox.score(X_val, y_val))\n",
        "  \n",
        "  gb = GradientBoostingSurvivalAnalysis(random_state=seed)\n",
        "  gb.fit(X_trn, y_trn)\n",
        "  gb_scores.append(gb.score(X_val, y_val))  "
      ],
      "execution_count": 0,
      "outputs": []
    },
    {
      "cell_type": "code",
      "metadata": {
        "id": "PoR41GvHb_2U",
        "colab_type": "code",
        "outputId": "252b1566-3eca-4d69-acaa-5264ca39ea8a",
        "colab": {
          "base_uri": "https://localhost:8080/",
          "height": 52
        }
      },
      "source": [
        "print(f'Cox PH model: Mean c-index: {np.mean(cox_scores):.3f}, standard deviation: {np.std(cox_scores):.3f}')\n",
        "print(f'Gradient Boosting Cox PH model: Mean c-index: {np.mean(gb_scores):.3f}, standard deviation: {np.std(cox_scores):.3f}')"
      ],
      "execution_count": 29,
      "outputs": [
        {
          "output_type": "stream",
          "text": [
            "Cox PH model: Mean c-index: 0.669, standard deviation: 0.037\n",
            "Gradient Boosting Cox PH model: Mean c-index: 0.694, standard deviation: 0.037\n"
          ],
          "name": "stdout"
        }
      ]
    },
    {
      "cell_type": "code",
      "metadata": {
        "id": "OQKYd5FKa42E",
        "colab_type": "code",
        "outputId": "0a57ff63-7538-40bd-d8bc-1ccccbe295d6",
        "colab": {
          "base_uri": "https://localhost:8080/",
          "height": 384
        }
      },
      "source": [
        "data = [cox_scores, gb_scores]\n",
        "green_diamond = dict(markerfacecolor='g', marker='D')\n",
        "fig1, ax1 = plt.subplots()\n",
        "ax1.set_title('Concordance indexes for Cox PH and Gradient Boosting Cox PH')\n",
        "ax1.boxplot(data, notch=True, flierprops=green_diamond)\n",
        "ax1.set_xticklabels(['Cox Proportional Hazards', 'Gradient Boosting Cox PH'], rotation=45)\n",
        "ax1.set_xlabel('Models')\n",
        "ax1.set_ylabel('c-index')\n",
        "plt.show()"
      ],
      "execution_count": 30,
      "outputs": [
        {
          "output_type": "display_data",
          "data": {
            "image/png": "[encoded data removed]",
            "text/plain": [
              "<Figure size 432x288 with 1 Axes>"
            ]
          },
          "metadata": {
            "tags": []
          }
        }
      ]
    },
    {
      "cell_type": "markdown",
      "metadata": {
        "id": "Y34lKnHvS3Ac",
        "colab_type": "text"
      },
      "source": [
        "We look at the difference between the c-indexes of Gradient Boosting Cox PH and Cox proportional hazards."
      ]
    },
    {
      "cell_type": "code",
      "metadata": {
        "id": "_hO8SpN-SrtJ",
        "colab_type": "code",
        "colab": {}
      },
      "source": [
        "data = [gb_scores[i] - cox_scores[i] for i in range(len(gb_scores))]"
      ],
      "execution_count": 0,
      "outputs": []
    },
    {
      "cell_type": "code",
      "metadata": {
        "id": "iZNGazQ1StmI",
        "colab_type": "code",
        "colab": {
          "base_uri": "https://localhost:8080/",
          "height": 34
        },
        "outputId": "dddacae0-9336-43ba-a2ed-85e231aa570a"
      },
      "source": [
        "print(f'Difference c-indexes of GB Cox PH minus Cox PH: mean :{np.mean(data):.3f}, standard deviation: {np.std(data):.3f}')"
      ],
      "execution_count": 32,
      "outputs": [
        {
          "output_type": "stream",
          "text": [
            "Difference c-indexes of GB Cox PH minus Cox PH: mean :0.024, standard deviation: 0.028\n"
          ],
          "name": "stdout"
        }
      ]
    },
    {
      "cell_type": "code",
      "metadata": {
        "colab_type": "code",
        "outputId": "aa037cea-f823-4f90-a546-5b26e6a39779",
        "id": "WVcnJ_4dSGtw",
        "colab": {
          "base_uri": "https://localhost:8080/",
          "height": 314
        }
      },
      "source": [
        "green_diamond = dict(markerfacecolor='g', marker='D')\n",
        "fig, ax = plt.subplots()\n",
        "ax.set_title('Difference of c-indexes of Gradient Boosting Cox PH minus Cox proportional hazards')\n",
        "ax.boxplot(data, notch=True, flierprops=green_diamond)\n",
        "ax.set_xticklabels(['Difference'], rotation=45)\n",
        "ax.set_xlabel('')\n",
        "ax.set_ylabel('c-index')\n",
        "plt.show()"
      ],
      "execution_count": 33,
      "outputs": [
        {
          "output_type": "display_data",
          "data": {
            "image/png": "[encoded data removed]",
            "text/plain": [
              "<Figure size 432x288 with 1 Axes>"
            ]
          },
          "metadata": {
            "tags": []
          }
        }
      ]
    },
    {
      "cell_type": "markdown",
      "metadata": {
        "id": "jW2ke1emAhre",
        "colab_type": "text"
      },
      "source": [
        "In most of the cases, Gradient Boosting Cox PH model performs better than Cox proportional hazards model in this dataset."
      ]
    }
  ]
}