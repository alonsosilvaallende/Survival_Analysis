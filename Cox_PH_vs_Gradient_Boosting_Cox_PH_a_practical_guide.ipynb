{
  "nbformat": 4,
  "nbformat_minor": 0,
  "metadata": {
    "colab": {
      "name": "Survival.ipynb",
      "version": "0.3.2",
      "provenance": [],
      "collapsed_sections": [],
      "include_colab_link": true
    },
    "kernelspec": {
      "name": "python3",
      "display_name": "Python 3"
    },
    "accelerator": "GPU"
  },
  "cells": [
    {
      "cell_type": "markdown",
      "metadata": {
        "id": "view-in-github",
        "colab_type": "text"
      },
      "source": [
        "<a href=\"https://colab.research.google.com/github/alonsosilvaallende/Survival_Analysis/blob/master/Cox_PH_vs_Gradient_Boosting_Cox_PH_a_practical_guide.ipynb\" target=\"_parent\"><img src=\"https://colab.research.google.com/assets/colab-badge.svg\" alt=\"Open In Colab\"/></a>"
      ]
    },
    {
      "cell_type": "markdown",
      "metadata": {
        "id": "1lVF4IpCvpD_",
        "colab_type": "text"
      },
      "source": [
        "# Survival Analysis: Cox Proportional Hazards vs Gradient Boosting Cox\n",
        "\n",
        "[Alonso Silva](http://www.dim.uchile.cl/~alsilva/) [(@alonsosilva)](https://twitter.com/alonsosilva) | 2019/09/09\n",
        "\n"
      ]
    },
    {
      "cell_type": "markdown",
      "metadata": {
        "id": "q9UZi0hSKQOm",
        "colab_type": "text"
      },
      "source": [
        "The objective of this notebook is to compare two methods (Cox proportional hazards and gradient boosting Cox PH) to estimate the survival probability given a set of features/covariables.\n",
        "\n",
        "We install [scikit-survival](https://pypi.org/project/scikit-survival/) and [lifelines](https://lifelines.readthedocs.io/en/latest/)."
      ]
    },
    {
      "cell_type": "code",
      "metadata": {
        "id": "UD5r2JijiQJX",
        "colab_type": "code",
        "outputId": "fa9481e1-3804-4611-e85e-1b4ba12fb3d6",
        "colab": {
          "base_uri": "https://localhost:8080/",
          "height": 517
        }
      },
      "source": [
        "# install scikit-survival\n",
        "!pip install scikit-survival"
      ],
      "execution_count": 0,
      "outputs": [
        {
          "output_type": "stream",
          "text": [
            "Collecting scikit-survival\n",
            "\u001b[?25l  Downloading https://files.pythonhosted.org/packages/ee/12/0f7741658971c43fd63895ec70a775fd609710384409440ef03e786df870/scikit-survival-0.10.tar.gz (2.3MB)\n",
            "\u001b[K     |████████████████████████████████| 2.3MB 2.8MB/s \n",
            "\u001b[?25hRequirement already satisfied: cvxopt in /usr/local/lib/python3.6/dist-packages (from scikit-survival) (1.2.3)\n",
            "Requirement already satisfied: cvxpy>=1.0 in /usr/local/lib/python3.6/dist-packages (from scikit-survival) (1.0.25)\n",
            "Requirement already satisfied: numexpr in /usr/local/lib/python3.6/dist-packages (from scikit-survival) (2.7.0)\n",
            "Requirement already satisfied: numpy in /usr/local/lib/python3.6/dist-packages (from scikit-survival) (1.16.5)\n",
            "Requirement already satisfied: pandas<0.25,>=0.21 in /usr/local/lib/python3.6/dist-packages (from scikit-survival) (0.24.2)\n",
            "Requirement already satisfied: scipy!=1.3.0,>=1.0 in /usr/local/lib/python3.6/dist-packages (from scikit-survival) (1.3.1)\n",
            "Requirement already satisfied: scikit-learn<0.22,>=0.20.0 in /usr/local/lib/python3.6/dist-packages (from scikit-survival) (0.21.3)\n",
            "Requirement already satisfied: six in /usr/local/lib/python3.6/dist-packages (from cvxpy>=1.0->scikit-survival) (1.12.0)\n",
            "Requirement already satisfied: osqp>=0.4.1 in /usr/local/lib/python3.6/dist-packages (from cvxpy>=1.0->scikit-survival) (0.6.1)\n",
            "Requirement already satisfied: multiprocess in /usr/local/lib/python3.6/dist-packages (from cvxpy>=1.0->scikit-survival) (0.70.8)\n",
            "Requirement already satisfied: scs>=1.1.3 in /usr/local/lib/python3.6/dist-packages (from cvxpy>=1.0->scikit-survival) (2.1.1.post2)\n",
            "Requirement already satisfied: ecos>=2 in /usr/local/lib/python3.6/dist-packages (from cvxpy>=1.0->scikit-survival) (2.0.7.post1)\n",
            "Requirement already satisfied: python-dateutil>=2.5.0 in /usr/local/lib/python3.6/dist-packages (from pandas<0.25,>=0.21->scikit-survival) (2.5.3)\n",
            "Requirement already satisfied: pytz>=2011k in /usr/local/lib/python3.6/dist-packages (from pandas<0.25,>=0.21->scikit-survival) (2018.9)\n",
            "Requirement already satisfied: joblib>=0.11 in /usr/local/lib/python3.6/dist-packages (from scikit-learn<0.22,>=0.20.0->scikit-survival) (0.13.2)\n",
            "Requirement already satisfied: future in /usr/local/lib/python3.6/dist-packages (from osqp>=0.4.1->cvxpy>=1.0->scikit-survival) (0.16.0)\n",
            "Requirement already satisfied: dill>=0.3.0 in /usr/local/lib/python3.6/dist-packages (from multiprocess->cvxpy>=1.0->scikit-survival) (0.3.0)\n",
            "Building wheels for collected packages: scikit-survival\n",
            "  Building wheel for scikit-survival (setup.py) ... \u001b[?25l\u001b[?25hdone\n",
            "  Created wheel for scikit-survival: filename=scikit_survival-0.10-cp36-cp36m-linux_x86_64.whl size=2099462 sha256=87767e7a63a5638992700b49e933ed5be28c15f8450c16211d69c0af46e604c7\n",
            "  Stored in directory: /root/.cache/pip/wheels/6a/71/ec/cc82030060916e31495baef4e77d72386093a4e52532636c90\n",
            "Successfully built scikit-survival\n",
            "Installing collected packages: scikit-survival\n",
            "Successfully installed scikit-survival-0.10\n"
          ],
          "name": "stdout"
        }
      ]
    },
    {
      "cell_type": "code",
      "metadata": {
        "id": "N5RGGYTFHspq",
        "colab_type": "code",
        "outputId": "b469793c-d64f-4a8b-e3f6-28d485bb9c41",
        "colab": {
          "base_uri": "https://localhost:8080/",
          "height": 372
        }
      },
      "source": [
        "# install lifelines\n",
        "!pip install lifelines"
      ],
      "execution_count": 0,
      "outputs": [
        {
          "output_type": "stream",
          "text": [
            "Collecting lifelines\n",
            "\u001b[?25l  Downloading https://files.pythonhosted.org/packages/65/80/7bf52ea5b675797473362b739fbe00b767b83969f72d592498ec7c5f95b5/lifelines-0.22.4-py2.py3-none-any.whl (336kB)\n",
            "\u001b[K     |████████████████████████████████| 337kB 2.8MB/s \n",
            "\u001b[?25hRequirement already satisfied: matplotlib>=3.0 in /usr/local/lib/python3.6/dist-packages (from lifelines) (3.0.3)\n",
            "Requirement already satisfied: autograd>=1.3 in /usr/local/lib/python3.6/dist-packages (from lifelines) (1.3)\n",
            "Requirement already satisfied: numpy>=1.14.0 in /usr/local/lib/python3.6/dist-packages (from lifelines) (1.16.5)\n",
            "Requirement already satisfied: scipy>=1.0 in /usr/local/lib/python3.6/dist-packages (from lifelines) (1.3.1)\n",
            "Collecting autograd-gamma>=0.3 (from lifelines)\n",
            "  Downloading https://files.pythonhosted.org/packages/3e/87/788c4bf90cc5c534cb3b7fdb5b719175e33e2658decce75e35e2ce69766f/autograd_gamma-0.4.1-py2.py3-none-any.whl\n",
            "Requirement already satisfied: pandas>=0.23.0 in /usr/local/lib/python3.6/dist-packages (from lifelines) (0.24.2)\n",
            "Requirement already satisfied: cycler>=0.10 in /usr/local/lib/python3.6/dist-packages (from matplotlib>=3.0->lifelines) (0.10.0)\n",
            "Requirement already satisfied: pyparsing!=2.0.4,!=2.1.2,!=2.1.6,>=2.0.1 in /usr/local/lib/python3.6/dist-packages (from matplotlib>=3.0->lifelines) (2.4.2)\n",
            "Requirement already satisfied: python-dateutil>=2.1 in /usr/local/lib/python3.6/dist-packages (from matplotlib>=3.0->lifelines) (2.5.3)\n",
            "Requirement already satisfied: kiwisolver>=1.0.1 in /usr/local/lib/python3.6/dist-packages (from matplotlib>=3.0->lifelines) (1.1.0)\n",
            "Requirement already satisfied: future>=0.15.2 in /usr/local/lib/python3.6/dist-packages (from autograd>=1.3->lifelines) (0.16.0)\n",
            "Requirement already satisfied: pytz>=2011k in /usr/local/lib/python3.6/dist-packages (from pandas>=0.23.0->lifelines) (2018.9)\n",
            "Requirement already satisfied: six in /usr/local/lib/python3.6/dist-packages (from cycler>=0.10->matplotlib>=3.0->lifelines) (1.12.0)\n",
            "Requirement already satisfied: setuptools in /usr/local/lib/python3.6/dist-packages (from kiwisolver>=1.0.1->matplotlib>=3.0->lifelines) (41.2.0)\n",
            "Installing collected packages: autograd-gamma, lifelines\n",
            "Successfully installed autograd-gamma-0.4.1 lifelines-0.22.4\n"
          ],
          "name": "stdout"
        }
      ]
    },
    {
      "cell_type": "code",
      "metadata": {
        "id": "KMbsxSeyuDDt",
        "colab_type": "code",
        "colab": {}
      },
      "source": [
        "# Imports\n",
        "%matplotlib inline\n",
        "import matplotlib.pyplot as plt\n",
        "import pandas as pd\n",
        "import numpy as np"
      ],
      "execution_count": 0,
      "outputs": []
    },
    {
      "cell_type": "markdown",
      "metadata": {
        "id": "g16490hfyvN4",
        "colab_type": "text"
      },
      "source": [
        "## An example: German Breast Cancer Study Group 2 (gbcsg)"
      ]
    },
    {
      "cell_type": "markdown",
      "metadata": {
        "id": "650T7ZWgzbHW",
        "colab_type": "text"
      },
      "source": [
        "This dataset contains the following 8 input variables (features/covariables):\n",
        "\n",
        "- age (in years), \n",
        "- estrogen receptor (in fmol), \n",
        "- hormonal therapy (yes or no), \n",
        "- menopausal status (premenopausal or postmenopausal),\n",
        "- number of positive nodes, \n",
        "- progesterone receptor (in fmol), \n",
        "- tumor grade (I < II < III), \n",
        "- tumor size (in mm).\n",
        "\n",
        "\n",
        "The dataset has 686 samples and 8 features. Recurrence-free survival occurred for 299 patients (43.6%).\n",
        "\n",
        "\n",
        "**References**\n",
        "\n",
        "M. Schumacher, G. Basert, H. Bojar, K. Huebner, M. Olschewski, W. Sauerbrei, C. Schmoor, C. Beyerle, R.L.A. Neumann and H.F. Rauschecker for the German Breast Cancer Study Group (1994), [Randomized 2 x 2 trial evaluating hormonal treatment and the duration of chemotherapy in node-positive breast cancer patients](https://www.ncbi.nlm.nih.gov/pubmed/7931478). Journal of Clinical Oncology, 12, 2086–2093.\n"
      ]
    },
    {
      "cell_type": "code",
      "metadata": {
        "id": "ZC3JgHaAhC-E",
        "colab_type": "code",
        "colab": {}
      },
      "source": [
        "# download the dataset\n",
        "from sksurv.datasets import load_gbsg2\n",
        "\n",
        "X, y = load_gbsg2()"
      ],
      "execution_count": 0,
      "outputs": []
    },
    {
      "cell_type": "code",
      "metadata": {
        "id": "Do8uGGtoxeDz",
        "colab_type": "code",
        "outputId": "b2f87e0f-3839-417f-9c57-105f3a996378",
        "colab": {
          "base_uri": "https://localhost:8080/",
          "height": 35
        }
      },
      "source": [
        "# number of samples, number of features\n",
        "X.shape"
      ],
      "execution_count": 0,
      "outputs": [
        {
          "output_type": "execute_result",
          "data": {
            "text/plain": [
              "(686, 8)"
            ]
          },
          "metadata": {
            "tags": []
          },
          "execution_count": 5
        }
      ]
    },
    {
      "cell_type": "code",
      "metadata": {
        "id": "nt6IYb3skYFy",
        "colab_type": "code",
        "outputId": "c6e5a418-1919-4203-de45-83455ca490c3",
        "colab": {
          "base_uri": "https://localhost:8080/",
          "height": 200
        }
      },
      "source": [
        "X.head()"
      ],
      "execution_count": 0,
      "outputs": [
        {
          "output_type": "execute_result",
          "data": {
            "text/html": [
              "<div>\n",
              "<style scoped>\n",
              "    .dataframe tbody tr th:only-of-type {\n",
              "        vertical-align: middle;\n",
              "    }\n",
              "\n",
              "    .dataframe tbody tr th {\n",
              "        vertical-align: top;\n",
              "    }\n",
              "\n",
              "    .dataframe thead th {\n",
              "        text-align: right;\n",
              "    }\n",
              "</style>\n",
              "<table border=\"1\" class=\"dataframe\">\n",
              "  <thead>\n",
              "    <tr style=\"text-align: right;\">\n",
              "      <th></th>\n",
              "      <th>age</th>\n",
              "      <th>estrec</th>\n",
              "      <th>horTh</th>\n",
              "      <th>menostat</th>\n",
              "      <th>pnodes</th>\n",
              "      <th>progrec</th>\n",
              "      <th>tgrade</th>\n",
              "      <th>tsize</th>\n",
              "    </tr>\n",
              "  </thead>\n",
              "  <tbody>\n",
              "    <tr>\n",
              "      <th>0</th>\n",
              "      <td>70.0</td>\n",
              "      <td>66.0</td>\n",
              "      <td>no</td>\n",
              "      <td>Post</td>\n",
              "      <td>3.0</td>\n",
              "      <td>48.0</td>\n",
              "      <td>II</td>\n",
              "      <td>21.0</td>\n",
              "    </tr>\n",
              "    <tr>\n",
              "      <th>1</th>\n",
              "      <td>56.0</td>\n",
              "      <td>77.0</td>\n",
              "      <td>yes</td>\n",
              "      <td>Post</td>\n",
              "      <td>7.0</td>\n",
              "      <td>61.0</td>\n",
              "      <td>II</td>\n",
              "      <td>12.0</td>\n",
              "    </tr>\n",
              "    <tr>\n",
              "      <th>2</th>\n",
              "      <td>58.0</td>\n",
              "      <td>271.0</td>\n",
              "      <td>yes</td>\n",
              "      <td>Post</td>\n",
              "      <td>9.0</td>\n",
              "      <td>52.0</td>\n",
              "      <td>II</td>\n",
              "      <td>35.0</td>\n",
              "    </tr>\n",
              "    <tr>\n",
              "      <th>3</th>\n",
              "      <td>59.0</td>\n",
              "      <td>29.0</td>\n",
              "      <td>yes</td>\n",
              "      <td>Post</td>\n",
              "      <td>4.0</td>\n",
              "      <td>60.0</td>\n",
              "      <td>II</td>\n",
              "      <td>17.0</td>\n",
              "    </tr>\n",
              "    <tr>\n",
              "      <th>4</th>\n",
              "      <td>73.0</td>\n",
              "      <td>65.0</td>\n",
              "      <td>no</td>\n",
              "      <td>Post</td>\n",
              "      <td>1.0</td>\n",
              "      <td>26.0</td>\n",
              "      <td>II</td>\n",
              "      <td>35.0</td>\n",
              "    </tr>\n",
              "  </tbody>\n",
              "</table>\n",
              "</div>"
            ],
            "text/plain": [
              "    age  estrec horTh menostat  pnodes  progrec tgrade  tsize\n",
              "0  70.0    66.0    no     Post     3.0     48.0     II   21.0\n",
              "1  56.0    77.0   yes     Post     7.0     61.0     II   12.0\n",
              "2  58.0   271.0   yes     Post     9.0     52.0     II   35.0\n",
              "3  59.0    29.0   yes     Post     4.0     60.0     II   17.0\n",
              "4  73.0    65.0    no     Post     1.0     26.0     II   35.0"
            ]
          },
          "metadata": {
            "tags": []
          },
          "execution_count": 6
        }
      ]
    },
    {
      "cell_type": "code",
      "metadata": {
        "id": "ZAOM7MHanZ3j",
        "colab_type": "code",
        "outputId": "08e31f0d-7da1-49fd-ccb6-5d7e972229b2",
        "colab": {
          "base_uri": "https://localhost:8080/",
          "height": 52
        }
      },
      "source": [
        "y[:5]"
      ],
      "execution_count": 0,
      "outputs": [
        {
          "output_type": "execute_result",
          "data": {
            "text/plain": [
              "array([( True, 1814.), ( True, 2018.), ( True,  712.), ( True, 1807.),\n",
              "       ( True,  772.)], dtype=[('cens', '?'), ('time', '<f8')])"
            ]
          },
          "metadata": {
            "tags": []
          },
          "execution_count": 7
        }
      ]
    },
    {
      "cell_type": "code",
      "metadata": {
        "id": "l3fqRPLyCkgz",
        "colab_type": "code",
        "colab": {}
      },
      "source": [
        "# function to transform y (a numpy nd array) to a dataframe\n",
        "def target2df(y):\n",
        "  censored = [y[i][0] for i in range(len(y))]\n",
        "  time_to_event = [y[i][1] for i in range(len(y))]\n",
        "  df_y = pd.DataFrame(data={'censored': censored, 'time': time_to_event})\n",
        "  return df_y"
      ],
      "execution_count": 0,
      "outputs": []
    },
    {
      "cell_type": "code",
      "metadata": {
        "id": "FDzHuqm67S-k",
        "colab_type": "code",
        "outputId": "8219b083-a7df-4f84-eb42-1aacca009d74",
        "colab": {
          "base_uri": "https://localhost:8080/",
          "height": 352
        }
      },
      "source": [
        "df_y = target2df(y)\n",
        "df_y.head(10)"
      ],
      "execution_count": 0,
      "outputs": [
        {
          "output_type": "execute_result",
          "data": {
            "text/html": [
              "<div>\n",
              "<style scoped>\n",
              "    .dataframe tbody tr th:only-of-type {\n",
              "        vertical-align: middle;\n",
              "    }\n",
              "\n",
              "    .dataframe tbody tr th {\n",
              "        vertical-align: top;\n",
              "    }\n",
              "\n",
              "    .dataframe thead th {\n",
              "        text-align: right;\n",
              "    }\n",
              "</style>\n",
              "<table border=\"1\" class=\"dataframe\">\n",
              "  <thead>\n",
              "    <tr style=\"text-align: right;\">\n",
              "      <th></th>\n",
              "      <th>censored</th>\n",
              "      <th>time</th>\n",
              "    </tr>\n",
              "  </thead>\n",
              "  <tbody>\n",
              "    <tr>\n",
              "      <th>0</th>\n",
              "      <td>True</td>\n",
              "      <td>1814.0</td>\n",
              "    </tr>\n",
              "    <tr>\n",
              "      <th>1</th>\n",
              "      <td>True</td>\n",
              "      <td>2018.0</td>\n",
              "    </tr>\n",
              "    <tr>\n",
              "      <th>2</th>\n",
              "      <td>True</td>\n",
              "      <td>712.0</td>\n",
              "    </tr>\n",
              "    <tr>\n",
              "      <th>3</th>\n",
              "      <td>True</td>\n",
              "      <td>1807.0</td>\n",
              "    </tr>\n",
              "    <tr>\n",
              "      <th>4</th>\n",
              "      <td>True</td>\n",
              "      <td>772.0</td>\n",
              "    </tr>\n",
              "    <tr>\n",
              "      <th>5</th>\n",
              "      <td>True</td>\n",
              "      <td>448.0</td>\n",
              "    </tr>\n",
              "    <tr>\n",
              "      <th>6</th>\n",
              "      <td>False</td>\n",
              "      <td>2172.0</td>\n",
              "    </tr>\n",
              "    <tr>\n",
              "      <th>7</th>\n",
              "      <td>False</td>\n",
              "      <td>2161.0</td>\n",
              "    </tr>\n",
              "    <tr>\n",
              "      <th>8</th>\n",
              "      <td>True</td>\n",
              "      <td>471.0</td>\n",
              "    </tr>\n",
              "    <tr>\n",
              "      <th>9</th>\n",
              "      <td>False</td>\n",
              "      <td>2014.0</td>\n",
              "    </tr>\n",
              "  </tbody>\n",
              "</table>\n",
              "</div>"
            ],
            "text/plain": [
              "   censored    time\n",
              "0      True  1814.0\n",
              "1      True  2018.0\n",
              "2      True   712.0\n",
              "3      True  1807.0\n",
              "4      True   772.0\n",
              "5      True   448.0\n",
              "6     False  2172.0\n",
              "7     False  2161.0\n",
              "8      True   471.0\n",
              "9     False  2014.0"
            ]
          },
          "metadata": {
            "tags": []
          },
          "execution_count": 9
        }
      ]
    },
    {
      "cell_type": "markdown",
      "metadata": {
        "id": "p69cbmvdMC0F",
        "colab_type": "text"
      },
      "source": [
        "One of the main challenges of survival analysis is **right censoring**, i.e., by the end of the study, the event of interest (for example, in medicine 'death of a patient' or in this dataset 'recurrence of cancer') has only occurred for a subset of the observations.\n",
        "\n",
        "The right censoring in this dataset is given by the column name 'censored' and it's a variable which can take value 'True' if the patient is recurrence free (no recurrence of cancer is observed) or 'False' if the patient had a recurrence of cancer."
      ]
    },
    {
      "cell_type": "code",
      "metadata": {
        "id": "y54YNJyrmBx6",
        "colab_type": "code",
        "outputId": "d88a4457-329a-4a0e-e074-dff42304f601",
        "colab": {
          "base_uri": "https://localhost:8080/",
          "height": 35
        }
      },
      "source": [
        "len(df_y.query('censored == True')), len(df_y.query('censored == False'))"
      ],
      "execution_count": 0,
      "outputs": [
        {
          "output_type": "execute_result",
          "data": {
            "text/plain": [
              "(299, 387)"
            ]
          },
          "metadata": {
            "tags": []
          },
          "execution_count": 10
        }
      ]
    },
    {
      "cell_type": "markdown",
      "metadata": {
        "id": "VtsENFsnQhZx",
        "colab_type": "text"
      },
      "source": [
        "There are 299 patients who were recurrence free "
      ]
    },
    {
      "cell_type": "code",
      "metadata": {
        "id": "P3Tactc0mWPC",
        "colab_type": "code",
        "outputId": "2fb92321-da28-4337-f70b-926071db908e",
        "colab": {
          "base_uri": "https://localhost:8080/",
          "height": 200
        }
      },
      "source": [
        "from sksurv.preprocessing import OneHotEncoder\n",
        "\n",
        "X_num = OneHotEncoder().fit_transform(X)\n",
        "X_num.head()"
      ],
      "execution_count": 0,
      "outputs": [
        {
          "output_type": "execute_result",
          "data": {
            "text/html": [
              "<div>\n",
              "<style scoped>\n",
              "    .dataframe tbody tr th:only-of-type {\n",
              "        vertical-align: middle;\n",
              "    }\n",
              "\n",
              "    .dataframe tbody tr th {\n",
              "        vertical-align: top;\n",
              "    }\n",
              "\n",
              "    .dataframe thead th {\n",
              "        text-align: right;\n",
              "    }\n",
              "</style>\n",
              "<table border=\"1\" class=\"dataframe\">\n",
              "  <thead>\n",
              "    <tr style=\"text-align: right;\">\n",
              "      <th></th>\n",
              "      <th>age</th>\n",
              "      <th>estrec</th>\n",
              "      <th>horTh=yes</th>\n",
              "      <th>menostat=Post</th>\n",
              "      <th>pnodes</th>\n",
              "      <th>progrec</th>\n",
              "      <th>tgrade=II</th>\n",
              "      <th>tgrade=III</th>\n",
              "      <th>tsize</th>\n",
              "    </tr>\n",
              "  </thead>\n",
              "  <tbody>\n",
              "    <tr>\n",
              "      <th>0</th>\n",
              "      <td>70.0</td>\n",
              "      <td>66.0</td>\n",
              "      <td>0.0</td>\n",
              "      <td>1.0</td>\n",
              "      <td>3.0</td>\n",
              "      <td>48.0</td>\n",
              "      <td>1.0</td>\n",
              "      <td>0.0</td>\n",
              "      <td>21.0</td>\n",
              "    </tr>\n",
              "    <tr>\n",
              "      <th>1</th>\n",
              "      <td>56.0</td>\n",
              "      <td>77.0</td>\n",
              "      <td>1.0</td>\n",
              "      <td>1.0</td>\n",
              "      <td>7.0</td>\n",
              "      <td>61.0</td>\n",
              "      <td>1.0</td>\n",
              "      <td>0.0</td>\n",
              "      <td>12.0</td>\n",
              "    </tr>\n",
              "    <tr>\n",
              "      <th>2</th>\n",
              "      <td>58.0</td>\n",
              "      <td>271.0</td>\n",
              "      <td>1.0</td>\n",
              "      <td>1.0</td>\n",
              "      <td>9.0</td>\n",
              "      <td>52.0</td>\n",
              "      <td>1.0</td>\n",
              "      <td>0.0</td>\n",
              "      <td>35.0</td>\n",
              "    </tr>\n",
              "    <tr>\n",
              "      <th>3</th>\n",
              "      <td>59.0</td>\n",
              "      <td>29.0</td>\n",
              "      <td>1.0</td>\n",
              "      <td>1.0</td>\n",
              "      <td>4.0</td>\n",
              "      <td>60.0</td>\n",
              "      <td>1.0</td>\n",
              "      <td>0.0</td>\n",
              "      <td>17.0</td>\n",
              "    </tr>\n",
              "    <tr>\n",
              "      <th>4</th>\n",
              "      <td>73.0</td>\n",
              "      <td>65.0</td>\n",
              "      <td>0.0</td>\n",
              "      <td>1.0</td>\n",
              "      <td>1.0</td>\n",
              "      <td>26.0</td>\n",
              "      <td>1.0</td>\n",
              "      <td>0.0</td>\n",
              "      <td>35.0</td>\n",
              "    </tr>\n",
              "  </tbody>\n",
              "</table>\n",
              "</div>"
            ],
            "text/plain": [
              "    age  estrec  horTh=yes  ...  tgrade=II  tgrade=III  tsize\n",
              "0  70.0    66.0        0.0  ...        1.0         0.0   21.0\n",
              "1  56.0    77.0        1.0  ...        1.0         0.0   12.0\n",
              "2  58.0   271.0        1.0  ...        1.0         0.0   35.0\n",
              "3  59.0    29.0        1.0  ...        1.0         0.0   17.0\n",
              "4  73.0    65.0        0.0  ...        1.0         0.0   35.0\n",
              "\n",
              "[5 rows x 9 columns]"
            ]
          },
          "metadata": {
            "tags": []
          },
          "execution_count": 11
        }
      ]
    },
    {
      "cell_type": "markdown",
      "metadata": {
        "id": "Js5e29nU0MpG",
        "colab_type": "text"
      },
      "source": [
        "Split the dataset into training and validation datasets."
      ]
    },
    {
      "cell_type": "code",
      "metadata": {
        "id": "_uwNQXlkn-fz",
        "colab_type": "code",
        "colab": {}
      },
      "source": [
        "from sklearn.model_selection import train_test_split\n",
        "\n",
        "X_trn, X_val, y_trn, y_val = train_test_split(X_num, y, test_size=0.2, random_state=0)"
      ],
      "execution_count": 0,
      "outputs": []
    },
    {
      "cell_type": "code",
      "metadata": {
        "id": "-GKHkqr_3ete",
        "colab_type": "code",
        "outputId": "984ba30b-69ec-45a4-8f6e-c3e3fa977ea7",
        "colab": {
          "base_uri": "https://localhost:8080/",
          "height": 35
        }
      },
      "source": [
        "len(y_trn), len(y_val)"
      ],
      "execution_count": 0,
      "outputs": [
        {
          "output_type": "execute_result",
          "data": {
            "text/plain": [
              "(548, 138)"
            ]
          },
          "metadata": {
            "tags": []
          },
          "execution_count": 13
        }
      ]
    },
    {
      "cell_type": "markdown",
      "metadata": {
        "id": "G9RvMqVD3mri",
        "colab_type": "text"
      },
      "source": [
        "If we didn't have the features, we could obtain a median time to event (recurrence)."
      ]
    },
    {
      "cell_type": "code",
      "metadata": {
        "id": "kLzuCaXTne_l",
        "colab_type": "code",
        "colab": {}
      },
      "source": [
        "df_y_trn = target2df(y_trn)"
      ],
      "execution_count": 0,
      "outputs": []
    },
    {
      "cell_type": "code",
      "metadata": {
        "id": "JgYSKoLlnvEc",
        "colab_type": "code",
        "outputId": "487cebce-fbb7-41c1-fd4a-c2b92bcffa34",
        "colab": {
          "base_uri": "https://localhost:8080/",
          "height": 200
        }
      },
      "source": [
        "df_y_trn.head()"
      ],
      "execution_count": 0,
      "outputs": [
        {
          "output_type": "execute_result",
          "data": {
            "text/html": [
              "<div>\n",
              "<style scoped>\n",
              "    .dataframe tbody tr th:only-of-type {\n",
              "        vertical-align: middle;\n",
              "    }\n",
              "\n",
              "    .dataframe tbody tr th {\n",
              "        vertical-align: top;\n",
              "    }\n",
              "\n",
              "    .dataframe thead th {\n",
              "        text-align: right;\n",
              "    }\n",
              "</style>\n",
              "<table border=\"1\" class=\"dataframe\">\n",
              "  <thead>\n",
              "    <tr style=\"text-align: right;\">\n",
              "      <th></th>\n",
              "      <th>censored</th>\n",
              "      <th>time</th>\n",
              "    </tr>\n",
              "  </thead>\n",
              "  <tbody>\n",
              "    <tr>\n",
              "      <th>0</th>\n",
              "      <td>False</td>\n",
              "      <td>733.0</td>\n",
              "    </tr>\n",
              "    <tr>\n",
              "      <th>1</th>\n",
              "      <td>False</td>\n",
              "      <td>1401.0</td>\n",
              "    </tr>\n",
              "    <tr>\n",
              "      <th>2</th>\n",
              "      <td>False</td>\n",
              "      <td>1863.0</td>\n",
              "    </tr>\n",
              "    <tr>\n",
              "      <th>3</th>\n",
              "      <td>False</td>\n",
              "      <td>1499.0</td>\n",
              "    </tr>\n",
              "    <tr>\n",
              "      <th>4</th>\n",
              "      <td>True</td>\n",
              "      <td>1493.0</td>\n",
              "    </tr>\n",
              "  </tbody>\n",
              "</table>\n",
              "</div>"
            ],
            "text/plain": [
              "   censored    time\n",
              "0     False   733.0\n",
              "1     False  1401.0\n",
              "2     False  1863.0\n",
              "3     False  1499.0\n",
              "4      True  1493.0"
            ]
          },
          "metadata": {
            "tags": []
          },
          "execution_count": 32
        }
      ]
    },
    {
      "cell_type": "code",
      "metadata": {
        "id": "jMujyGIsoqVN",
        "colab_type": "code",
        "colab": {}
      },
      "source": [
        "df_y_trn['event'] = df_y_trn['censored'].apply(lambda x: not x)"
      ],
      "execution_count": 0,
      "outputs": []
    },
    {
      "cell_type": "code",
      "metadata": {
        "id": "DJCwz7YapTjC",
        "colab_type": "code",
        "outputId": "3b483e33-c8c7-4c9d-e0d2-71376935a734",
        "colab": {
          "base_uri": "https://localhost:8080/",
          "height": 200
        }
      },
      "source": [
        "df_y_trn.head()"
      ],
      "execution_count": 0,
      "outputs": [
        {
          "output_type": "execute_result",
          "data": {
            "text/html": [
              "<div>\n",
              "<style scoped>\n",
              "    .dataframe tbody tr th:only-of-type {\n",
              "        vertical-align: middle;\n",
              "    }\n",
              "\n",
              "    .dataframe tbody tr th {\n",
              "        vertical-align: top;\n",
              "    }\n",
              "\n",
              "    .dataframe thead th {\n",
              "        text-align: right;\n",
              "    }\n",
              "</style>\n",
              "<table border=\"1\" class=\"dataframe\">\n",
              "  <thead>\n",
              "    <tr style=\"text-align: right;\">\n",
              "      <th></th>\n",
              "      <th>censored</th>\n",
              "      <th>time</th>\n",
              "      <th>event</th>\n",
              "    </tr>\n",
              "  </thead>\n",
              "  <tbody>\n",
              "    <tr>\n",
              "      <th>0</th>\n",
              "      <td>False</td>\n",
              "      <td>733.0</td>\n",
              "      <td>True</td>\n",
              "    </tr>\n",
              "    <tr>\n",
              "      <th>1</th>\n",
              "      <td>False</td>\n",
              "      <td>1401.0</td>\n",
              "      <td>True</td>\n",
              "    </tr>\n",
              "    <tr>\n",
              "      <th>2</th>\n",
              "      <td>False</td>\n",
              "      <td>1863.0</td>\n",
              "      <td>True</td>\n",
              "    </tr>\n",
              "    <tr>\n",
              "      <th>3</th>\n",
              "      <td>False</td>\n",
              "      <td>1499.0</td>\n",
              "      <td>True</td>\n",
              "    </tr>\n",
              "    <tr>\n",
              "      <th>4</th>\n",
              "      <td>True</td>\n",
              "      <td>1493.0</td>\n",
              "      <td>False</td>\n",
              "    </tr>\n",
              "  </tbody>\n",
              "</table>\n",
              "</div>"
            ],
            "text/plain": [
              "   censored    time  event\n",
              "0     False   733.0   True\n",
              "1     False  1401.0   True\n",
              "2     False  1863.0   True\n",
              "3     False  1499.0   True\n",
              "4      True  1493.0  False"
            ]
          },
          "metadata": {
            "tags": []
          },
          "execution_count": 40
        }
      ]
    },
    {
      "cell_type": "code",
      "metadata": {
        "id": "Xzdnwq_3nrVY",
        "colab_type": "code",
        "colab": {}
      },
      "source": [
        "T = df_y_trn['time']\n",
        "E = df_y_trn['event']"
      ],
      "execution_count": 0,
      "outputs": []
    },
    {
      "cell_type": "code",
      "metadata": {
        "id": "8-D9rNl6nDcb",
        "colab_type": "code",
        "outputId": "632e0922-5dae-4a94-f2ce-40545d80808a",
        "colab": {
          "base_uri": "https://localhost:8080/",
          "height": 35
        }
      },
      "source": [
        "from lifelines import KaplanMeierFitter\n",
        "\n",
        "kmf = KaplanMeierFitter()\n",
        "kmf.fit(T,E)"
      ],
      "execution_count": 0,
      "outputs": [
        {
          "output_type": "execute_result",
          "data": {
            "text/plain": [
              "<lifelines.KaplanMeierFitter: fitted with 548 observations, 235 censored>"
            ]
          },
          "metadata": {
            "tags": []
          },
          "execution_count": 45
        }
      ]
    },
    {
      "cell_type": "code",
      "metadata": {
        "id": "vR55Oi3xoMrV",
        "colab_type": "code",
        "outputId": "50e894b4-55c6-40ca-a098-405b5917b769",
        "colab": {
          "base_uri": "https://localhost:8080/",
          "height": 458
        }
      },
      "source": [
        "plt.figure(figsize=(7,7))\n",
        "ax = plt.subplot(111)\n",
        "kmf.plot(ax=ax)\n",
        "plt.title('Estimated probability of government survival vs number of years')\n",
        "plt.xlabel('Time (in years)')\n",
        "plt.ylabel('Estimated probability of government survival')\n",
        "plt.show()"
      ],
      "execution_count": 0,
      "outputs": [
        {
          "output_type": "display_data",
          "data": {
            "image/png": "[encoded data removed]",
            "text/plain": [
              "<Figure size 504x504 with 1 Axes>"
            ]
          },
          "metadata": {
            "tags": []
          }
        }
      ]
    },
    {
      "cell_type": "code",
      "metadata": {
        "id": "JIU-w0vaoQgr",
        "colab_type": "code",
        "outputId": "5bb9e6bc-bc30-4cbe-956a-2e3e67cb9baf",
        "colab": {
          "base_uri": "https://localhost:8080/",
          "height": 35
        }
      },
      "source": [
        "kmf.median_"
      ],
      "execution_count": 0,
      "outputs": [
        {
          "output_type": "execute_result",
          "data": {
            "text/plain": [
              "1625.0"
            ]
          },
          "metadata": {
            "tags": []
          },
          "execution_count": 47
        }
      ]
    },
    {
      "cell_type": "code",
      "metadata": {
        "id": "OAPbEEXbpl3z",
        "colab_type": "code",
        "outputId": "e6cb753e-de1e-4b06-e107-a02612e9e30e",
        "colab": {
          "base_uri": "https://localhost:8080/",
          "height": 35
        }
      },
      "source": [
        "len(df_y_trn.query('event==True and time < 1625.0')), len(df_y_trn.query('event==True and time > 1625.0'))"
      ],
      "execution_count": 0,
      "outputs": [
        {
          "output_type": "execute_result",
          "data": {
            "text/plain": [
              "(186, 126)"
            ]
          },
          "metadata": {
            "tags": []
          },
          "execution_count": 48
        }
      ]
    },
    {
      "cell_type": "code",
      "metadata": {
        "id": "WgV1Pld-oP5r",
        "colab_type": "code",
        "outputId": "4f98f951-85eb-4f6c-89b9-c2b4c69d71f3",
        "colab": {
          "base_uri": "https://localhost:8080/",
          "height": 285
        }
      },
      "source": [
        "from sksurv.nonparametric import kaplan_meier_estimator\n",
        "\n",
        "time, survival_prob = kaplan_meier_estimator(y_trn[\"cens\"], y_trn[\"time\"])\n",
        "plt.step(time, survival_prob, where=\"post\")\n",
        "plt.ylabel(\"est. survival probability $\\hat{S}(t)$\")\n",
        "plt.xlabel(\"time $t$\")\n",
        "plt.show()"
      ],
      "execution_count": 0,
      "outputs": [
        {
          "output_type": "display_data",
          "data": {
            "image/png": "[encoded data removed]",
            "text/plain": [
              "<Figure size 432x288 with 1 Axes>"
            ]
          },
          "metadata": {
            "tags": []
          }
        }
      ]
    },
    {
      "cell_type": "code",
      "metadata": {
        "id": "1fD4N-nbrwEC",
        "colab_type": "code",
        "outputId": "0c5e8ad4-b634-4da5-dd93-d07c84389129",
        "colab": {
          "base_uri": "https://localhost:8080/",
          "height": 70
        }
      },
      "source": [
        "S_df = pd.DataFrame(data={'time': time, 'survival_probability' : survival_prob})\n",
        "S_df[S_df['survival_probability']<0.5].iloc[0]"
      ],
      "execution_count": 0,
      "outputs": [
        {
          "output_type": "execute_result",
          "data": {
            "text/plain": [
              "time                    1814.000000\n",
              "survival_probability       0.495788\n",
              "Name: 385, dtype: float64"
            ]
          },
          "metadata": {
            "tags": []
          },
          "execution_count": 15
        }
      ]
    },
    {
      "cell_type": "markdown",
      "metadata": {
        "id": "dcYXN2Rfu09R",
        "colab_type": "text"
      },
      "source": [
        "The estimated median time to event is 1814 days (approximately 5 years)."
      ]
    },
    {
      "cell_type": "code",
      "metadata": {
        "id": "sYWoX3p8Lqew",
        "colab_type": "code",
        "outputId": "9863578a-815c-4144-a819-ad2006c66262",
        "colab": {
          "base_uri": "https://localhost:8080/",
          "height": 35
        }
      },
      "source": [
        "df_y_trn = target2df(y_trn)\n",
        "len(df_y_trn.query('censored==False and time < 1814.0')), len(df_y_trn.query('censored==False and time > 1814.0'))"
      ],
      "execution_count": 0,
      "outputs": [
        {
          "output_type": "execute_result",
          "data": {
            "text/plain": [
              "(220, 92)"
            ]
          },
          "metadata": {
            "tags": []
          },
          "execution_count": 16
        }
      ]
    },
    {
      "cell_type": "code",
      "metadata": {
        "id": "B3k5wGXJDPy0",
        "colab_type": "code",
        "outputId": "62c23d58-16ec-4972-d932-d771d5fb810a",
        "colab": {
          "base_uri": "https://localhost:8080/",
          "height": 200
        }
      },
      "source": [
        "df_y_val = target2df(y_val)\n",
        "df_y_val.head()"
      ],
      "execution_count": 0,
      "outputs": [
        {
          "output_type": "execute_result",
          "data": {
            "text/html": [
              "<div>\n",
              "<style scoped>\n",
              "    .dataframe tbody tr th:only-of-type {\n",
              "        vertical-align: middle;\n",
              "    }\n",
              "\n",
              "    .dataframe tbody tr th {\n",
              "        vertical-align: top;\n",
              "    }\n",
              "\n",
              "    .dataframe thead th {\n",
              "        text-align: right;\n",
              "    }\n",
              "</style>\n",
              "<table border=\"1\" class=\"dataframe\">\n",
              "  <thead>\n",
              "    <tr style=\"text-align: right;\">\n",
              "      <th></th>\n",
              "      <th>censored</th>\n",
              "      <th>time</th>\n",
              "    </tr>\n",
              "  </thead>\n",
              "  <tbody>\n",
              "    <tr>\n",
              "      <th>0</th>\n",
              "      <td>False</td>\n",
              "      <td>1192.0</td>\n",
              "    </tr>\n",
              "    <tr>\n",
              "      <th>1</th>\n",
              "      <td>False</td>\n",
              "      <td>1182.0</td>\n",
              "    </tr>\n",
              "    <tr>\n",
              "      <th>2</th>\n",
              "      <td>False</td>\n",
              "      <td>1818.0</td>\n",
              "    </tr>\n",
              "    <tr>\n",
              "      <th>3</th>\n",
              "      <td>False</td>\n",
              "      <td>1767.0</td>\n",
              "    </tr>\n",
              "    <tr>\n",
              "      <th>4</th>\n",
              "      <td>True</td>\n",
              "      <td>1493.0</td>\n",
              "    </tr>\n",
              "  </tbody>\n",
              "</table>\n",
              "</div>"
            ],
            "text/plain": [
              "   censored    time\n",
              "0     False  1192.0\n",
              "1     False  1182.0\n",
              "2     False  1818.0\n",
              "3     False  1767.0\n",
              "4      True  1493.0"
            ]
          },
          "metadata": {
            "tags": []
          },
          "execution_count": 17
        }
      ]
    },
    {
      "cell_type": "code",
      "metadata": {
        "id": "5V_wgFiWLIUA",
        "colab_type": "code",
        "outputId": "6a33b3ba-5325-4433-9ede-daf226de6470",
        "colab": {
          "base_uri": "https://localhost:8080/",
          "height": 35
        }
      },
      "source": [
        "len(df_y_val.query('censored==False and time < 1814.0')), len(df_y_val.query('censored==False and time > 1814.0'))"
      ],
      "execution_count": 0,
      "outputs": [
        {
          "output_type": "execute_result",
          "data": {
            "text/plain": [
              "(54, 21)"
            ]
          },
          "metadata": {
            "tags": []
          },
          "execution_count": 18
        }
      ]
    },
    {
      "cell_type": "code",
      "metadata": {
        "id": "8do_kfIUALjt",
        "colab_type": "code",
        "outputId": "947241ab-b21b-4740-cd9d-67519a0bdef0",
        "colab": {
          "base_uri": "https://localhost:8080/",
          "height": 269
        }
      },
      "source": [
        "df_y_val['time'].hist(bins=50);"
      ],
      "execution_count": 0,
      "outputs": [
        {
          "output_type": "display_data",
          "data": {
            "image/png": "[encoded data removed]",
            "text/plain": [
              "<Figure size 432x288 with 1 Axes>"
            ]
          },
          "metadata": {
            "tags": []
          }
        }
      ]
    },
    {
      "cell_type": "code",
      "metadata": {
        "id": "dIrZrxUn-jTr",
        "colab_type": "code",
        "outputId": "18d4089c-2044-401e-c362-3907ed1293bf",
        "colab": {
          "base_uri": "https://localhost:8080/",
          "height": 269
        }
      },
      "source": [
        "df_y_val[df_y_val['censored']==False]['time'].hist(bins=50);"
      ],
      "execution_count": 0,
      "outputs": [
        {
          "output_type": "display_data",
          "data": {
            "image/png": "[encoded data removed]",
            "text/plain": [
              "<Figure size 432x288 with 1 Axes>"
            ]
          },
          "metadata": {
            "tags": []
          }
        }
      ]
    },
    {
      "cell_type": "code",
      "metadata": {
        "id": "OawJPNmwAApW",
        "colab_type": "code",
        "outputId": "1cb99927-8634-42fd-d5a8-a4a4d560e3f9",
        "colab": {
          "base_uri": "https://localhost:8080/",
          "height": 269
        }
      },
      "source": [
        "df_y_val[df_y_val['censored']==True]['time'].hist(bins=50);"
      ],
      "execution_count": 0,
      "outputs": [
        {
          "output_type": "display_data",
          "data": {
            "image/png": "[encoded data removed]",
            "text/plain": [
              "<Figure size 432x288 with 1 Axes>"
            ]
          },
          "metadata": {
            "tags": []
          }
        }
      ]
    },
    {
      "cell_type": "code",
      "metadata": {
        "id": "E2dQTbOFpOtT",
        "colab_type": "code",
        "outputId": "49f94484-d813-40aa-a275-c58393bace9f",
        "colab": {
          "base_uri": "https://localhost:8080/",
          "height": 52
        }
      },
      "source": [
        "from sklearn.preprocessing import StandardScaler\n",
        "from sklearn.pipeline import Pipeline\n",
        "from sksurv.linear_model import CoxPHSurvivalAnalysis\n",
        "from sksurv.metrics import concordance_index_censored\n",
        "\n",
        "steps = [('scaler', StandardScaler()), ('coxph', CoxPHSurvivalAnalysis())]\n",
        "cox = Pipeline(steps)\n",
        "cox.fit(X_trn, y_trn)\n",
        "ci_cox = concordance_index_censored(y_val[\"cens\"], y_val[\"time\"], cox.predict(X_val))\n",
        "print(f'The c-index of Cox is given by {ci_cox[0]:.3f}')\n",
        "print(f'The score of Cox is given by {cox.score(X_val,y_val):.3f}')"
      ],
      "execution_count": 0,
      "outputs": [
        {
          "output_type": "stream",
          "text": [
            "The c-index of Cox is given by 0.699\n",
            "The score of Cox is given by 0.699\n"
          ],
          "name": "stdout"
        }
      ]
    },
    {
      "cell_type": "code",
      "metadata": {
        "id": "Hs6cyD2UkPcK",
        "colab_type": "code",
        "outputId": "0f7d7732-3565-4cf7-ae04-a17a5a746e24",
        "colab": {
          "base_uri": "https://localhost:8080/",
          "height": 195
        }
      },
      "source": [
        "pd.Series(cox.named_steps['coxph'].coef_, index=X_num.columns)"
      ],
      "execution_count": 0,
      "outputs": [
        {
          "output_type": "execute_result",
          "data": {
            "text/plain": [
              "age             -0.142127\n",
              "estrec           0.055462\n",
              "horTh=yes       -0.174517\n",
              "menostat=Post    0.176689\n",
              "pnodes           0.272138\n",
              "progrec         -0.451793\n",
              "tgrade=II        0.256260\n",
              "tgrade=III       0.291318\n",
              "tsize            0.117181\n",
              "dtype: float64"
            ]
          },
          "metadata": {
            "tags": []
          },
          "execution_count": 23
        }
      ]
    },
    {
      "cell_type": "code",
      "metadata": {
        "id": "KsEVmxP1r6mM",
        "colab_type": "code",
        "outputId": "0c9cd0c0-8f5f-4cba-d94c-67314e6b1134",
        "colab": {
          "base_uri": "https://localhost:8080/",
          "height": 269
        }
      },
      "source": [
        "# Feature importance\n",
        "fi_cox = cox.named_steps['coxph'].coef_\n",
        "rfi_cox = np.abs(fi_cox)/np.sum(np.abs(fi_cox))\n",
        "lab = X_num.columns\n",
        "df_fi_cox = pd.DataFrame({'lab_cox': lab, 'value_cox': rfi_cox}, index=lab)\n",
        "df_fi_cox = df_fi_cox.sort_values(by='value_cox', ascending=True)\n",
        "df_fi_cox.plot.barh(y='value_cox');"
      ],
      "execution_count": 0,
      "outputs": [
        {
          "output_type": "display_data",
          "data": {
            "image/png": "[encoded data removed]",
            "text/plain": [
              "<Figure size 432x288 with 1 Axes>"
            ]
          },
          "metadata": {
            "tags": []
          }
        }
      ]
    },
    {
      "cell_type": "markdown",
      "metadata": {
        "id": "9i_4KsVs45Zm",
        "colab_type": "text"
      },
      "source": [
        "The progesterone receptor seems to be the most important feature according to Cox proportional hazards, then the tumor grades and the quantity of nodes (pnodes)."
      ]
    },
    {
      "cell_type": "code",
      "metadata": {
        "id": "S5578lm6p-ID",
        "colab_type": "code",
        "outputId": "effee758-02c0-4a1f-c417-f8af7ec9fde0",
        "colab": {
          "base_uri": "https://localhost:8080/",
          "height": 35
        }
      },
      "source": [
        "from sksurv.ensemble import GradientBoostingSurvivalAnalysis\n",
        "\n",
        "gb = GradientBoostingSurvivalAnalysis()\n",
        "gb.fit(X_trn, y_trn)\n",
        "ci_gb = concordance_index_censored(y_val[\"cens\"], y_val[\"time\"], gb.predict(X_val))[0]\n",
        "print(f'The c-index of Gradient Boosting is given by {ci_gb:.3f}')"
      ],
      "execution_count": 0,
      "outputs": [
        {
          "output_type": "stream",
          "text": [
            "The c-index of Gradient Boosting is given by 0.693\n"
          ],
          "name": "stdout"
        }
      ]
    },
    {
      "cell_type": "code",
      "metadata": {
        "id": "Fm3RJ_dV1pZJ",
        "colab_type": "code",
        "outputId": "7a1d42d5-ab5c-427c-f2e1-e16a902c9a30",
        "colab": {
          "base_uri": "https://localhost:8080/",
          "height": 269
        }
      },
      "source": [
        "# Feature importance\n",
        "fi_gb = gb.feature_importances_\n",
        "rfi_gb =  np.abs(fi_gb)/np.sum(np.abs(fi_gb))\n",
        "lab = X_num.columns\n",
        "df_fi_gb = pd.DataFrame({'lab_gb': lab, 'value_gb': rfi_gb}, index=lab)\n",
        "df_fi_gb = df_fi_gb.sort_values(by='value_gb', ascending=True)\n",
        "df_fi_gb.plot.barh(y='value_gb');"
      ],
      "execution_count": 0,
      "outputs": [
        {
          "output_type": "display_data",
          "data": {
            "image/png": "[encoded data removed]",
            "text/plain": [
              "<Figure size 432x288 with 1 Axes>"
            ]
          },
          "metadata": {
            "tags": []
          }
        }
      ]
    },
    {
      "cell_type": "markdown",
      "metadata": {
        "id": "Wz-oZKkr5Hjc",
        "colab_type": "text"
      },
      "source": [
        "The number of nodes, the progesterone receptor, and age seem to be the most importan features for Gradient Boosting Cox, while tumor grade seems to be less important especially comparing with the importance it was given by Cox PH."
      ]
    },
    {
      "cell_type": "code",
      "metadata": {
        "id": "Pd0S7rYMUFuJ",
        "colab_type": "code",
        "colab": {}
      },
      "source": [
        "np.random.seed(0)\n",
        "seeds = np.random.permutation(1000)[:25]"
      ],
      "execution_count": 0,
      "outputs": []
    },
    {
      "cell_type": "code",
      "metadata": {
        "id": "4_CQUUOeZGHs",
        "colab_type": "code",
        "colab": {}
      },
      "source": [
        "from sklearn.preprocessing import StandardScaler\n",
        "from sklearn.pipeline import make_pipeline\n",
        "\n",
        "cox_scores = []\n",
        "gb_scores = []\n",
        "for seed in seeds:\n",
        "  X_trn, X_val, y_trn, y_val = train_test_split(X_num, y, test_size=0.2, random_state=seed)\n",
        "  \n",
        "  cox = make_pipeline(StandardScaler(), CoxPHSurvivalAnalysis())\n",
        "  cox.fit(X_trn, y_trn)\n",
        "  cox_scores.append(cox.score(X_val, y_val))\n",
        "  \n",
        "  gb = GradientBoostingSurvivalAnalysis(random_state=seed)\n",
        "  gb.fit(X_trn, y_trn)\n",
        "  gb_scores.append(gb.score(X_val, y_val))  "
      ],
      "execution_count": 0,
      "outputs": []
    },
    {
      "cell_type": "code",
      "metadata": {
        "id": "PoR41GvHb_2U",
        "colab_type": "code",
        "outputId": "382560af-4739-4b90-ca31-f8b2312aa084",
        "colab": {
          "base_uri": "https://localhost:8080/",
          "height": 35
        }
      },
      "source": [
        "np.mean(cox_scores), np.mean(gb_scores)"
      ],
      "execution_count": 0,
      "outputs": [
        {
          "output_type": "execute_result",
          "data": {
            "text/plain": [
              "(0.673109771300044, 0.6926280275633505)"
            ]
          },
          "metadata": {
            "tags": []
          },
          "execution_count": 29
        }
      ]
    },
    {
      "cell_type": "code",
      "metadata": {
        "id": "OQKYd5FKa42E",
        "colab_type": "code",
        "outputId": "f6bd3389-d935-41f5-c515-06d10bd80bbb",
        "colab": {
          "base_uri": "https://localhost:8080/",
          "height": 382
        }
      },
      "source": [
        "data = [cox_scores, gb_scores]\n",
        "green_diamond = dict(markerfacecolor='g', marker='D')\n",
        "fig1, ax1 = plt.subplots()\n",
        "ax1.set_title('Concordance indexes for Cox PH and Gradient Boosting Cox')\n",
        "ax1.boxplot(data, notch=True, flierprops=green_diamond)\n",
        "ax1.set_xticklabels(['Cox Proportional Hazards', 'Gradient Boosting Cox'], rotation=45)\n",
        "ax1.set_xlabel('Models')\n",
        "ax1.set_ylabel('c-index')\n",
        "plt.show()"
      ],
      "execution_count": 0,
      "outputs": [
        {
          "output_type": "display_data",
          "data": {
            "image/png": "[encoded data removed]",
            "text/plain": [
              "<Figure size 432x288 with 1 Axes>"
            ]
          },
          "metadata": {
            "tags": []
          }
        }
      ]
    }
  ]
}