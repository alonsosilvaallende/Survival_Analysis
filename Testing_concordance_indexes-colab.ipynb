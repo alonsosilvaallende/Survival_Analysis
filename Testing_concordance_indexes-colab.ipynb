{
  "nbformat": 4,
  "nbformat_minor": 0,
  "metadata": {
    "colab": {
      "name": "Test_concordance_index.ipynb",
      "provenance": [],
      "collapsed_sections": [],
      "include_colab_link": true
    },
    "kernelspec": {
      "name": "python3",
      "display_name": "Python 3"
    }
  },
  "cells": [
    {
      "cell_type": "markdown",
      "metadata": {
        "id": "view-in-github",
        "colab_type": "text"
      },
      "source": [
        "<a href=\"https://colab.research.google.com/github/alonsosilvaallende/Survival_Analysis/blob/master/Testing_concordance_indexes-colab.ipynb\" target=\"_parent\"><img src=\"https://colab.research.google.com/assets/colab-badge.svg\" alt=\"Open In Colab\"/></a>"
      ]
    },
    {
      "cell_type": "markdown",
      "metadata": {
        "id": "yujaTHwquzdV",
        "colab_type": "text"
      },
      "source": [
        "# Testing concordance indexes of lifelines, scikit-survival, and pysurvival\n",
        "[Alonso Silva](http://www.dim.uchile.cl/~alsilva/) [(@alonsosilva)](https://twitter.com/alonsosilva) | 2019/09/30"
      ]
    },
    {
      "cell_type": "code",
      "metadata": {
        "id": "Tg64n0Jjw-3Z",
        "colab_type": "code",
        "colab": {}
      },
      "source": [
        "# install scikit-survival, lifelines, and pysurvival\n",
        "pip install -q scikit-survival lifelines pysurvival"
      ],
      "execution_count": 0,
      "outputs": []
    },
    {
      "cell_type": "code",
      "metadata": {
        "id": "EIejd1FnxF0T",
        "colab_type": "code",
        "colab": {}
      },
      "source": [
        "# imports\n",
        "import pandas as pd\n",
        "import numpy as np\n",
        "from matplotlib import pyplot as plt\n",
        "\n",
        "%matplotlib inline"
      ],
      "execution_count": 0,
      "outputs": []
    },
    {
      "cell_type": "markdown",
      "metadata": {
        "id": "X2usPhPIuAkz",
        "colab_type": "text"
      },
      "source": [
        "The objective of this notebook is to compare the concordance indexes of three different libraries on survival analysis."
      ]
    },
    {
      "cell_type": "code",
      "metadata": {
        "id": "ohcR8VX0dEgZ",
        "colab_type": "code",
        "colab": {}
      },
      "source": [
        "from lifelines.utils import concordance_index as ci_lifelines\n",
        "from pysurvival.utils.metrics import concordance_index as ci_pysurvival\n",
        "from sksurv.metrics import concordance_index_censored as ci_scikit"
      ],
      "execution_count": 0,
      "outputs": []
    },
    {
      "cell_type": "markdown",
      "metadata": {
        "id": "yj0u5J8uyOLZ",
        "colab_type": "text"
      },
      "source": [
        "Lifelines concordance index inputs are:\n",
        "\n",
        "+ event/censoring times\n",
        "+ predicted scores\n",
        "+ event observed (*optional*). The default assumes all events observed.\n",
        "\n",
        "Lifelines concordance index output is:\n",
        "\n",
        "+ concordance index"
      ]
    },
    {
      "cell_type": "code",
      "metadata": {
        "id": "rzzUqeesdIGB",
        "colab_type": "code",
        "colab": {
          "base_uri": "https://localhost:8080/",
          "height": 34
        },
        "outputId": "9ed83043-adfc-472a-c326-c047cf77e127"
      },
      "source": [
        "events = [0, 1, 2, 3, 4]\n",
        "preds_scores = [0, 1, 2, 3, 4]\n",
        "event_obs = [True, True, True, True, True]\n",
        "\n",
        "print(f'Concordance-index (lifelines): {ci_lifelines(events, preds_scores, event_obs)}')"
      ],
      "execution_count": 4,
      "outputs": [
        {
          "output_type": "stream",
          "text": [
            "Concordance-index (lifelines): 1.0\n"
          ],
          "name": "stdout"
        }
      ]
    },
    {
      "cell_type": "markdown",
      "metadata": {
        "id": "V7xuP687dV2J",
        "colab_type": "text"
      },
      "source": [
        "Scikit-survival's concordance index inputs are:\n",
        "+ event observed\n",
        "+ event/censoring times\n",
        "+ predicted risks\n",
        "+ tied tolerance (float, optional, default: 1e-8) – The tolerance value for considering ties. If the absolute difference between risk scores is smaller or equal than tied_tol, risk scores are considered tied. \n",
        "\n",
        "Scikit-survival's concordance index outputs are:\n",
        "\n",
        "+ Concordance index\n",
        "+ Number of concordant pairs\n",
        "+ Number of discordant pairs\n",
        "+ Number of pairs having tied estimated risks\n",
        "+ Number of comparable pairs sharing the same time"
      ]
    },
    {
      "cell_type": "code",
      "metadata": {
        "id": "DEFgM_FKxIzk",
        "colab_type": "code",
        "outputId": "34aa8dfc-81f6-43a3-c747-12425f81599c",
        "colab": {
          "base_uri": "https://localhost:8080/",
          "height": 34
        }
      },
      "source": [
        "events = [0, 1, 2, 3, 4]\n",
        "preds_risks = [4, 3, 2, 1, 0]\n",
        "event_obs = [True, True, True, True, True]\n",
        "\n",
        "print(f'Concordance-index (scikit-survival): {ci_scikit(event_obs, events, preds_risks)[0]}')"
      ],
      "execution_count": 5,
      "outputs": [
        {
          "output_type": "stream",
          "text": [
            "Concordance-index (scikit-survival): 1.0\n"
          ],
          "name": "stdout"
        }
      ]
    },
    {
      "cell_type": "markdown",
      "metadata": {
        "id": "EyT74Q4i3Kpy",
        "colab_type": "text"
      },
      "source": [
        "As mentioned above, scikit survival also gives the number of concordant pairs, number of discordant pairs, number of pairs having tied estimated risks, and the number of comparable pairs sharing the same time."
      ]
    },
    {
      "cell_type": "code",
      "metadata": {
        "id": "zxxz9nUd2_ok",
        "colab_type": "code",
        "colab": {
          "base_uri": "https://localhost:8080/",
          "height": 85
        },
        "outputId": "0a19a962-0b4e-4b75-e5e8-b07e78eaa6a5"
      },
      "source": [
        "print(f'Number of concordant pairs (scikit-survival): {ci_scikit(event_obs, events, preds_risks)[1]}')\n",
        "print(f'Number of discordant pairs (scikit-survival): {ci_scikit(event_obs, events, preds_risks)[2]}')\n",
        "print(f'Number of pairs having tied estimated risks (scikit-survival): {ci_scikit(event_obs, events, preds_risks)[3]}')\n",
        "print(f'Number of comparable pairs sharing the same time (scikit-survival): {ci_scikit(event_obs, events, preds_risks)[4]}')"
      ],
      "execution_count": 6,
      "outputs": [
        {
          "output_type": "stream",
          "text": [
            "Number of concordant pairs (scikit-survival): 10\n",
            "Number of discordant pairs (scikit-survival): 0\n",
            "Number of pairs having tied estimated risks (scikit-survival): 0\n",
            "Number of comparable pairs sharing the same time (scikit-survival): 0\n"
          ],
          "name": "stdout"
        }
      ]
    },
    {
      "cell_type": "markdown",
      "metadata": {
        "id": "NMY28CGB15IL",
        "colab_type": "text"
      },
      "source": [
        "Lifelines gives the concordance between the actuals and the predicted *scores*, while scikit-survival gives the concordance between the actuals and the predicted *risks*, so over the same lists, they are the complete opposite.\n",
        "\n",
        "$$\n",
        "\\textrm{Concordance-index (lifelines)}= 1-\\textrm{Concordance-index (scikit-survival)}\n",
        "$$\n"
      ]
    },
    {
      "cell_type": "code",
      "metadata": {
        "id": "X0GnTAwLxXOL",
        "colab_type": "code",
        "outputId": "d575c1d0-cde8-4a95-e179-a0b07e448718",
        "colab": {
          "base_uri": "https://localhost:8080/",
          "height": 51
        }
      },
      "source": [
        "actuals = [0, 1, 2, 3, 4]\n",
        "preds = [4, 3, 2, 1, 0]\n",
        "event_obs = [True, True, True, True, True]\n",
        "\n",
        "print(f'Concordance-index lifelines: {ci_lifelines(actuals, preds, event_obs)}')\n",
        "print(f'Concordance-index scikit-survival: {ci_scikit(event_obs, actuals, preds)[0]}')"
      ],
      "execution_count": 7,
      "outputs": [
        {
          "output_type": "stream",
          "text": [
            "Concordance-index lifelines: 0.0\n",
            "Concordance-index scikit-survival: 1.0\n"
          ],
          "name": "stdout"
        }
      ]
    },
    {
      "cell_type": "markdown",
      "metadata": {
        "id": "eokykj3s2V3T",
        "colab_type": "text"
      },
      "source": [
        "Let's see a more interesting example:"
      ]
    },
    {
      "cell_type": "code",
      "metadata": {
        "id": "XDm3EGEX9Z-e",
        "colab_type": "code",
        "outputId": "856669f5-5a0f-48c6-a0c9-e0705b1500c9",
        "colab": {
          "base_uri": "https://localhost:8080/",
          "height": 272
        }
      },
      "source": [
        "actuals = [0, 1, 2, 3, 4]\n",
        "preds = [4, 3, 1, 2, 0]\n",
        "event_obs = [True, True, True, True, True]\n",
        "\n",
        "print(f'Concordance-index lifelines: {ci_lifelines(actuals, preds, event_obs):.3f}')\n",
        "print(f'Concordance-index scikit-survival: {ci_scikit(event_obs, actuals, preds)[0]:.3f}')\n",
        "print(f'Number of concordant pairs scikit-survival: {ci_scikit(event_obs, actuals, preds)[1]}')\n",
        "print(f'Number of discordant pairs scikit-survival: {ci_scikit(event_obs, actuals, preds)[2]}')\n",
        "df = pd.DataFrame(data={'actuals':actuals, 'predictions': preds, 'event_observed': event_obs}); df"
      ],
      "execution_count": 30,
      "outputs": [
        {
          "output_type": "stream",
          "text": [
            "Concordance-index lifelines: 0.100\n",
            "Concordance-index scikit-survival: 0.900\n",
            "Number of concordant pairs scikit-survival: 9\n",
            "Number of discordant pairs scikit-survival: 1\n"
          ],
          "name": "stdout"
        },
        {
          "output_type": "execute_result",
          "data": {
            "text/html": [
              "<div>\n",
              "<style scoped>\n",
              "    .dataframe tbody tr th:only-of-type {\n",
              "        vertical-align: middle;\n",
              "    }\n",
              "\n",
              "    .dataframe tbody tr th {\n",
              "        vertical-align: top;\n",
              "    }\n",
              "\n",
              "    .dataframe thead th {\n",
              "        text-align: right;\n",
              "    }\n",
              "</style>\n",
              "<table border=\"1\" class=\"dataframe\">\n",
              "  <thead>\n",
              "    <tr style=\"text-align: right;\">\n",
              "      <th></th>\n",
              "      <th>actuals</th>\n",
              "      <th>predictions</th>\n",
              "      <th>event_observed</th>\n",
              "    </tr>\n",
              "  </thead>\n",
              "  <tbody>\n",
              "    <tr>\n",
              "      <th>0</th>\n",
              "      <td>0</td>\n",
              "      <td>4</td>\n",
              "      <td>True</td>\n",
              "    </tr>\n",
              "    <tr>\n",
              "      <th>1</th>\n",
              "      <td>1</td>\n",
              "      <td>3</td>\n",
              "      <td>True</td>\n",
              "    </tr>\n",
              "    <tr>\n",
              "      <th>2</th>\n",
              "      <td>2</td>\n",
              "      <td>1</td>\n",
              "      <td>True</td>\n",
              "    </tr>\n",
              "    <tr>\n",
              "      <th>3</th>\n",
              "      <td>3</td>\n",
              "      <td>2</td>\n",
              "      <td>True</td>\n",
              "    </tr>\n",
              "    <tr>\n",
              "      <th>4</th>\n",
              "      <td>4</td>\n",
              "      <td>0</td>\n",
              "      <td>True</td>\n",
              "    </tr>\n",
              "  </tbody>\n",
              "</table>\n",
              "</div>"
            ],
            "text/plain": [
              "   actuals  predictions  event_observed\n",
              "0        0            4            True\n",
              "1        1            3            True\n",
              "2        2            1            True\n",
              "3        3            2            True\n",
              "4        4            0            True"
            ]
          },
          "metadata": {
            "tags": []
          },
          "execution_count": 30
        }
      ]
    },
    {
      "cell_type": "markdown",
      "metadata": {
        "id": "vXn8Kfgg6QJK",
        "colab_type": "text"
      },
      "source": [
        "In the previous example the order of the pair (2,3) has been inversed which causes a discordant pair (in terms of risks). There is 9 concordant pairs (in terms of risks) out of 10 pairs, therefore c-index=0.9.\n",
        "\n",
        "Let's see an example with censoring:"
      ]
    },
    {
      "cell_type": "code",
      "metadata": {
        "id": "vLj7qt1Os1fD",
        "colab_type": "code",
        "colab": {
          "base_uri": "https://localhost:8080/",
          "height": 272
        },
        "outputId": "eb350964-a239-4a9f-9c8e-eafb9897edd2"
      },
      "source": [
        "actuals = [0, 1, 2, 3, 4]\n",
        "preds = [4, 1.5, 2, 1, 0]\n",
        "event_obs = [True, True, False, True, True]\n",
        "\n",
        "print(f'Concordance-index lifelines: {ci_lifelines(actuals, preds, event_obs):.3f}')\n",
        "print(f'Concordance-index scikit-survival: {ci_scikit(event_obs, actuals, preds)[0]:.3f}')\n",
        "print(f'Number of concordant pairs scikit-survival: {ci_scikit(event_obs, actuals, preds)[1]}')\n",
        "print(f'Number of discordant pairs scikit-survival: {ci_scikit(event_obs, actuals, preds)[2]}')\n",
        "df = pd.DataFrame(data={'actuals':actuals, 'predictions': preds, 'event_observed': event_obs}); df"
      ],
      "execution_count": 29,
      "outputs": [
        {
          "output_type": "stream",
          "text": [
            "Concordance-index lifelines: 0.125\n",
            "Concordance-index scikit-survival: 0.875\n",
            "Number of concordant pairs scikit-survival: 7\n",
            "Number of discordant pairs scikit-survival: 1\n"
          ],
          "name": "stdout"
        },
        {
          "output_type": "execute_result",
          "data": {
            "text/html": [
              "<div>\n",
              "<style scoped>\n",
              "    .dataframe tbody tr th:only-of-type {\n",
              "        vertical-align: middle;\n",
              "    }\n",
              "\n",
              "    .dataframe tbody tr th {\n",
              "        vertical-align: top;\n",
              "    }\n",
              "\n",
              "    .dataframe thead th {\n",
              "        text-align: right;\n",
              "    }\n",
              "</style>\n",
              "<table border=\"1\" class=\"dataframe\">\n",
              "  <thead>\n",
              "    <tr style=\"text-align: right;\">\n",
              "      <th></th>\n",
              "      <th>actuals</th>\n",
              "      <th>predictions</th>\n",
              "      <th>event_observed</th>\n",
              "    </tr>\n",
              "  </thead>\n",
              "  <tbody>\n",
              "    <tr>\n",
              "      <th>0</th>\n",
              "      <td>0</td>\n",
              "      <td>4.0</td>\n",
              "      <td>True</td>\n",
              "    </tr>\n",
              "    <tr>\n",
              "      <th>1</th>\n",
              "      <td>1</td>\n",
              "      <td>1.5</td>\n",
              "      <td>True</td>\n",
              "    </tr>\n",
              "    <tr>\n",
              "      <th>2</th>\n",
              "      <td>2</td>\n",
              "      <td>2.0</td>\n",
              "      <td>False</td>\n",
              "    </tr>\n",
              "    <tr>\n",
              "      <th>3</th>\n",
              "      <td>3</td>\n",
              "      <td>1.0</td>\n",
              "      <td>True</td>\n",
              "    </tr>\n",
              "    <tr>\n",
              "      <th>4</th>\n",
              "      <td>4</td>\n",
              "      <td>0.0</td>\n",
              "      <td>True</td>\n",
              "    </tr>\n",
              "  </tbody>\n",
              "</table>\n",
              "</div>"
            ],
            "text/plain": [
              "   actuals  predictions  event_observed\n",
              "0        0          4.0            True\n",
              "1        1          1.5            True\n",
              "2        2          2.0           False\n",
              "3        3          1.0            True\n",
              "4        4          0.0            True"
            ]
          },
          "metadata": {
            "tags": []
          },
          "execution_count": 29
        }
      ]
    },
    {
      "cell_type": "markdown",
      "metadata": {
        "id": "VmZwjqXUh2P9",
        "colab_type": "text"
      },
      "source": [
        "Since the event $2$ is censored, the pairs $(2,3)$ and $(2,4)$ don't appear in the potential comparisons pairs. There is only one discordant pair $(1,2)$ since in the actuals $2$ lived longer than $1$, while in the predictions $1$ has lower risk than $2$."
      ]
    },
    {
      "cell_type": "markdown",
      "metadata": {
        "id": "VfMR2uf66fUN",
        "colab_type": "text"
      },
      "source": [
        "Pysurvival concordance index inputs are:\n",
        "+ a model\n",
        "+ input samples\n",
        "+ event/censoring times\n",
        "+ event observed\n",
        "\n",
        "Pysurvival concordance index outputs are:\n",
        "+ \n",
        "\n",
        "needs a modes as input so it's harder to see what does the concordance index do."
      ]
    },
    {
      "cell_type": "code",
      "metadata": {
        "id": "97IVylML5qCE",
        "colab_type": "code",
        "colab": {}
      },
      "source": [
        "np.random.seed(42)\n",
        "x = np.linspace(0,10)\n",
        "y = x + np.random.normal(0, 1, x.shape)"
      ],
      "execution_count": 0,
      "outputs": []
    },
    {
      "cell_type": "code",
      "metadata": {
        "id": "1lrZnxVb5wgb",
        "colab_type": "code",
        "colab": {}
      },
      "source": [
        "x1 = x[...,None] # we add a dimension so that RandomSurvivalForestModel doesn't complain\n",
        "x_trn, x_val = x1[:40], x1[40:]\n",
        "y_trn, y_val = y[:40], y[40:]"
      ],
      "execution_count": 0,
      "outputs": []
    },
    {
      "cell_type": "code",
      "metadata": {
        "id": "fPpS7bzWs-Tq",
        "colab_type": "code",
        "colab": {
          "base_uri": "https://localhost:8080/",
          "height": 68
        },
        "outputId": "a93793d2-6304-469e-f397-47f61cfbbdfc"
      },
      "source": [
        "from pysurvival.models.survival_forest import RandomSurvivalForestModel\n",
        "\n",
        "rsf = RandomSurvivalForestModel(num_trees=10)\n",
        "%time rsf.fit(x_trn, y_trn, np.ones(len(x_trn)), seed=0)"
      ],
      "execution_count": 32,
      "outputs": [
        {
          "output_type": "stream",
          "text": [
            "CPU times: user 9.65 ms, sys: 2.71 ms, total: 12.4 ms\n",
            "Wall time: 21.4 ms\n"
          ],
          "name": "stdout"
        },
        {
          "output_type": "execute_result",
          "data": {
            "text/plain": [
              "RandomSurvivalForestModel"
            ]
          },
          "metadata": {
            "tags": []
          },
          "execution_count": 32
        }
      ]
    },
    {
      "cell_type": "code",
      "metadata": {
        "id": "2s3PkDnG53QU",
        "colab_type": "code",
        "colab": {}
      },
      "source": [
        "event_obs = [True for i in range(len(x_trn))]"
      ],
      "execution_count": 0,
      "outputs": []
    },
    {
      "cell_type": "code",
      "metadata": {
        "id": "gBot2Zzu57N0",
        "colab_type": "code",
        "colab": {
          "base_uri": "https://localhost:8080/",
          "height": 34
        },
        "outputId": "ec463b67-354a-4e13-d5f2-8896716f897d"
      },
      "source": [
        "ci_pysurvival(rsf, x_trn, y_trn, event_obs, additional_results=True)"
      ],
      "execution_count": 34,
      "outputs": [
        {
          "output_type": "execute_result",
          "data": {
            "text/plain": [
              "{0: 0.8243589743589743, 1: 1560.0, 2: 1286.0}"
            ]
          },
          "metadata": {
            "tags": []
          },
          "execution_count": 34
        }
      ]
    },
    {
      "cell_type": "code",
      "metadata": {
        "id": "iYXC0Grr6Co-",
        "colab_type": "code",
        "colab": {
          "base_uri": "https://localhost:8080/",
          "height": 34
        },
        "outputId": "400c7121-06e3-4b4e-b412-96d03ecafc9d"
      },
      "source": [
        "ci_scikit(event_obs, y_trn, rsf.predict_risk(x_trn))"
      ],
      "execution_count": 35,
      "outputs": [
        {
          "output_type": "execute_result",
          "data": {
            "text/plain": [
              "(0.8243589743589743, 545, 39, 196, 0)"
            ]
          },
          "metadata": {
            "tags": []
          },
          "execution_count": 35
        }
      ]
    },
    {
      "cell_type": "code",
      "metadata": {
        "id": "KYQ9LTXj5_B0",
        "colab_type": "code",
        "colab": {
          "base_uri": "https://localhost:8080/",
          "height": 34
        },
        "outputId": "9e03ee34-aacb-420f-c5dd-443b05801f8e"
      },
      "source": [
        "1-ci_lifelines(y_trn, rsf.predict_risk(x_trn), event_obs)"
      ],
      "execution_count": 37,
      "outputs": [
        {
          "output_type": "execute_result",
          "data": {
            "text/plain": [
              "0.8243589743589743"
            ]
          },
          "metadata": {
            "tags": []
          },
          "execution_count": 37
        }
      ]
    },
    {
      "cell_type": "markdown",
      "metadata": {
        "id": "y_HjJzb9twOM",
        "colab_type": "text"
      },
      "source": [
        "I have no idea why the concordance index find more concordance pairs and more pairs overall but the result in the three cases is the same."
      ]
    },
    {
      "cell_type": "markdown",
      "metadata": {
        "id": "WDJYb_Tn4KWM",
        "colab_type": "text"
      },
      "source": [
        "Let's do random predictions and see what concordance index do we obtain."
      ]
    },
    {
      "cell_type": "code",
      "metadata": {
        "id": "sQx4zxpt0sCA",
        "colab_type": "code",
        "colab": {}
      },
      "source": [
        "actuals = np.arange(0,10,1)\n",
        "\n",
        "# choose 20 random seeds\n",
        "np.random.seed(0)\n",
        "seeds = np.random.permutation(1000)[:100]\n",
        "\n",
        "ci_random = []\n",
        "for _seed in seeds:\n",
        "  np.random.seed(_seed); preds_random = np.random.permutation(np.arange(0,10,1))\n",
        "  ci_random.append(ci_lifelines(actuals,preds_random))"
      ],
      "execution_count": 0,
      "outputs": []
    },
    {
      "cell_type": "code",
      "metadata": {
        "id": "jQsr3t_248xc",
        "colab_type": "code",
        "colab": {
          "base_uri": "https://localhost:8080/",
          "height": 34
        },
        "outputId": "e52d25b2-6fa8-4880-f884-e91ae6d44dab"
      },
      "source": [
        "print(f'Mean concordance index of random predictions: {np.mean(ci_random):.3f}')"
      ],
      "execution_count": 18,
      "outputs": [
        {
          "output_type": "stream",
          "text": [
            "Mean concordance index of random predictions: 0.517\n"
          ],
          "name": "stdout"
        }
      ]
    },
    {
      "cell_type": "code",
      "metadata": {
        "id": "Wc4yEkVG4vlk",
        "colab_type": "code",
        "colab": {
          "base_uri": "https://localhost:8080/",
          "height": 513
        },
        "outputId": "7d2a69cb-c8be-47de-e1f4-d31924fa27b4"
      },
      "source": [
        "data = ci_random\n",
        "green_diamond = dict(markerfacecolor='g', marker='D')\n",
        "\n",
        "fig1, ax1 = plt.subplots(figsize=(7,7))\n",
        "ax1.set_title('Concordance indexes of random predictions')\n",
        "ax1.boxplot(data, notch=False, flierprops=green_diamond)\n",
        "ax1.set_xlabel('Random predictions')\n",
        "ax1.set_ylabel('Concordance index')\n",
        "plt.tight_layout()\n",
        "plt.show()"
      ],
      "execution_count": 19,
      "outputs": [
        {
          "output_type": "display_data",
          "data": {
            "image/png": "[encoded data removed]",
            "text/plain": [
              "<Figure size 504x504 with 1 Axes>"
            ]
          },
          "metadata": {
            "tags": []
          }
        }
      ]
    },
    {
      "cell_type": "markdown",
      "metadata": {
        "id": "nRE2p7s1b_Rn",
        "colab_type": "text"
      },
      "source": [
        "**Sources**\n",
        "\n",
        "+ [Lifelines' concordance index](https://lifelines.readthedocs.io/en/latest/lifelines.utils.html#lifelines.utils.concordance_index)\n",
        "+ [Scikit-survival's concordance index](https://scikit-survival.readthedocs.io/en/latest/generated/sksurv.metrics.concordance_index_censored.html#sksurv.metrics.concordance_index_censored)\n",
        "+ [Pysurvival's concordance index](https://square.github.io/pysurvival/metrics/c_index.html)"
      ]
    }
  ]
}