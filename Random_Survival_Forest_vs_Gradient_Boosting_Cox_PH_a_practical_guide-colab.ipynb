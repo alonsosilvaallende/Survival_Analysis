{
  "nbformat": 4,
  "nbformat_minor": 0,
  "metadata": {
    "colab": {
      "name": "Copie de Survival.ipynb",
      "provenance": [],
      "collapsed_sections": [],
      "include_colab_link": true
    },
    "kernelspec": {
      "name": "python3",
      "display_name": "Python 3"
    },
    "accelerator": "GPU"
  },
  "cells": [
    {
      "cell_type": "markdown",
      "metadata": {
        "id": "view-in-github",
        "colab_type": "text"
      },
      "source": [
        "<a href=\"https://colab.research.google.com/github/alonsosilvaallende/Survival_Analysis/blob/master/Random_Survival_Forest_vs_Gradient_Boosting_Cox_PH_a_practical_guide-colab.ipynb\" target=\"_parent\"><img src=\"https://colab.research.google.com/assets/colab-badge.svg\" alt=\"Open In Colab\"/></a>"
      ]
    },
    {
      "cell_type": "markdown",
      "metadata": {
        "id": "1lVF4IpCvpD_",
        "colab_type": "text"
      },
      "source": [
        "# Survival Analysis: Cox PH vs Random Survival Forest vs Gradient Boosting Cox PH: a practical guide\n",
        "\n",
        "[Alonso Silva](http://www.dim.uchile.cl/~alsilva/) [(@alonsosilva)](https://twitter.com/alonsosilva) | 2019/09/22\n",
        "\n"
      ]
    },
    {
      "cell_type": "markdown",
      "metadata": {
        "id": "q9UZi0hSKQOm",
        "colab_type": "text"
      },
      "source": [
        "The objective of this notebook is to compare three methods (Cox proportional hazards, Random survival forest, and Gradient boosting Cox PH) to estimate the survival probability given a set of features/covariables.\n",
        "\n",
        "To perform this analysis we will use [scikit-learn](https://scikit-learn.org/), [scikit-survival](https://pypi.org/project/scikit-survival/), [pysurvival](https://pysurvival.io), and [lifelines](https://lifelines.readthedocs.io/en/latest/)."
      ]
    },
    {
      "cell_type": "code",
      "metadata": {
        "id": "UD5r2JijiQJX",
        "colab_type": "code",
        "colab": {}
      },
      "source": [
        "# install scikit-survival, pysurvival, and lifelines\n",
        "!pip install -q scikit-survival lifelines pysurvival"
      ],
      "execution_count": 0,
      "outputs": []
    },
    {
      "cell_type": "code",
      "metadata": {
        "id": "KMbsxSeyuDDt",
        "colab_type": "code",
        "colab": {}
      },
      "source": [
        "# imports\n",
        "%matplotlib inline\n",
        "import matplotlib.pyplot as plt\n",
        "import pandas as pd\n",
        "import numpy as np"
      ],
      "execution_count": 0,
      "outputs": []
    },
    {
      "cell_type": "markdown",
      "metadata": {
        "id": "g16490hfyvN4",
        "colab_type": "text"
      },
      "source": [
        "## An example: German Breast Cancer Study Group 2 (gbcsg)"
      ]
    },
    {
      "cell_type": "markdown",
      "metadata": {
        "id": "650T7ZWgzbHW",
        "colab_type": "text"
      },
      "source": [
        "This dataset contains the following 8 features/covariables:\n",
        "\n",
        "- age: age (in years), \n",
        "- estrec: estrogen receptor (in fmol), \n",
        "- hotTh: hormonal therapy (yes or no), \n",
        "- menostat: menopausal status (premenopausal or postmenopausal),\n",
        "- pnodes: number of positive nodes, \n",
        "- progrec: progesterone receptor (in fmol), \n",
        "- tgrade: tumor grade (I < II < III), \n",
        "- tsize: tumor size (in mm).\n",
        "\n",
        "and the two outputs: \n",
        "\n",
        "- recurrence free time (in days),\n",
        "- censoring indicator (0 - censored, 1 - event).\n",
        "\n",
        "The dataset has 686 samples and 8 features/covariables.\n",
        "\n",
        "\n",
        "**References**\n",
        "\n",
        "M. Schumacher, G. Basert, H. Bojar, K. Huebner, M. Olschewski, W. Sauerbrei, C. Schmoor, C. Beyerle, R.L.A. Neumann and H.F. Rauschecker for the German Breast Cancer Study Group (1994), [Randomized 2 x 2 trial evaluating hormonal treatment and the duration of chemotherapy in node-positive breast cancer patients](https://www.ncbi.nlm.nih.gov/pubmed/7931478). Journal of Clinical Oncology, 12, 2086–2093.\n"
      ]
    },
    {
      "cell_type": "code",
      "metadata": {
        "id": "ZC3JgHaAhC-E",
        "colab_type": "code",
        "colab": {}
      },
      "source": [
        "# download the dataset\n",
        "from sksurv.datasets import load_gbsg2\n",
        "\n",
        "X, y = load_gbsg2()"
      ],
      "execution_count": 0,
      "outputs": []
    },
    {
      "cell_type": "code",
      "metadata": {
        "id": "Do8uGGtoxeDz",
        "colab_type": "code",
        "outputId": "678d2bdc-c9ae-4468-a8fc-de57496ec0a8",
        "colab": {
          "base_uri": "https://localhost:8080/",
          "height": 52
        }
      },
      "source": [
        "# number of samples, number of features/covariables\n",
        "print(f'Number of samples: {X.shape[0]}')\n",
        "print(f'Number of features/covariables: {X.shape[1]}')"
      ],
      "execution_count": 4,
      "outputs": [
        {
          "output_type": "stream",
          "text": [
            "Number of samples: 686\n",
            "Number of features/covariables: 8\n"
          ],
          "name": "stdout"
        }
      ]
    },
    {
      "cell_type": "code",
      "metadata": {
        "id": "nt6IYb3skYFy",
        "colab_type": "code",
        "outputId": "7fcbc4e9-2f5f-40d9-9ebc-b6f926db5a81",
        "colab": {
          "base_uri": "https://localhost:8080/",
          "height": 200
        }
      },
      "source": [
        "# show the first 5 rows\n",
        "X.head()"
      ],
      "execution_count": 5,
      "outputs": [
        {
          "output_type": "execute_result",
          "data": {
            "text/html": [
              "<div>\n",
              "<style scoped>\n",
              "    .dataframe tbody tr th:only-of-type {\n",
              "        vertical-align: middle;\n",
              "    }\n",
              "\n",
              "    .dataframe tbody tr th {\n",
              "        vertical-align: top;\n",
              "    }\n",
              "\n",
              "    .dataframe thead th {\n",
              "        text-align: right;\n",
              "    }\n",
              "</style>\n",
              "<table border=\"1\" class=\"dataframe\">\n",
              "  <thead>\n",
              "    <tr style=\"text-align: right;\">\n",
              "      <th></th>\n",
              "      <th>age</th>\n",
              "      <th>estrec</th>\n",
              "      <th>horTh</th>\n",
              "      <th>menostat</th>\n",
              "      <th>pnodes</th>\n",
              "      <th>progrec</th>\n",
              "      <th>tgrade</th>\n",
              "      <th>tsize</th>\n",
              "    </tr>\n",
              "  </thead>\n",
              "  <tbody>\n",
              "    <tr>\n",
              "      <th>0</th>\n",
              "      <td>70.0</td>\n",
              "      <td>66.0</td>\n",
              "      <td>no</td>\n",
              "      <td>Post</td>\n",
              "      <td>3.0</td>\n",
              "      <td>48.0</td>\n",
              "      <td>II</td>\n",
              "      <td>21.0</td>\n",
              "    </tr>\n",
              "    <tr>\n",
              "      <th>1</th>\n",
              "      <td>56.0</td>\n",
              "      <td>77.0</td>\n",
              "      <td>yes</td>\n",
              "      <td>Post</td>\n",
              "      <td>7.0</td>\n",
              "      <td>61.0</td>\n",
              "      <td>II</td>\n",
              "      <td>12.0</td>\n",
              "    </tr>\n",
              "    <tr>\n",
              "      <th>2</th>\n",
              "      <td>58.0</td>\n",
              "      <td>271.0</td>\n",
              "      <td>yes</td>\n",
              "      <td>Post</td>\n",
              "      <td>9.0</td>\n",
              "      <td>52.0</td>\n",
              "      <td>II</td>\n",
              "      <td>35.0</td>\n",
              "    </tr>\n",
              "    <tr>\n",
              "      <th>3</th>\n",
              "      <td>59.0</td>\n",
              "      <td>29.0</td>\n",
              "      <td>yes</td>\n",
              "      <td>Post</td>\n",
              "      <td>4.0</td>\n",
              "      <td>60.0</td>\n",
              "      <td>II</td>\n",
              "      <td>17.0</td>\n",
              "    </tr>\n",
              "    <tr>\n",
              "      <th>4</th>\n",
              "      <td>73.0</td>\n",
              "      <td>65.0</td>\n",
              "      <td>no</td>\n",
              "      <td>Post</td>\n",
              "      <td>1.0</td>\n",
              "      <td>26.0</td>\n",
              "      <td>II</td>\n",
              "      <td>35.0</td>\n",
              "    </tr>\n",
              "  </tbody>\n",
              "</table>\n",
              "</div>"
            ],
            "text/plain": [
              "    age  estrec horTh menostat  pnodes  progrec tgrade  tsize\n",
              "0  70.0    66.0    no     Post     3.0     48.0     II   21.0\n",
              "1  56.0    77.0   yes     Post     7.0     61.0     II   12.0\n",
              "2  58.0   271.0   yes     Post     9.0     52.0     II   35.0\n",
              "3  59.0    29.0   yes     Post     4.0     60.0     II   17.0\n",
              "4  73.0    65.0    no     Post     1.0     26.0     II   35.0"
            ]
          },
          "metadata": {
            "tags": []
          },
          "execution_count": 5
        }
      ]
    },
    {
      "cell_type": "code",
      "metadata": {
        "id": "l3fqRPLyCkgz",
        "colab_type": "code",
        "colab": {}
      },
      "source": [
        "# function to transform y (a numpy nd array) to a dataframe\n",
        "def target2df(y):\n",
        "  event = [y[i][0] for i in range(len(y))]\n",
        "  time = [y[i][1] for i in range(len(y))]\n",
        "  df_y = pd.DataFrame(data={'time': time, 'event': event})\n",
        "  return df_y"
      ],
      "execution_count": 0,
      "outputs": []
    },
    {
      "cell_type": "code",
      "metadata": {
        "id": "FDzHuqm67S-k",
        "colab_type": "code",
        "outputId": "9d61e80c-9a9c-441d-e8f6-f5028b641e7e",
        "colab": {
          "base_uri": "https://localhost:8080/",
          "height": 352
        }
      },
      "source": [
        "# show the first 10 rows\n",
        "df_y = target2df(y)\n",
        "df_y.head(10)"
      ],
      "execution_count": 7,
      "outputs": [
        {
          "output_type": "execute_result",
          "data": {
            "text/html": [
              "<div>\n",
              "<style scoped>\n",
              "    .dataframe tbody tr th:only-of-type {\n",
              "        vertical-align: middle;\n",
              "    }\n",
              "\n",
              "    .dataframe tbody tr th {\n",
              "        vertical-align: top;\n",
              "    }\n",
              "\n",
              "    .dataframe thead th {\n",
              "        text-align: right;\n",
              "    }\n",
              "</style>\n",
              "<table border=\"1\" class=\"dataframe\">\n",
              "  <thead>\n",
              "    <tr style=\"text-align: right;\">\n",
              "      <th></th>\n",
              "      <th>time</th>\n",
              "      <th>event</th>\n",
              "    </tr>\n",
              "  </thead>\n",
              "  <tbody>\n",
              "    <tr>\n",
              "      <th>0</th>\n",
              "      <td>1814.0</td>\n",
              "      <td>True</td>\n",
              "    </tr>\n",
              "    <tr>\n",
              "      <th>1</th>\n",
              "      <td>2018.0</td>\n",
              "      <td>True</td>\n",
              "    </tr>\n",
              "    <tr>\n",
              "      <th>2</th>\n",
              "      <td>712.0</td>\n",
              "      <td>True</td>\n",
              "    </tr>\n",
              "    <tr>\n",
              "      <th>3</th>\n",
              "      <td>1807.0</td>\n",
              "      <td>True</td>\n",
              "    </tr>\n",
              "    <tr>\n",
              "      <th>4</th>\n",
              "      <td>772.0</td>\n",
              "      <td>True</td>\n",
              "    </tr>\n",
              "    <tr>\n",
              "      <th>5</th>\n",
              "      <td>448.0</td>\n",
              "      <td>True</td>\n",
              "    </tr>\n",
              "    <tr>\n",
              "      <th>6</th>\n",
              "      <td>2172.0</td>\n",
              "      <td>False</td>\n",
              "    </tr>\n",
              "    <tr>\n",
              "      <th>7</th>\n",
              "      <td>2161.0</td>\n",
              "      <td>False</td>\n",
              "    </tr>\n",
              "    <tr>\n",
              "      <th>8</th>\n",
              "      <td>471.0</td>\n",
              "      <td>True</td>\n",
              "    </tr>\n",
              "    <tr>\n",
              "      <th>9</th>\n",
              "      <td>2014.0</td>\n",
              "      <td>False</td>\n",
              "    </tr>\n",
              "  </tbody>\n",
              "</table>\n",
              "</div>"
            ],
            "text/plain": [
              "     time  event\n",
              "0  1814.0   True\n",
              "1  2018.0   True\n",
              "2   712.0   True\n",
              "3  1807.0   True\n",
              "4   772.0   True\n",
              "5   448.0   True\n",
              "6  2172.0  False\n",
              "7  2161.0  False\n",
              "8   471.0   True\n",
              "9  2014.0  False"
            ]
          },
          "metadata": {
            "tags": []
          },
          "execution_count": 7
        }
      ]
    },
    {
      "cell_type": "markdown",
      "metadata": {
        "id": "p69cbmvdMC0F",
        "colab_type": "text"
      },
      "source": [
        "One of the main challenges of survival analysis is **right censoring**, i.e., by the end of the study, the event of interest (for example, in medicine 'death of a patient' or in this dataset 'recurrence of cancer') has only occurred for a subset of the observations.\n",
        "\n",
        "The right censoring in this dataset is given by the column name 'event' and it's a variable which can take value 'True' if the patient had a recurrence of cancer or 'False' if the patient is recurrence free."
      ]
    },
    {
      "cell_type": "code",
      "metadata": {
        "id": "LLclIzefFTUb",
        "colab_type": "code",
        "outputId": "acf6e93a-bda9-4d08-de94-61d7c1e48f41",
        "colab": {
          "base_uri": "https://localhost:8080/",
          "height": 70
        }
      },
      "source": [
        "print(f'Number of samples: {len(df_y)}')\n",
        "print(f'Number of right censored samples: {len(df_y.query(\"event == False\"))}')\n",
        "print(f'Percentage of right censored samples: {100*len(df_y.query(\"event == False\"))/len(df_y):.1f}%')"
      ],
      "execution_count": 8,
      "outputs": [
        {
          "output_type": "stream",
          "text": [
            "Number of samples: 686\n",
            "Number of right censored samples: 387\n",
            "Percentage of right censored samples: 56.4%\n"
          ],
          "name": "stdout"
        }
      ]
    },
    {
      "cell_type": "markdown",
      "metadata": {
        "id": "VtsENFsnQhZx",
        "colab_type": "text"
      },
      "source": [
        "There are 387 patients (56.4%) who were right censored (recurrence free) at the end of the study."
      ]
    },
    {
      "cell_type": "markdown",
      "metadata": {
        "id": "ZwtSNHgV3wK9",
        "colab_type": "text"
      },
      "source": [
        "## Preprocessing"
      ]
    },
    {
      "cell_type": "code",
      "metadata": {
        "id": "-Fsn-8uQ7TV9",
        "colab_type": "code",
        "outputId": "50736dfe-b2dd-4908-e5b2-c22c9a084df6",
        "colab": {
          "base_uri": "https://localhost:8080/",
          "height": 177
        }
      },
      "source": [
        "# count how many NaN values does each feature/covariable have\n",
        "X.isnull().sum()"
      ],
      "execution_count": 9,
      "outputs": [
        {
          "output_type": "execute_result",
          "data": {
            "text/plain": [
              "age         0\n",
              "estrec      0\n",
              "horTh       0\n",
              "menostat    0\n",
              "pnodes      0\n",
              "progrec     0\n",
              "tgrade      0\n",
              "tsize       0\n",
              "dtype: int64"
            ]
          },
          "metadata": {
            "tags": []
          },
          "execution_count": 9
        }
      ]
    },
    {
      "cell_type": "markdown",
      "metadata": {
        "id": "nwlOXx8g7aVk",
        "colab_type": "text"
      },
      "source": [
        "There are no NaN values."
      ]
    },
    {
      "cell_type": "code",
      "metadata": {
        "id": "DwvxEc6G6Vxg",
        "colab_type": "code",
        "outputId": "6b5b019b-0090-4713-b4a4-ddcbfd323948",
        "colab": {
          "base_uri": "https://localhost:8080/",
          "height": 177
        }
      },
      "source": [
        "# show datatypes of features/covariables\n",
        "X.dtypes"
      ],
      "execution_count": 10,
      "outputs": [
        {
          "output_type": "execute_result",
          "data": {
            "text/plain": [
              "age          float64\n",
              "estrec       float64\n",
              "horTh       category\n",
              "menostat    category\n",
              "pnodes       float64\n",
              "progrec      float64\n",
              "tgrade      category\n",
              "tsize        float64\n",
              "dtype: object"
            ]
          },
          "metadata": {
            "tags": []
          },
          "execution_count": 10
        }
      ]
    },
    {
      "cell_type": "markdown",
      "metadata": {
        "id": "Ro1BwjU938sK",
        "colab_type": "text"
      },
      "source": [
        "We need to transform the categorical variables to numerical variables."
      ]
    },
    {
      "cell_type": "code",
      "metadata": {
        "id": "VFvdRKkt4GuD",
        "colab_type": "code",
        "outputId": "a9eb10be-5d6d-4551-b84e-0bac9df2b3d7",
        "colab": {
          "base_uri": "https://localhost:8080/",
          "height": 35
        }
      },
      "source": [
        "# tgrade: tumor grade is an ordered categorical variable so we treat it differently\n",
        "X['tgrade'] = X['tgrade'].cat.as_ordered()\n",
        "X['tgrade'].dtype"
      ],
      "execution_count": 11,
      "outputs": [
        {
          "output_type": "execute_result",
          "data": {
            "text/plain": [
              "CategoricalDtype(categories=['I', 'II', 'III'], ordered=True)"
            ]
          },
          "metadata": {
            "tags": []
          },
          "execution_count": 11
        }
      ]
    },
    {
      "cell_type": "code",
      "metadata": {
        "id": "_l-RqL484zSo",
        "colab_type": "code",
        "outputId": "88612f0e-a56a-46ef-a193-cdf5ce137400",
        "colab": {
          "base_uri": "https://localhost:8080/",
          "height": 35
        }
      },
      "source": [
        "# menostat: menopausal status (premenopausal or postmenopausal) doesn't need to be ordered since it only has two categories\n",
        "X['menostat'].dtype"
      ],
      "execution_count": 12,
      "outputs": [
        {
          "output_type": "execute_result",
          "data": {
            "text/plain": [
              "CategoricalDtype(categories=['Pre', 'Post'], ordered=False)"
            ]
          },
          "metadata": {
            "tags": []
          },
          "execution_count": 12
        }
      ]
    },
    {
      "cell_type": "code",
      "metadata": {
        "id": "7leQegWYLMgU",
        "colab_type": "code",
        "outputId": "1721dc52-5c50-487f-fbc0-b09e1470dee7",
        "colab": {
          "base_uri": "https://localhost:8080/",
          "height": 35
        }
      },
      "source": [
        "# horTh: hormonal therapy (yes or no) doesn't need to be ordered since it only has two categories\n",
        "X['horTh'].dtype"
      ],
      "execution_count": 13,
      "outputs": [
        {
          "output_type": "execute_result",
          "data": {
            "text/plain": [
              "CategoricalDtype(categories=['no', 'yes'], ordered=False)"
            ]
          },
          "metadata": {
            "tags": []
          },
          "execution_count": 13
        }
      ]
    },
    {
      "cell_type": "code",
      "metadata": {
        "id": "tzhSA3046y5v",
        "colab_type": "code",
        "colab": {}
      },
      "source": [
        "# we transform the categorical variables to numerical variables\n",
        "X['horTh'] = X['horTh'].cat.codes\n",
        "X['menostat'] = X['menostat'].cat.codes\n",
        "X['tgrade'] = X['tgrade'].cat.codes"
      ],
      "execution_count": 0,
      "outputs": []
    },
    {
      "cell_type": "markdown",
      "metadata": {
        "id": "Q3852ABlKf1M",
        "colab_type": "text"
      },
      "source": [
        "The categorical variables became numerical:"
      ]
    },
    {
      "cell_type": "code",
      "metadata": {
        "id": "cejF9l2dKbUA",
        "colab_type": "code",
        "outputId": "fa17cdc2-71bd-4910-98cb-eb8a49b41c88",
        "colab": {
          "base_uri": "https://localhost:8080/",
          "height": 177
        }
      },
      "source": [
        "X.dtypes"
      ],
      "execution_count": 15,
      "outputs": [
        {
          "output_type": "execute_result",
          "data": {
            "text/plain": [
              "age         float64\n",
              "estrec      float64\n",
              "horTh          int8\n",
              "menostat       int8\n",
              "pnodes      float64\n",
              "progrec     float64\n",
              "tgrade         int8\n",
              "tsize       float64\n",
              "dtype: object"
            ]
          },
          "metadata": {
            "tags": []
          },
          "execution_count": 15
        }
      ]
    },
    {
      "cell_type": "markdown",
      "metadata": {
        "id": "Js5e29nU0MpG",
        "colab_type": "text"
      },
      "source": [
        "We split the dataset into training (80%) and validation (20%) datasets."
      ]
    },
    {
      "cell_type": "code",
      "metadata": {
        "id": "_uwNQXlkn-fz",
        "colab_type": "code",
        "colab": {}
      },
      "source": [
        "from sklearn.model_selection import train_test_split\n",
        "\n",
        "X_trn, X_val, y_trn, y_val = train_test_split(X, y, test_size=0.2, random_state=311)"
      ],
      "execution_count": 0,
      "outputs": []
    },
    {
      "cell_type": "code",
      "metadata": {
        "id": "-GKHkqr_3ete",
        "colab_type": "code",
        "outputId": "ceef8985-0549-4ec8-9f42-8cb6b78c84f4",
        "colab": {
          "base_uri": "https://localhost:8080/",
          "height": 52
        }
      },
      "source": [
        "print(f'Number of training samples: {len(y_trn)}')\n",
        "print(f'Number of validation samples: {len(y_val)}')"
      ],
      "execution_count": 17,
      "outputs": [
        {
          "output_type": "stream",
          "text": [
            "Number of training samples: 548\n",
            "Number of validation samples: 138\n"
          ],
          "name": "stdout"
        }
      ]
    },
    {
      "cell_type": "markdown",
      "metadata": {
        "id": "G9RvMqVD3mri",
        "colab_type": "text"
      },
      "source": [
        "If we didn't have the features, we could obtain an estimated [survival function](https://en.wikipedia.org/wiki/Survival_function) (complementary cumulative distribution function) and an estimated median time to event (recurrence) from the training dataset for the validation dataset. We use the [Kaplan-Meier estimator](https://en.wikipedia.org/wiki/Kaplan%E2%80%93Meier_estimator) to estimate the survival function and median time to event of a patient recurrence."
      ]
    },
    {
      "cell_type": "code",
      "metadata": {
        "id": "Xzdnwq_3nrVY",
        "colab_type": "code",
        "colab": {}
      },
      "source": [
        "df_y_trn = target2df(y_trn)\n",
        "T_trn = df_y_trn[['time']]\n",
        "E_trn = df_y_trn[['event']]"
      ],
      "execution_count": 0,
      "outputs": []
    },
    {
      "cell_type": "code",
      "metadata": {
        "id": "8-D9rNl6nDcb",
        "colab_type": "code",
        "outputId": "0e851f67-78aa-4a1f-e2c9-38bfb1c9ef45",
        "colab": {
          "base_uri": "https://localhost:8080/",
          "height": 458
        }
      },
      "source": [
        "# Kaplan-Meier estimator\n",
        "from lifelines import KaplanMeierFitter\n",
        "\n",
        "kmf_trn = KaplanMeierFitter()\n",
        "kmf_trn.fit(T_trn, E_trn)\n",
        "\n",
        "plt.figure(figsize=(7,7))\n",
        "ax = plt.subplot(111)\n",
        "kmf_trn.plot(ax=ax)\n",
        "plt.title('Estimated probability of recurrence free vs number of days')\n",
        "plt.xlabel('Time (in days)')\n",
        "plt.ylabel('Estimated probability of recurrence free')\n",
        "plt.show()"
      ],
      "execution_count": 19,
      "outputs": [
        {
          "output_type": "display_data",
          "data": {
            "image/png": "[encoded data removed]",
            "text/plain": [
              "<Figure size 504x504 with 1 Axes>"
            ]
          },
          "metadata": {
            "tags": []
          }
        }
      ]
    },
    {
      "cell_type": "code",
      "metadata": {
        "id": "-0vRlqUSTl-P",
        "colab_type": "code",
        "outputId": "1c76b524-3eba-4fbf-b371-f963218657e7",
        "colab": {
          "base_uri": "https://localhost:8080/",
          "height": 35
        }
      },
      "source": [
        "print(f'Estimated median time to event (in days): {kmf_trn.median_}')"
      ],
      "execution_count": 20,
      "outputs": [
        {
          "output_type": "stream",
          "text": [
            "Estimated median time to event (in days): 1806.0\n"
          ],
          "name": "stdout"
        }
      ]
    },
    {
      "cell_type": "markdown",
      "metadata": {
        "id": "6XiiOanzTLbC",
        "colab_type": "text"
      },
      "source": [
        "The estimated median time to event is 1806 days or 4.95 years.\n",
        "\n",
        "Let's see how good is our estimated survival function and estimated median time to event in the training dataset."
      ]
    },
    {
      "cell_type": "code",
      "metadata": {
        "id": "B-gDn6aKQnS3",
        "colab_type": "code",
        "colab": {}
      },
      "source": [
        "df_y_val = target2df(y_val)\n",
        "T_val = df_y_val[['time']]\n",
        "E_val = df_y_val[['event']]"
      ],
      "execution_count": 0,
      "outputs": []
    },
    {
      "cell_type": "code",
      "metadata": {
        "id": "XO6FQ4BaRqyF",
        "colab_type": "code",
        "outputId": "f986b92c-9545-4fe7-929f-149d8cf15be8",
        "colab": {
          "base_uri": "https://localhost:8080/",
          "height": 458
        }
      },
      "source": [
        "# Kaplan-Meier estimators\n",
        "kmf_val = KaplanMeierFitter()\n",
        "kmf_val.fit(T_val, E_val)\n",
        "\n",
        "plt.figure(figsize=(7,7))\n",
        "ax = plt.subplot(111)\n",
        "kmf_trn.plot(ax=ax, label=\"KM estimator\")\n",
        "kmf_val.survival_function_.plot(ax=ax, label=\"KM\")\n",
        "plt.title('Estimated probability of recurrence free vs number of days')\n",
        "plt.xlabel('Time (in days)')\n",
        "plt.ylabel('Estimated probability of recurrence free')\n",
        "plt.legend()\n",
        "plt.show()"
      ],
      "execution_count": 22,
      "outputs": [
        {
          "output_type": "display_data",
          "data": {
            "image/png": "[encoded data removed]",
            "text/plain": [
              "<Figure size 504x504 with 1 Axes>"
            ]
          },
          "metadata": {
            "tags": []
          }
        }
      ]
    },
    {
      "cell_type": "code",
      "metadata": {
        "id": "JIU-w0vaoQgr",
        "colab_type": "code",
        "outputId": "1085ae3a-19ff-44d1-c87b-23e9e1e6ea77",
        "colab": {
          "base_uri": "https://localhost:8080/",
          "height": 52
        }
      },
      "source": [
        "print(f'Median time to event training (in days): {kmf_trn.median_}')\n",
        "print(f'Median time to event validation (in days): {kmf_val.median_}')"
      ],
      "execution_count": 23,
      "outputs": [
        {
          "output_type": "stream",
          "text": [
            "Median time to event training (in days): 1806.0\n",
            "Median time to event validation (in days): 1918.0\n"
          ],
          "name": "stdout"
        }
      ]
    },
    {
      "cell_type": "markdown",
      "metadata": {
        "id": "utYqcPYtUyVx",
        "colab_type": "text"
      },
      "source": [
        "The survival function of the validation dataset is not far from the estimated survival function. The median time to event in the validation dataset is 1918 days or 5,25 years."
      ]
    },
    {
      "cell_type": "markdown",
      "metadata": {
        "id": "C4a3Du3piCoY",
        "colab_type": "text"
      },
      "source": [
        "## Cox proportional hazards"
      ]
    },
    {
      "cell_type": "markdown",
      "metadata": {
        "id": "iJhss5OtM_8A",
        "colab_type": "text"
      },
      "source": [
        "The first model we will use to make our risk predictions is [Cox proportional hazards model](https://en.wikipedia.org/wiki/Proportional_hazards_model). To measure the performance of our models we use [Harrell's concordance index or c-index](https://www.semanticscholar.org/paper/Multivariable-prognostic-models%3A-issues-in-models%2C-Harrell-Lee/7705392f1068c76669de750c6d0da8144da3304d):\n",
        "+ a value of 0.5 denotes a random model,\n",
        "+ a value of 1.0 denotes a perfect model,\n",
        "+ a value of 0.0 denotes a perfectly wrong model."
      ]
    },
    {
      "cell_type": "code",
      "metadata": {
        "id": "E2dQTbOFpOtT",
        "colab_type": "code",
        "outputId": "dc16b795-f2d2-4ac7-b78b-a5dab9fd8027",
        "colab": {
          "base_uri": "https://localhost:8080/",
          "height": 35
        }
      },
      "source": [
        "from sklearn.pipeline import Pipeline\n",
        "from sklearn.preprocessing import StandardScaler\n",
        "from sksurv.linear_model import CoxPHSurvivalAnalysis\n",
        "from sksurv.metrics import concordance_index_censored\n",
        "\n",
        "steps = [('scaler', StandardScaler()), ('coxph', CoxPHSurvivalAnalysis())]\n",
        "cox = Pipeline(steps)\n",
        "cox.fit(X_trn, y_trn)\n",
        "ci_cox_trn = concordance_index_censored(y_trn[\"cens\"], y_trn[\"time\"], cox.predict(X_trn))[0]\n",
        "ci_cox_val = concordance_index_censored(y_val[\"cens\"], y_val[\"time\"], cox.predict(X_val))[0]\n",
        "print(f'c-index of Cox: train: {ci_cox_trn:.3f}, valid: {ci_cox_val:.3f}')"
      ],
      "execution_count": 24,
      "outputs": [
        {
          "output_type": "stream",
          "text": [
            "c-index of Cox: train: 0.698, valid: 0.631\n"
          ],
          "name": "stdout"
        }
      ]
    },
    {
      "cell_type": "markdown",
      "metadata": {
        "id": "iF9JypgnOdfu",
        "colab_type": "text"
      },
      "source": [
        "Our model learnt something since the value is much higher than 0.5. However, it's far from perfect.\n",
        "\n",
        "The result of our model is a vector of coefficients, one for each feature/covariable, where each value corresponds to the [log hazard ratio](https://en.wikipedia.org/wiki/Hazard_ratio)."
      ]
    },
    {
      "cell_type": "code",
      "metadata": {
        "id": "KsEVmxP1r6mM",
        "colab_type": "code",
        "outputId": "3d54a537-1c8d-4006-a674-9e50c0bd846b",
        "colab": {
          "base_uri": "https://localhost:8080/",
          "height": 269
        }
      },
      "source": [
        "# feature importance\n",
        "fi_cox = cox.named_steps['coxph'].coef_\n",
        "rfi_cox = np.abs(fi_cox)/np.sum(np.abs(fi_cox))\n",
        "lab = X_trn.columns\n",
        "df_fi_cox = pd.DataFrame({'feature': lab, 'importance_cox': rfi_cox}).set_index('feature')\n",
        "df_fi_cox = df_fi_cox.sort_values(by='importance_cox', ascending=True)\n",
        "df_fi_cox.plot.barh(y='importance_cox');"
      ],
      "execution_count": 25,
      "outputs": [
        {
          "output_type": "display_data",
          "data": {
            "image/png": "[encoded data removed]",
            "text/plain": [
              "<Figure size 432x288 with 1 Axes>"
            ]
          },
          "metadata": {
            "tags": []
          }
        }
      ]
    },
    {
      "cell_type": "code",
      "metadata": {
        "id": "1kRmouORXF32",
        "colab_type": "code",
        "outputId": "7b189fcc-8f21-4a12-ce49-51fee4aa77d8",
        "colab": {
          "base_uri": "https://localhost:8080/",
          "height": 321
        }
      },
      "source": [
        "df_fi_cox.sort_values(by='importance_cox', ascending=False)"
      ],
      "execution_count": 26,
      "outputs": [
        {
          "output_type": "execute_result",
          "data": {
            "text/html": [
              "<div>\n",
              "<style scoped>\n",
              "    .dataframe tbody tr th:only-of-type {\n",
              "        vertical-align: middle;\n",
              "    }\n",
              "\n",
              "    .dataframe tbody tr th {\n",
              "        vertical-align: top;\n",
              "    }\n",
              "\n",
              "    .dataframe thead th {\n",
              "        text-align: right;\n",
              "    }\n",
              "</style>\n",
              "<table border=\"1\" class=\"dataframe\">\n",
              "  <thead>\n",
              "    <tr style=\"text-align: right;\">\n",
              "      <th></th>\n",
              "      <th>importance_cox</th>\n",
              "    </tr>\n",
              "    <tr>\n",
              "      <th>feature</th>\n",
              "      <th></th>\n",
              "    </tr>\n",
              "  </thead>\n",
              "  <tbody>\n",
              "    <tr>\n",
              "      <th>progrec</th>\n",
              "      <td>0.342336</td>\n",
              "    </tr>\n",
              "    <tr>\n",
              "      <th>pnodes</th>\n",
              "      <td>0.204661</td>\n",
              "    </tr>\n",
              "    <tr>\n",
              "      <th>tgrade</th>\n",
              "      <td>0.144798</td>\n",
              "    </tr>\n",
              "    <tr>\n",
              "      <th>horTh</th>\n",
              "      <td>0.127798</td>\n",
              "    </tr>\n",
              "    <tr>\n",
              "      <th>tsize</th>\n",
              "      <td>0.070563</td>\n",
              "    </tr>\n",
              "    <tr>\n",
              "      <th>menostat</th>\n",
              "      <td>0.068444</td>\n",
              "    </tr>\n",
              "    <tr>\n",
              "      <th>estrec</th>\n",
              "      <td>0.023252</td>\n",
              "    </tr>\n",
              "    <tr>\n",
              "      <th>age</th>\n",
              "      <td>0.018147</td>\n",
              "    </tr>\n",
              "  </tbody>\n",
              "</table>\n",
              "</div>"
            ],
            "text/plain": [
              "          importance_cox\n",
              "feature                 \n",
              "progrec         0.342336\n",
              "pnodes          0.204661\n",
              "tgrade          0.144798\n",
              "horTh           0.127798\n",
              "tsize           0.070563\n",
              "menostat        0.068444\n",
              "estrec          0.023252\n",
              "age             0.018147"
            ]
          },
          "metadata": {
            "tags": []
          },
          "execution_count": 26
        }
      ]
    },
    {
      "cell_type": "markdown",
      "metadata": {
        "id": "9i_4KsVs45Zm",
        "colab_type": "text"
      },
      "source": [
        "The progesterone receptor (progrec) seems to be the most important feature according to Cox proportional hazards model, then the quantity of nodes (pnodes) and tumor grade (tgrade)."
      ]
    },
    {
      "cell_type": "markdown",
      "metadata": {
        "id": "E60w5xT6rXwn",
        "colab_type": "text"
      },
      "source": [
        "## Random Survival Forest"
      ]
    },
    {
      "cell_type": "markdown",
      "metadata": {
        "colab_type": "text",
        "id": "nBK-74MVZkBV"
      },
      "source": [
        "The second model we will use to make our risk predictions is [Random survival forest](https://square.github.io/pysurvival/models/random_survival_forest.html). Random survival forest is an extension of the Random forest model, introduced by [Breiman et al in 2001](https://www.stat.berkeley.edu/~breiman/randomforest2001.pdf), that can take into account right censoring. The Random survival forest was developped by [Ishwaran et al. in 2008](https://arxiv.org/pdf/0811.1645.pdf)."
      ]
    },
    {
      "cell_type": "code",
      "metadata": {
        "id": "8wb6i-RerbIt",
        "colab_type": "code",
        "outputId": "819f70f0-42b8-4a8a-ed42-1ddf2e2f4f73",
        "colab": {
          "base_uri": "https://localhost:8080/",
          "height": 35
        }
      },
      "source": [
        "from pysurvival.models.survival_forest import RandomSurvivalForestModel\n",
        "from pysurvival.utils.metrics import concordance_index\n",
        "\n",
        "rsf = RandomSurvivalForestModel(num_trees=200)\n",
        "rsf.fit(X_trn, df_y_trn[\"time\"], df_y_trn[\"event\"])\n",
        "ci_rsf_trn = concordance_index(rsf, X_trn, df_y_trn[\"time\"], df_y_trn[\"event\"])\n",
        "ci_rsf_val = concordance_index(rsf, X_val, df_y_val[\"time\"], df_y_val[\"event\"])\n",
        "print(f'c-index of Random survival forest: train: {ci_rsf_trn:.3f}, valid: {ci_rsf_val:.3f}')"
      ],
      "execution_count": 27,
      "outputs": [
        {
          "output_type": "stream",
          "text": [
            "c-index of Random survival forest: train: 0.760, valid: 0.672\n"
          ],
          "name": "stdout"
        }
      ]
    },
    {
      "cell_type": "markdown",
      "metadata": {
        "id": "hFyDuEcKaRgr",
        "colab_type": "text"
      },
      "source": [
        "The c-index is higher to the one obtained by Cox proportional hazards model.\n",
        "\n",
        "We do a horizontal bar plot of the most important features/covariables."
      ]
    },
    {
      "cell_type": "code",
      "metadata": {
        "id": "qAMHkXvryEr_",
        "colab_type": "code",
        "outputId": "4d2bbc9a-0632-4434-8694-dea32a7742da",
        "colab": {
          "base_uri": "https://localhost:8080/",
          "height": 269
        }
      },
      "source": [
        "# feature importance\n",
        "fi_rsf = rsf.variable_importance_\n",
        "rfi_rsf =  np.abs(fi_rsf)/np.sum(np.abs(fi_rsf))\n",
        "lab = X_trn.columns\n",
        "df_fi_rsf = pd.DataFrame({'feature': lab, 'importance_rsf': rfi_rsf}).set_index('feature')\n",
        "df_fi_rsf = df_fi_rsf.sort_values(by='importance_rsf', ascending=True)\n",
        "df_fi_rsf.plot.barh(y='importance_rsf');"
      ],
      "execution_count": 28,
      "outputs": [
        {
          "output_type": "display_data",
          "data": {
            "image/png": "[encoded data removed]",
            "text/plain": [
              "<Figure size 432x288 with 1 Axes>"
            ]
          },
          "metadata": {
            "tags": []
          }
        }
      ]
    },
    {
      "cell_type": "code",
      "metadata": {
        "id": "pxY4WSX_a_fE",
        "colab_type": "code",
        "outputId": "4c10a372-01ac-4c05-f31c-27844ec0a1de",
        "colab": {
          "base_uri": "https://localhost:8080/",
          "height": 321
        }
      },
      "source": [
        "df_fi_rsf.sort_values(by='importance_rsf', ascending=False)"
      ],
      "execution_count": 29,
      "outputs": [
        {
          "output_type": "execute_result",
          "data": {
            "text/html": [
              "<div>\n",
              "<style scoped>\n",
              "    .dataframe tbody tr th:only-of-type {\n",
              "        vertical-align: middle;\n",
              "    }\n",
              "\n",
              "    .dataframe tbody tr th {\n",
              "        vertical-align: top;\n",
              "    }\n",
              "\n",
              "    .dataframe thead th {\n",
              "        text-align: right;\n",
              "    }\n",
              "</style>\n",
              "<table border=\"1\" class=\"dataframe\">\n",
              "  <thead>\n",
              "    <tr style=\"text-align: right;\">\n",
              "      <th></th>\n",
              "      <th>importance_rsf</th>\n",
              "    </tr>\n",
              "    <tr>\n",
              "      <th>feature</th>\n",
              "      <th></th>\n",
              "    </tr>\n",
              "  </thead>\n",
              "  <tbody>\n",
              "    <tr>\n",
              "      <th>pnodes</th>\n",
              "      <td>0.330066</td>\n",
              "    </tr>\n",
              "    <tr>\n",
              "      <th>progrec</th>\n",
              "      <td>0.228782</td>\n",
              "    </tr>\n",
              "    <tr>\n",
              "      <th>estrec</th>\n",
              "      <td>0.157901</td>\n",
              "    </tr>\n",
              "    <tr>\n",
              "      <th>horTh</th>\n",
              "      <td>0.103432</td>\n",
              "    </tr>\n",
              "    <tr>\n",
              "      <th>age</th>\n",
              "      <td>0.063189</td>\n",
              "    </tr>\n",
              "    <tr>\n",
              "      <th>tsize</th>\n",
              "      <td>0.060331</td>\n",
              "    </tr>\n",
              "    <tr>\n",
              "      <th>tgrade</th>\n",
              "      <td>0.053985</td>\n",
              "    </tr>\n",
              "    <tr>\n",
              "      <th>menostat</th>\n",
              "      <td>0.002315</td>\n",
              "    </tr>\n",
              "  </tbody>\n",
              "</table>\n",
              "</div>"
            ],
            "text/plain": [
              "          importance_rsf\n",
              "feature                 \n",
              "pnodes          0.330066\n",
              "progrec         0.228782\n",
              "estrec          0.157901\n",
              "horTh           0.103432\n",
              "age             0.063189\n",
              "tsize           0.060331\n",
              "tgrade          0.053985\n",
              "menostat        0.002315"
            ]
          },
          "metadata": {
            "tags": []
          },
          "execution_count": 29
        }
      ]
    },
    {
      "cell_type": "markdown",
      "metadata": {
        "id": "FNq6eumUbSd_",
        "colab_type": "text"
      },
      "source": [
        "The number of nodes (pnodes), the progesterone receptor (progrec), and the estrogen receptor (estrec) seem to be the most importan features for the Random survival forest model."
      ]
    },
    {
      "cell_type": "markdown",
      "metadata": {
        "id": "wdpvuv0WP-q-",
        "colab_type": "text"
      },
      "source": [
        "## Gradient boosting Cox PH"
      ]
    },
    {
      "cell_type": "markdown",
      "metadata": {
        "id": "Tp_nvt61QITW",
        "colab_type": "text"
      },
      "source": [
        "The third model we will use to make our risk predictions is [Gradient boosting Cox PH](https://scikit-survival.readthedocs.io/en/latest/generated/sksurv.ensemble.GradientBoostingSurvivalAnalysis.html)."
      ]
    },
    {
      "cell_type": "code",
      "metadata": {
        "id": "S5578lm6p-ID",
        "colab_type": "code",
        "outputId": "dd2eb1cc-ce20-48a4-d312-202f311de168",
        "colab": {
          "base_uri": "https://localhost:8080/",
          "height": 35
        }
      },
      "source": [
        "from sksurv.ensemble import GradientBoostingSurvivalAnalysis\n",
        "\n",
        "gb = GradientBoostingSurvivalAnalysis(random_state=42)\n",
        "gb.fit(X_trn, y_trn)\n",
        "ci_gb_trn = concordance_index_censored(y_trn[\"cens\"], y_trn[\"time\"], gb.predict(X_trn))[0]\n",
        "ci_gb_val = concordance_index_censored(y_val[\"cens\"], y_val[\"time\"], gb.predict(X_val))[0]\n",
        "print(f'c-index of Gradient Boosting Cox PH: train: {ci_gb_trn:.3f}, valid: {ci_gb_val:.3f}')"
      ],
      "execution_count": 30,
      "outputs": [
        {
          "output_type": "stream",
          "text": [
            "c-index of Gradient Boosting Cox PH: train: 0.797, valid: 0.708\n"
          ],
          "name": "stdout"
        }
      ]
    },
    {
      "cell_type": "markdown",
      "metadata": {
        "id": "08EMd5s_QeMX",
        "colab_type": "text"
      },
      "source": [
        "The c-index is higher to the one obtained by Cox proportional hazards model and to the one obtained by Random survival forest model.\n",
        "\n",
        "We do a horizontal bar plot of the most important features/covariables."
      ]
    },
    {
      "cell_type": "code",
      "metadata": {
        "id": "Fm3RJ_dV1pZJ",
        "colab_type": "code",
        "outputId": "b5828de5-b943-43d1-b2e6-f845218a8393",
        "colab": {
          "base_uri": "https://localhost:8080/",
          "height": 269
        }
      },
      "source": [
        "# feature importance\n",
        "fi_gb = gb.feature_importances_\n",
        "rfi_gb =  np.abs(fi_gb)/np.sum(np.abs(fi_gb))\n",
        "lab = X_trn.columns\n",
        "df_fi_gb = pd.DataFrame({'feature': lab, 'importance_gbc': rfi_gb}).set_index('feature')\n",
        "df_fi_gb = df_fi_gb.sort_values(by='importance_gbc', ascending=True)\n",
        "df_fi_gb.plot.barh(y='importance_gbc');"
      ],
      "execution_count": 31,
      "outputs": [
        {
          "output_type": "display_data",
          "data": {
            "image/png": "[encoded data removed]",
            "text/plain": [
              "<Figure size 432x288 with 1 Axes>"
            ]
          },
          "metadata": {
            "tags": []
          }
        }
      ]
    },
    {
      "cell_type": "code",
      "metadata": {
        "id": "bf354XUrnXCw",
        "colab_type": "code",
        "outputId": "e280121f-c7e4-4103-e40b-c203e59fcb9e",
        "colab": {
          "base_uri": "https://localhost:8080/",
          "height": 321
        }
      },
      "source": [
        "df_fi_gb.sort_values(by='importance_gbc', ascending=False)"
      ],
      "execution_count": 32,
      "outputs": [
        {
          "output_type": "execute_result",
          "data": {
            "text/html": [
              "<div>\n",
              "<style scoped>\n",
              "    .dataframe tbody tr th:only-of-type {\n",
              "        vertical-align: middle;\n",
              "    }\n",
              "\n",
              "    .dataframe tbody tr th {\n",
              "        vertical-align: top;\n",
              "    }\n",
              "\n",
              "    .dataframe thead th {\n",
              "        text-align: right;\n",
              "    }\n",
              "</style>\n",
              "<table border=\"1\" class=\"dataframe\">\n",
              "  <thead>\n",
              "    <tr style=\"text-align: right;\">\n",
              "      <th></th>\n",
              "      <th>importance_gbc</th>\n",
              "    </tr>\n",
              "    <tr>\n",
              "      <th>feature</th>\n",
              "      <th></th>\n",
              "    </tr>\n",
              "  </thead>\n",
              "  <tbody>\n",
              "    <tr>\n",
              "      <th>pnodes</th>\n",
              "      <td>0.328025</td>\n",
              "    </tr>\n",
              "    <tr>\n",
              "      <th>progrec</th>\n",
              "      <td>0.203267</td>\n",
              "    </tr>\n",
              "    <tr>\n",
              "      <th>age</th>\n",
              "      <td>0.189884</td>\n",
              "    </tr>\n",
              "    <tr>\n",
              "      <th>tsize</th>\n",
              "      <td>0.125400</td>\n",
              "    </tr>\n",
              "    <tr>\n",
              "      <th>estrec</th>\n",
              "      <td>0.097504</td>\n",
              "    </tr>\n",
              "    <tr>\n",
              "      <th>horTh</th>\n",
              "      <td>0.044402</td>\n",
              "    </tr>\n",
              "    <tr>\n",
              "      <th>tgrade</th>\n",
              "      <td>0.011178</td>\n",
              "    </tr>\n",
              "    <tr>\n",
              "      <th>menostat</th>\n",
              "      <td>0.000341</td>\n",
              "    </tr>\n",
              "  </tbody>\n",
              "</table>\n",
              "</div>"
            ],
            "text/plain": [
              "          importance_gbc\n",
              "feature                 \n",
              "pnodes          0.328025\n",
              "progrec         0.203267\n",
              "age             0.189884\n",
              "tsize           0.125400\n",
              "estrec          0.097504\n",
              "horTh           0.044402\n",
              "tgrade          0.011178\n",
              "menostat        0.000341"
            ]
          },
          "metadata": {
            "tags": []
          },
          "execution_count": 32
        }
      ]
    },
    {
      "cell_type": "markdown",
      "metadata": {
        "id": "Wz-oZKkr5Hjc",
        "colab_type": "text"
      },
      "source": [
        "The number of nodes (pnodes), the progesterone receptor (progrec), and age seem to be the most importan features for the Gradient boosting Cox PH model."
      ]
    },
    {
      "cell_type": "markdown",
      "metadata": {
        "id": "K-zpliYX_ddi",
        "colab_type": "text"
      },
      "source": [
        "It may be the case that it was just luck on the split of our dataset which produced the advantage of Gradient boosting Cox PH compared to Random survival forest and Cox proportional hazards.\n",
        "\n",
        "Let's now compare these approaches with several different splits of the training and validation datasets."
      ]
    },
    {
      "cell_type": "code",
      "metadata": {
        "id": "Pd0S7rYMUFuJ",
        "colab_type": "code",
        "colab": {}
      },
      "source": [
        "# choose 20 random seeds\n",
        "np.random.seed(0)\n",
        "seeds = np.random.permutation(1000)[:20]"
      ],
      "execution_count": 0,
      "outputs": []
    },
    {
      "cell_type": "code",
      "metadata": {
        "id": "4_CQUUOeZGHs",
        "colab_type": "code",
        "colab": {}
      },
      "source": [
        "from sklearn.preprocessing import StandardScaler\n",
        "from sklearn.pipeline import make_pipeline\n",
        "\n",
        "cox_scores = []\n",
        "gb_scores = []\n",
        "rsf_scores = []\n",
        "for _seed in seeds:\n",
        "  X_trn, X_val, y_trn, y_val = train_test_split(X, y, test_size=0.2, random_state=_seed)\n",
        "  \n",
        "  cox = make_pipeline(StandardScaler(), CoxPHSurvivalAnalysis())\n",
        "  cox.fit(X_trn, y_trn)\n",
        "  cox_scores.append(cox.score(X_val, y_val))\n",
        "  \n",
        "  gb = GradientBoostingSurvivalAnalysis(random_state=_seed)\n",
        "  gb.fit(X_trn, y_trn)\n",
        "  gb_scores.append(gb.score(X_val, y_val))  \n",
        "\n",
        "  rsf = RandomSurvivalForestModel(num_trees=200)\n",
        "  df_y_trn = target2df(y_trn)\n",
        "  df_y_val = target2df(y_val)\n",
        "  rsf.fit(X_trn, df_y_trn[\"time\"], df_y_trn[\"event\"], seed=_seed)\n",
        "  rsf_scores.append(concordance_index(rsf, X_val, df_y_val[\"time\"], df_y_val[\"event\"]))"
      ],
      "execution_count": 0,
      "outputs": []
    },
    {
      "cell_type": "code",
      "metadata": {
        "id": "PoR41GvHb_2U",
        "colab_type": "code",
        "outputId": "ba6234e5-3fee-48de-b0c9-706dd790afbd",
        "colab": {
          "base_uri": "https://localhost:8080/",
          "height": 70
        }
      },
      "source": [
        "print(f'Cox proportional hazards model: Mean c-index: {np.mean(cox_scores):.3f}, standard deviation: {np.std(cox_scores):.3f}')\n",
        "print(f'Random Survival Forest model: Mean c-index: {np.mean(rsf_scores):.3f}, standard deviation: {np.std(rsf_scores):.3f}')\n",
        "print(f'Gradient boosting Cox PH model: Mean c-index: {np.mean(gb_scores):.3f}, standard deviation: {np.std(gb_scores):.3f}')"
      ],
      "execution_count": 35,
      "outputs": [
        {
          "output_type": "stream",
          "text": [
            "Cox proportional hazards model: Mean c-index: 0.664, standard deviation: 0.035\n",
            "Random Survival Forest model: Mean c-index: 0.676, standard deviation: 0.036\n",
            "Gradient boosting Cox PH model: Mean c-index: 0.689, standard deviation: 0.029\n"
          ],
          "name": "stdout"
        }
      ]
    },
    {
      "cell_type": "code",
      "metadata": {
        "id": "OQKYd5FKa42E",
        "colab_type": "code",
        "outputId": "9746c167-b666-43d9-faeb-d8fff66ad71d",
        "colab": {
          "base_uri": "https://localhost:8080/",
          "height": 383
        }
      },
      "source": [
        "data = [cox_scores, rsf_scores, gb_scores]\n",
        "green_diamond = dict(markerfacecolor='g', marker='D')\n",
        "fig1, ax1 = plt.subplots()\n",
        "ax1.set_title('Concordance indexes for Cox proportional hazards, Random Survival Forest, and Gradient boosting Cox PH')\n",
        "ax1.boxplot(data, notch=False, flierprops=green_diamond)\n",
        "ax1.set_xticklabels(['Cox proportional hazards', 'Random Survival Forest', 'Gradient boosting Cox PH'], rotation=45)\n",
        "ax1.set_xlabel('Models')\n",
        "ax1.set_ylabel('c-index')\n",
        "plt.show()"
      ],
      "execution_count": 36,
      "outputs": [
        {
          "output_type": "display_data",
          "data": {
            "image/png": "[encoded data removed]",
            "text/plain": [
              "<Figure size 432x288 with 1 Axes>"
            ]
          },
          "metadata": {
            "tags": []
          }
        }
      ]
    },
    {
      "cell_type": "markdown",
      "metadata": {
        "id": "Y34lKnHvS3Ac",
        "colab_type": "text"
      },
      "source": [
        "We look at the difference between the c-indexes of Gradient Boosting Cox PH and Cox proportional hazards."
      ]
    },
    {
      "cell_type": "code",
      "metadata": {
        "id": "_hO8SpN-SrtJ",
        "colab_type": "code",
        "colab": {}
      },
      "source": [
        "data1 = [gb_scores[i] - cox_scores[i] for i in range(len(gb_scores))]\n",
        "data2 = [gb_scores[i] - rsf_scores[i] for i in range(len(gb_scores))]"
      ],
      "execution_count": 0,
      "outputs": []
    },
    {
      "cell_type": "code",
      "metadata": {
        "id": "5KZSdoqzeZun",
        "colab_type": "code",
        "colab": {}
      },
      "source": [
        "data = [data1, data2]"
      ],
      "execution_count": 0,
      "outputs": []
    },
    {
      "cell_type": "code",
      "metadata": {
        "id": "iZNGazQ1StmI",
        "colab_type": "code",
        "outputId": "93a8ba27-d987-49c5-f1c6-bbbb499a889e",
        "colab": {
          "base_uri": "https://localhost:8080/",
          "height": 35
        }
      },
      "source": [
        "print(f'Difference c-indexes of Gradient boosting Cox PH minus Cox proportional hazards: mean :{np.mean(data1):.3f}, standard deviation: {np.std(data1):.3f}')"
      ],
      "execution_count": 39,
      "outputs": [
        {
          "output_type": "stream",
          "text": [
            "Difference c-indexes of Gradient boosting Cox PH minus Cox proportional hazards: mean :0.025, standard deviation: 0.028\n"
          ],
          "name": "stdout"
        }
      ]
    },
    {
      "cell_type": "code",
      "metadata": {
        "id": "naJklBtbeyes",
        "colab_type": "code",
        "outputId": "6f4f482e-80b0-4a2d-9be2-44dca474d574",
        "colab": {
          "base_uri": "https://localhost:8080/",
          "height": 35
        }
      },
      "source": [
        "print(f'Difference c-indexes of Gradient boosting Cox PH minus Random survival forest: mean :{np.mean(data2):.3f}, standard deviation: {np.std(data2):.3f}')"
      ],
      "execution_count": 40,
      "outputs": [
        {
          "output_type": "stream",
          "text": [
            "Difference c-indexes of Gradient boosting Cox PH minus Random survival forest: mean :0.013, standard deviation: 0.031\n"
          ],
          "name": "stdout"
        }
      ]
    },
    {
      "cell_type": "code",
      "metadata": {
        "id": "QlrtJQQdfCwU",
        "colab_type": "code",
        "outputId": "c1f845f0-8505-4c9f-859e-9806ccfad16a",
        "colab": {
          "base_uri": "https://localhost:8080/",
          "height": 445
        }
      },
      "source": [
        "green_diamond = dict(markerfacecolor='g', marker='D')\n",
        "fig1, ax1 = plt.subplots()\n",
        "ax1.set_title('Difference of c-indexes of Gradient boosting Cox PH minus Cox proportional hazards')\n",
        "ax1.boxplot(data, notch=False, flierprops=green_diamond)\n",
        "ax1.set_xticklabels(['Diff GB Cox PH minus Cox proportional hazards', 'Diff GB Cox PH minus Random Survival Forest'], rotation=45)\n",
        "ax1.set_xlabel('')\n",
        "ax1.set_ylabel('c-index')\n",
        "plt.show()"
      ],
      "execution_count": 41,
      "outputs": [
        {
          "output_type": "display_data",
          "data": {
            "image/png": "[encoded data removed]",
            "text/plain": [
              "<Figure size 432x288 with 1 Axes>"
            ]
          },
          "metadata": {
            "tags": []
          }
        }
      ]
    },
    {
      "cell_type": "code",
      "metadata": {
        "id": "DHrW4me6frt7",
        "colab_type": "code",
        "outputId": "12922648-db47-4d26-f6b7-f10a93a66c8b",
        "colab": {
          "base_uri": "https://localhost:8080/",
          "height": 35
        }
      },
      "source": [
        "print(f'Percentage of times Gradient boosting Cox PH beats Cox proportional hazards: {100*sum(x > 0 for x in data1)/len(data1):.0f}%')"
      ],
      "execution_count": 42,
      "outputs": [
        {
          "output_type": "stream",
          "text": [
            "Percentage of times Gradient boosting Cox PH beats Cox proportional hazards: 80%\n"
          ],
          "name": "stdout"
        }
      ]
    },
    {
      "cell_type": "code",
      "metadata": {
        "id": "ucVmWAZPgEW1",
        "colab_type": "code",
        "outputId": "9e43c3d1-3fe5-4725-def8-86255613779e",
        "colab": {
          "base_uri": "https://localhost:8080/",
          "height": 35
        }
      },
      "source": [
        "print(f'Percentage of times Gradient boosting Cox PH beats Random survival forest: {100*sum(x > 0 for x in data2)/len(data2):.0f}%')"
      ],
      "execution_count": 43,
      "outputs": [
        {
          "output_type": "stream",
          "text": [
            "Percentage of times Gradient boosting Cox PH beats Random survival forest: 60%\n"
          ],
          "name": "stdout"
        }
      ]
    },
    {
      "cell_type": "markdown",
      "metadata": {
        "id": "jW2ke1emAhre",
        "colab_type": "text"
      },
      "source": [
        "In most of the cases (80%), Gradient boosting Cox PH model performs better than Cox proportional hazards model in this dataset. In most of the cases (60%), Gradient boosting Cox PH performs better than Random survival forest, however this percentage is smaller."
      ]
    }
  ]
}